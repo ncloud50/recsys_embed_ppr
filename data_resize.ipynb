{
 "cells": [
  {
   "cell_type": "code",
   "execution_count": 8,
   "metadata": {},
   "outputs": [],
   "source": [
    "import pandas as pd\n",
    "import matplotlib.pyplot as plt\n",
    "import numpy as np\n",
    "import networkx as nx"
   ]
  },
  {
   "cell_type": "code",
   "execution_count": 57,
   "metadata": {},
   "outputs": [
    {
     "output_type": "execute_result",
     "data": {
      "text/plain": "       reviewerID        asin\n0  A1V6B6TNIC10QE  0143026860\n1  A2F5GHSXFQ0W6J  0143026860\n2  A1572GUYS7DGSR  0143026860\n3   A1PSGLFK1NSVO  0143026860\n4   A6IKXKZMTKGSC  0143026860",
      "text/html": "<div>\n<style scoped>\n    .dataframe tbody tr th:only-of-type {\n        vertical-align: middle;\n    }\n\n    .dataframe tbody tr th {\n        vertical-align: top;\n    }\n\n    .dataframe thead th {\n        text-align: right;\n    }\n</style>\n<table border=\"1\" class=\"dataframe\">\n  <thead>\n    <tr style=\"text-align: right;\">\n      <th></th>\n      <th>reviewerID</th>\n      <th>asin</th>\n    </tr>\n  </thead>\n  <tbody>\n    <tr>\n      <th>0</th>\n      <td>A1V6B6TNIC10QE</td>\n      <td>0143026860</td>\n    </tr>\n    <tr>\n      <th>1</th>\n      <td>A2F5GHSXFQ0W6J</td>\n      <td>0143026860</td>\n    </tr>\n    <tr>\n      <th>2</th>\n      <td>A1572GUYS7DGSR</td>\n      <td>0143026860</td>\n    </tr>\n    <tr>\n      <th>3</th>\n      <td>A1PSGLFK1NSVO</td>\n      <td>0143026860</td>\n    </tr>\n    <tr>\n      <th>4</th>\n      <td>A6IKXKZMTKGSC</td>\n      <td>0143026860</td>\n    </tr>\n  </tbody>\n</table>\n</div>"
     },
     "metadata": {},
     "execution_count": 57
    }
   ],
   "source": [
    "user_item_df = pd.read_csv('./All_Beauty/user_item.csv')\n",
    "user_item_df.head()"
   ]
  },
  {
   "cell_type": "markdown",
   "metadata": {},
   "source": [
    "# k-coreグラフを作る\n",
    "\n",
    "- 少なくとも2-core\n",
    "- [networkx.algorithms.core.k_core](https://networkx.github.io/documentation/stable/reference/algorithms/generated/networkx.algorithms.core.k_core.html#networkx.algorithms.core.k_core)\n"
   ]
  },
  {
   "cell_type": "code",
   "execution_count": 33,
   "metadata": {},
   "outputs": [],
   "source": [
    "edges = user_item_df.values\n",
    "G = nx.DiGraph()\n",
    "G.add_edges_from(edges)"
   ]
  },
  {
   "cell_type": "code",
   "execution_count": 43,
   "metadata": {
    "tags": []
   },
   "outputs": [
    {
     "output_type": "stream",
     "name": "stdout",
     "text": "edge 361605\nnode 356624\n"
    }
   ],
   "source": [
    "print('edge {}'.format(len(G.edges())))\n",
    "print('node {}'.format(len(G.nodes())))"
   ]
  },
  {
   "cell_type": "code",
   "execution_count": 50,
   "metadata": {
    "tags": []
   },
   "outputs": [
    {
     "output_type": "stream",
     "name": "stdout",
     "text": "edge 56348\nnode 29092\n"
    }
   ],
   "source": [
    "k_G = nx.algorithms.core.k_core(G, 2)\n",
    "print('edge {}'.format(len(k_G.edges())))\n",
    "print('node {}'.format(len(k_G.nodes())))"
   ]
  },
  {
   "cell_type": "code",
   "execution_count": 56,
   "metadata": {},
   "outputs": [],
   "source": [
    "row = []\n",
    "for edge in k_G.edges():\n",
    "    row.append([edge[0], edge[1]])\n",
    "\n",
    "df = pd.DataFrame(row, columns=['reviewerID', 'asin'])\n",
    "df.to_csv('All_Beauty_2core/user_item.csv')"
   ]
  },
  {
   "cell_type": "code",
   "execution_count": null,
   "metadata": {},
   "outputs": [],
   "source": []
  }
 ],
 "metadata": {
  "kernelspec": {
   "display_name": "Python 3",
   "language": "python",
   "name": "python3"
  },
  "language_info": {
   "codemirror_mode": {
    "name": "ipython",
    "version": 3
   },
   "file_extension": ".py",
   "mimetype": "text/x-python",
   "name": "python",
   "nbconvert_exporter": "python",
   "pygments_lexer": "ipython3",
   "version": "3.7.2-final"
  }
 },
 "nbformat": 4,
 "nbformat_minor": 4
}