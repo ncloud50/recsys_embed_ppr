{
 "cells": [
  {
   "cell_type": "markdown",
   "metadata": {},
   "source": [
    "# PPRを動かしたい"
   ]
  },
  {
   "cell_type": "code",
   "execution_count": 255,
   "metadata": {},
   "outputs": [],
   "source": [
    "import networkx as nx\n",
    "import pandas as pd\n",
    "import matplotlib.pyplot as plt\n",
    "import numpy as np\n",
    "import pickle\n",
    "import time\n",
    "import scipy\n",
    "\n",
    "import torch\n",
    "import optuna\n",
    "\n",
    "import model3\n",
    "import dataloader\n",
    "\n",
    "from importlib import reload\n",
    "\n",
    "device='cpu'"
   ]
  },
  {
   "cell_type": "code",
   "execution_count": 260,
   "metadata": {},
   "outputs": [
    {
     "output_type": "execute_result",
     "data": {
      "text/plain": "<module 'dataloader' from '/Users/suzukitakafumi/workspace/python_env/workspace/recsys_embed_ppr/Proposed2/dataloader.py'>"
     },
     "metadata": {},
     "execution_count": 260
    }
   ],
   "source": [
    "reload(model3)\n",
    "reload(dataloader)"
   ]
  },
  {
   "cell_type": "markdown",
   "metadata": {},
   "source": [
    "# データロード"
   ]
  },
  {
   "cell_type": "code",
   "execution_count": 222,
   "metadata": {
    "tags": []
   },
   "outputs": [],
   "source": [
    "data_dir = '../data_luxury_5core/valid1'\n",
    "dataset = dataloader.AmazonDataset(data_dir, model_name='TransE')"
   ]
  },
  {
   "cell_type": "code",
   "execution_count": 261,
   "metadata": {},
   "outputs": [],
   "source": [
    "reload(model3)\n",
    "embedding_dim = 128\n",
    "relation_size = len(set(list(dataset.triplet_df['relation'])))\n",
    "entity_size = len(dataset.entity_list)\n",
    "alpha = 0.1\n",
    "mu = 0.8\n",
    "kappa = [0.01, 0.02, 0.03]\n",
    "#lambda_ = 0.5\n",
    "model = model3.PPR_TransE(embedding_dim, relation_size, entity_size, data_dir, alpha, mu, kappa)"
   ]
  },
  {
   "cell_type": "code",
   "execution_count": 265,
   "metadata": {},
   "outputs": [
    {
     "output_type": "execute_result",
     "data": {
      "text/plain": "array([4406, 3555, 3108, 2428, 5163, 5221, 3942, 5282, 2416, 2087, 4041,\n       3471, 4697, 4659, 4749, 1595, 4066, 3065, 2280])"
     },
     "metadata": {},
     "execution_count": 265
    }
   ],
   "source": [
    "batch = dataset.get_batch(64)\n",
    "posi_batch, nega_batch, ppr_vec, ppr_idx= batch\n",
    "h = torch.tensor(posi_batch[:, 0], dtype=torch.long, device=device)\n",
    "t = torch.tensor(posi_batch[:, 1], dtype=torch.long, device=device)\n",
    "r = torch.tensor(posi_batch[:, 2], dtype=torch.long, device=device)\n",
    "\n",
    "n_h = torch.tensor(nega_batch[:, 0], dtype=torch.long, device=device)\n",
    "n_t = torch.tensor(nega_batch[:, 1], dtype=torch.long, device=device)\n",
    "n_r = torch.tensor(nega_batch[:, 2], dtype=torch.long, device=device)\n",
    "\n",
    "ppr_idx"
   ]
  },
  {
   "cell_type": "code",
   "execution_count": 270,
   "metadata": {
    "tags": []
   },
   "outputs": [
    {
     "output_type": "stream",
     "name": "stdout",
     "text": "torch.Size([1581])\ntorch.Size([1581, 1581])\ntorch.Size([3819])\ntorch.Size([3819, 3819])\ntorch.Size([7])\ntorch.Size([7, 7])\n"
    }
   ],
   "source": [
    "score, vec = model.predict(h, t, r, n_h, n_t, n_r, ppr_vec, ppr_idx)"
   ]
  },
  {
   "cell_type": "code",
   "execution_count": 274,
   "metadata": {},
   "outputs": [
    {
     "output_type": "execute_result",
     "data": {
      "text/plain": "tensor(2.2878, dtype=torch.float64, grad_fn=<NormBackward0>)"
     },
     "metadata": {},
     "execution_count": 274
    }
   ],
   "source": [
    "torch.norm(torch.tensor(ppr_vec) - vec)"
   ]
  },
  {
   "cell_type": "code",
   "execution_count": null,
   "metadata": {},
   "outputs": [],
   "source": []
  },
  {
   "cell_type": "code",
   "execution_count": 249,
   "metadata": {
    "tags": []
   },
   "outputs": [
    {
     "output_type": "stream",
     "name": "stdout",
     "text": "torch.Size([1581])\ntorch.Size([1581, 1581])\ntorch.Size([3819])\ntorch.Size([3819, 3819])\ntorch.Size([7])\ntorch.Size([7, 7])\n"
    },
    {
     "output_type": "execute_result",
     "data": {
      "text/plain": "(39, 5407)"
     },
     "metadata": {},
     "execution_count": 249
    }
   ],
   "source": [
    "M = model.mk_sparse_sim_mat()\n",
    "batch = dataset.get_batch(128)\n",
    "ppr_vec = batch[-2]\n",
    "H = nx.to_scipy_sparse_matrix(model.G)\n",
    "idx = batch[-1]\n",
    "bias = []\n",
    "for i in idx:\n",
    "    tmp = np.array([0 for i in range(len(dataset.entity_list))])\n",
    "    tmp[i] = 1\n",
    "    bias.append(tmp[np.newaxis])\n",
    "bias = np.concatenate(bias)\n",
    "bias.shape"
   ]
  },
  {
   "cell_type": "code",
   "execution_count": 227,
   "metadata": {
    "tags": []
   },
   "outputs": [
    {
     "output_type": "stream",
     "name": "stdout",
     "text": "torch.Size([1581])\ntorch.Size([1581, 1581])\ntorch.Size([3819])\ntorch.Size([3819, 3819])\ntorch.Size([7])\ntorch.Size([7, 7])\n"
    },
    {
     "output_type": "execute_result",
     "data": {
      "text/plain": "torch.Size([39, 5407])"
     },
     "metadata": {},
     "execution_count": 227
    }
   ],
   "source": [
    "M = model.mk_sparse_sim_mat()\n",
    "ppr_tensor = torch.tensor(ppr_vec, dtype=torch.float, device='cpu')\n",
    "vec = torch.tensor([[] for i in range(ppr_tensor.shape[0])])\n",
    "pre_size = 0\n",
    "for mat in M:\n",
    "    size = mat.shape[0]\n",
    "    tmp = torch.mm(ppr_tensor[:, pre_size:size+pre_size], mat)\n",
    "    vec = torch.cat([vec, tmp], dim=1)\n",
    "    pre_size = size\n",
    "vec.shape"
   ]
  },
  {
   "cell_type": "code",
   "execution_count": 251,
   "metadata": {},
   "outputs": [
    {
     "output_type": "execute_result",
     "data": {
      "text/plain": "tensor([[0.0000e+00, 0.0000e+00, 2.4036e-08,  ..., 0.0000e+00, 0.0000e+00,\n         0.0000e+00],\n        [0.0000e+00, 0.0000e+00, 2.4036e-08,  ..., 0.0000e+00, 0.0000e+00,\n         0.0000e+00],\n        [0.0000e+00, 0.0000e+00, 2.4036e-08,  ..., 0.0000e+00, 0.0000e+00,\n         0.0000e+00],\n        ...,\n        [0.0000e+00, 0.0000e+00, 2.4036e-08,  ..., 0.0000e+00, 0.0000e+00,\n         0.0000e+00],\n        [0.0000e+00, 0.0000e+00, 2.4036e-08,  ..., 0.0000e+00, 0.0000e+00,\n         0.0000e+00],\n        [0.0000e+00, 0.0000e+00, 2.4036e-08,  ..., 0.0000e+00, 0.0000e+00,\n         0.0000e+00]], dtype=torch.float64)"
     },
     "metadata": {},
     "execution_count": 251
    }
   ],
   "source": [
    "vec_sparse = mu * alpha * ppr_vec * H + (1 - mu) * bias\n",
    "vec_sparse.shape\n",
    "torch.tensor(vec_sparse)"
   ]
  },
  {
   "cell_type": "code",
   "execution_count": 248,
   "metadata": {
    "tags": []
   },
   "outputs": [
    {
     "output_type": "execute_result",
     "data": {
      "text/plain": "39"
     },
     "metadata": {},
     "execution_count": 248
    }
   ],
   "source": [
    "idx = batch[-1]\n",
    "bias = []\n",
    "for i in idx:\n",
    "    tmp = np.array([0 for i in range(len(dataset.entity_list))])\n",
    "    tmp[i] = 1\n",
    "    bias.append(tmp[np.newaxis])\n",
    "bias = np.concatenate(bias)\n",
    "bias.shape"
   ]
  },
  {
   "cell_type": "code",
   "execution_count": 72,
   "metadata": {},
   "outputs": [],
   "source": [
    "# torch.sparse\n",
    "coo = torch.tensor([H.row, H.col], dtype=torch.long)\n",
    "v = torch.tensor(H.data, dtype=torch.float)\n",
    "H = torch.sparse.FloatTensor(coo, v, torch.Size(H.shape))"
   ]
  },
  {
   "cell_type": "code",
   "execution_count": 225,
   "metadata": {
    "tags": []
   },
   "outputs": [
    {
     "output_type": "execute_result",
     "data": {
      "text/plain": "array([[0.00000000e+00, 0.00000000e+00, 1.98896018e-07, ...,\n        0.00000000e+00, 0.00000000e+00, 0.00000000e+00],\n       [0.00000000e+00, 0.00000000e+00, 1.98896018e-07, ...,\n        0.00000000e+00, 0.00000000e+00, 0.00000000e+00],\n       [0.00000000e+00, 0.00000000e+00, 1.98896018e-07, ...,\n        0.00000000e+00, 0.00000000e+00, 0.00000000e+00],\n       ...,\n       [0.00000000e+00, 0.00000000e+00, 1.98896018e-07, ...,\n        0.00000000e+00, 0.00000000e+00, 0.00000000e+00],\n       [0.00000000e+00, 0.00000000e+00, 1.98896018e-07, ...,\n        0.00000000e+00, 0.00000000e+00, 0.00000000e+00],\n       [0.00000000e+00, 0.00000000e+00, 1.80269614e-08, ...,\n        0.00000000e+00, 0.00000000e+00, 0.00000000e+00]])"
     },
     "metadata": {},
     "execution_count": 225
    }
   ],
   "source": [
    "batch = dataset.get_batch(128)\n",
    "ppr_vec = batch[-2]\n",
    "batch[-2]"
   ]
  },
  {
   "cell_type": "code",
   "execution_count": 90,
   "metadata": {},
   "outputs": [],
   "source": [
    "ppr_vec = torch.tensor(batch[-1], dtype=torch.float)"
   ]
  },
  {
   "cell_type": "code",
   "execution_count": 73,
   "metadata": {},
   "outputs": [],
   "source": [
    "# torch.sparse\n",
    "tmp = scipy.sparse.coo_matrix(batch[-1])\n",
    "coo = torch.tensor([tmp.row, tmp.col], dtype=torch.long)\n",
    "v = torch.tensor(tmp.data, dtype=torch.float)\n",
    "ppr_vec = torch.sparse.FloatTensor(coo, v, torch.Size(tmp.shape))"
   ]
  },
  {
   "cell_type": "code",
   "execution_count": 126,
   "metadata": {},
   "outputs": [
    {
     "output_type": "execute_result",
     "data": {
      "text/plain": "<5407x5407 sparse matrix of type '<class 'numpy.int64'>'\n\twith 21466 stored elements in Compressed Sparse Row format>"
     },
     "metadata": {},
     "execution_count": 126
    }
   ],
   "source": [
    "H"
   ]
  },
  {
   "cell_type": "code",
   "execution_count": 130,
   "metadata": {},
   "outputs": [
    {
     "output_type": "execute_result",
     "data": {
      "text/plain": "(39, 5407)"
     },
     "metadata": {},
     "execution_count": 130
    }
   ],
   "source": [
    "ppr_vec.shape"
   ]
  },
  {
   "cell_type": "code",
   "execution_count": 136,
   "metadata": {},
   "outputs": [],
   "source": [
    "ppr_vec_s = scipy.sparse.csr_matrix(ppr_vec)"
   ]
  },
  {
   "cell_type": "code",
   "execution_count": 146,
   "metadata": {},
   "outputs": [],
   "source": [
    "a = ppr_vec_s * H"
   ]
  },
  {
   "cell_type": "code",
   "execution_count": 147,
   "metadata": {},
   "outputs": [
    {
     "output_type": "execute_result",
     "data": {
      "text/plain": "<39x5407 sparse matrix of type '<class 'numpy.float64'>'\n\twith 63317 stored elements in Compressed Sparse Row format>"
     },
     "metadata": {},
     "execution_count": 147
    }
   ],
   "source": [
    "a"
   ]
  },
  {
   "cell_type": "code",
   "execution_count": 150,
   "metadata": {
    "tags": []
   },
   "outputs": [
    {
     "output_type": "stream",
     "name": "stdout",
     "text": "(0, 0)\t1\n  (0, 1)\t2\n  (0, 1)\t1\n  (1, 0)\t1\n  (1, 1)\t2\n"
    }
   ],
   "source": [
    "a = np.array([[1, 2]])\n",
    "a = scipy.sparse.csr_matrix(a)\n",
    "b = np.array([[0, 1], [1, 2]])\n",
    "b = scipy.sparse.csr_matrix(b)\n",
    "print(a)\n",
    "print(b)"
   ]
  },
  {
   "cell_type": "code",
   "execution_count": 153,
   "metadata": {},
   "outputs": [
    {
     "output_type": "execute_result",
     "data": {
      "text/plain": "matrix([[2, 5]], dtype=int64)"
     },
     "metadata": {},
     "execution_count": 153
    }
   ],
   "source": [
    "c = a * b\n",
    "c.todense()"
   ]
  },
  {
   "cell_type": "code",
   "execution_count": 166,
   "metadata": {
    "tags": []
   },
   "outputs": [
    {
     "output_type": "stream",
     "name": "stdout",
     "text": "tensor([], size=(3, 0))\ntensor([[1.],\n        [1.],\n        [1.]])\ntensor([[1.],\n        [1.],\n        [1.]])\ntorch.Size([3, 1])\n"
    }
   ],
   "source": [
    "v = torch.tensor([[] for i in range(3)])\n",
    "x = torch.tensor([[1.] for i in range(3)])\n",
    "print(v)\n",
    "print(x)\n",
    "\n",
    "y = torch.cat([v,x], dim=1)\n",
    "print(y)\n",
    "print(y.shape)"
   ]
  },
  {
   "cell_type": "code",
   "execution_count": 182,
   "metadata": {
    "tags": []
   },
   "outputs": [
    {
     "output_type": "stream",
     "name": "stdout",
     "text": "tensor([[0., 1., 1.],\n        [0., 1., 2.]])\ntensor([[0., 0., 0.],\n        [0., 1., 0.],\n        [0., 2., 0.]])\n"
    }
   ],
   "source": [
    "x = torch.tensor([[0., 1., i ** 2 + 1] for i in range(2)])\n",
    "A = torch.tensor([[0., i, 0.] for i in range(3)])\n",
    "print(x)\n",
    "print(A)"
   ]
  },
  {
   "cell_type": "code",
   "execution_count": 183,
   "metadata": {},
   "outputs": [
    {
     "output_type": "execute_result",
     "data": {
      "text/plain": "tensor([[0., 3., 0.],\n        [0., 5., 0.]])"
     },
     "metadata": {},
     "execution_count": 183
    }
   ],
   "source": [
    "torch.mm(x, A)"
   ]
  },
  {
   "cell_type": "code",
   "execution_count": 234,
   "metadata": {},
   "outputs": [
    {
     "output_type": "execute_result",
     "data": {
      "text/plain": "array(<generator object <genexpr> at 0x12c60b930>, dtype=object)"
     },
     "metadata": {},
     "execution_count": 234
    }
   ],
   "source": [
    "np.array([] for i in range(2))"
   ]
  },
  {
   "cell_type": "code",
   "execution_count": null,
   "metadata": {},
   "outputs": [],
   "source": []
  }
 ],
 "metadata": {
  "kernelspec": {
   "display_name": "Python 3",
   "language": "python",
   "name": "python3"
  },
  "language_info": {
   "codemirror_mode": {
    "name": "ipython",
    "version": 3
   },
   "file_extension": ".py",
   "mimetype": "text/x-python",
   "name": "python",
   "nbconvert_exporter": "python",
   "pygments_lexer": "ipython3",
   "version": "3.7.2-final"
  }
 },
 "nbformat": 4,
 "nbformat_minor": 4
}