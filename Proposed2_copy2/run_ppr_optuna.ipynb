{
 "cells": [
  {
   "cell_type": "markdown",
   "metadata": {},
   "source": [
    "# PPRを動かしたい"
   ]
  },
  {
   "cell_type": "code",
   "execution_count": 1,
   "metadata": {},
   "outputs": [],
   "source": [
    "import networkx as nx\n",
    "import pandas as pd\n",
    "import matplotlib.pyplot as plt\n",
    "import numpy as np\n",
    "import pickle\n",
    "import time\n",
    "\n",
    "import torch\n",
    "import optuna"
   ]
  },
  {
   "cell_type": "markdown",
   "metadata": {},
   "source": [
    "# データロード"
   ]
  },
  {
   "cell_type": "code",
   "execution_count": 4,
   "metadata": {},
   "outputs": [],
   "source": [
    "# データ読み込み\n",
    "triplet_df = pd.read_csv('../data_luxury_5core/triplet.csv')\n",
    "edges = [[r[0], r[1]] for r in triplet_df.values]\n",
    "\n",
    "entity_list = []\n",
    "user_list =[]\n",
    "item_list = []\n",
    "with open('../data_luxury_5core/entity_list.txt', 'r') as f:\n",
    "    for l in f:\n",
    "        entity_list.append(l.replace('\\n', ''))\n",
    "        \n",
    "with open('../data_luxury_5core/user_list.txt', 'r') as f:\n",
    "    for l in f:\n",
    "        user_list.append(l.replace('\\n', ''))\n",
    "        \n",
    "with open('../data_luxury_5core/item_list.txt', 'r') as f:\n",
    "    for l in f:\n",
    "        item_list.append(l.replace('\\n', ''))\n",
    "        \n",
    "        \n",
    "user_items_test_dict = pickle.load(open('../data_luxury_5core/user_items_test_dict.pickle', 'rb'))"
   ]
  },
  {
   "cell_type": "markdown",
   "metadata": {},
   "source": [
    "# ページランク"
   ]
  },
  {
   "cell_type": "code",
   "execution_count": 21,
   "metadata": {
    "tags": []
   },
   "outputs": [
    {
     "output_type": "stream",
     "name": "stdout",
     "text": "edges: 15938\nnodes: 5407\n"
    }
   ],
   "source": [
    "# グラフを作る\n",
    "G = nx.DiGraph()\n",
    "G.add_nodes_from([i for i in range(len(entity_list))])\n",
    "G.add_edges_from(edges)\n",
    "\n",
    "# tripletに重複が存在する\n",
    "\n",
    "print('edges: {}'.format(len(G.edges)))\n",
    "print('nodes: {}'.format(len(G.nodes)))\n",
    "\n",
    "\n",
    "user_idx = [entity_list.index(u) for u in user_list]\n",
    "\n",
    "\n",
    "def item_ppr(alpha):\n",
    "    ppr_mat = []\n",
    "    for i in range(len(entity_list)):\n",
    "        val = np.zeros(len(G.nodes))\n",
    "        val[i] = 1\n",
    "        k = [i for i in range(len(G.nodes))]\n",
    "        personal_vec = dict(zip(k, val))\n",
    "        #print(personal_vec)\n",
    "        ppr = nx.pagerank_scipy(G, alpha=alpha)\n",
    "        ppr_mat.append(list(ppr.values()))\n",
    "        if i > 2:\n",
    "            break\n",
    "    return np.array(ppr_mat)"
   ]
  },
  {
   "cell_type": "code",
   "execution_count": 22,
   "metadata": {},
   "outputs": [
    {
     "output_type": "execute_result",
     "data": {
      "text/plain": "(4, 5407)"
     },
     "metadata": {},
     "execution_count": 22
    }
   ],
   "source": [
    "mat = item_ppr(0.85)\n",
    "mat.shape"
   ]
  },
  {
   "cell_type": "markdown",
   "metadata": {},
   "source": [
    "# Evaluation"
   ]
  },
  {
   "cell_type": "code",
   "execution_count": 4,
   "metadata": {},
   "outputs": [],
   "source": [
    "user_idx = [entity_list.index(u) for u in user_list]\n",
    "\n",
    "\n",
    "def topn_precision(ranking_mat, user_items_dict, n=10):\n",
    "    not_count = 0\n",
    "    precision_sum = 0\n",
    "        \n",
    "    for i in range(len(ranking_mat)):\n",
    "        if len(user_items_dict[user_idx[i]]) == 0:\n",
    "            not_count += 1\n",
    "            continue\n",
    "        sorted_idx = ranking_mat[i]\n",
    "        topn_idx = sorted_idx[:n]  \n",
    "        hit = len(set(topn_idx) & set(user_items_dict[user_idx[i]]))\n",
    "        precision = hit / len(user_items_dict[user_idx[i]])\n",
    "        precision_sum += precision\n",
    "        \n",
    "    return precision_sum / (len(user_idx) - not_count)"
   ]
  },
  {
   "cell_type": "markdown",
   "metadata": {},
   "source": [
    "# Optuna"
   ]
  },
  {
   "cell_type": "code",
   "execution_count": 5,
   "metadata": {},
   "outputs": [],
   "source": [
    "def time_since(runtime):\n",
    "    mi = int(runtime / 60)\n",
    "    sec = int(runtime - mi * 60)\n",
    "    return (mi, sec)\n",
    "\n",
    "\n",
    "def objective(trial):\n",
    "    start = time.time()\n",
    "    alpha = trial.suggest_uniform('alpha', 0, 1)\n",
    "    ranking_mat = get_ranking_mat(alpha)\n",
    "    score = topn_precision(ranking_mat, user_items_test_dict)\n",
    "    mi, sec = time_since(time.time() - start)\n",
    "    print('{}m{}s'.format(mi, sec))\n",
    "    return -1 * score"
   ]
  },
  {
   "cell_type": "code",
   "execution_count": null,
   "metadata": {},
   "outputs": [
    {
     "name": "stdout",
     "output_type": "stream",
     "text": [
      "10m34s\n"
     ]
    },
    {
     "name": "stderr",
     "output_type": "stream",
     "text": [
      "[I 2020-07-04 17:12:08,074] Finished trial#0 with value: -0.1467979644613531 with parameters: {'alpha': 0.030872309473542248}. Best is trial#0 with value: -0.1467979644613531.\n"
     ]
    },
    {
     "name": "stdout",
     "output_type": "stream",
     "text": [
      "10m52s\n"
     ]
    },
    {
     "name": "stderr",
     "output_type": "stream",
     "text": [
      "[I 2020-07-04 17:23:01,115] Finished trial#1 with value: -0.14020407472100876 with parameters: {'alpha': 0.3456070199729967}. Best is trial#0 with value: -0.1467979644613531.\n"
     ]
    },
    {
     "name": "stdout",
     "output_type": "stream",
     "text": [
      "10m36s\n"
     ]
    },
    {
     "name": "stderr",
     "output_type": "stream",
     "text": [
      "[I 2020-07-04 17:33:38,157] Finished trial#2 with value: -0.14020407472100876 with parameters: {'alpha': 0.3643424017968895}. Best is trial#0 with value: -0.1467979644613531.\n"
     ]
    },
    {
     "name": "stdout",
     "output_type": "stream",
     "text": [
      "10m53s\n"
     ]
    },
    {
     "name": "stderr",
     "output_type": "stream",
     "text": [
      "[I 2020-07-04 17:44:32,121] Finished trial#3 with value: -0.12642436583658934 with parameters: {'alpha': 0.48552198208655606}. Best is trial#0 with value: -0.1467979644613531.\n"
     ]
    },
    {
     "name": "stdout",
     "output_type": "stream",
     "text": [
      "10m48s\n"
     ]
    },
    {
     "name": "stderr",
     "output_type": "stream",
     "text": [
      "[I 2020-07-04 17:55:20,920] Finished trial#4 with value: -0.10303468532177196 with parameters: {'alpha': 0.5413877085877248}. Best is trial#0 with value: -0.1467979644613531.\n"
     ]
    },
    {
     "name": "stdout",
     "output_type": "stream",
     "text": [
      "10m51s\n"
     ]
    },
    {
     "name": "stderr",
     "output_type": "stream",
     "text": [
      "[I 2020-07-04 18:06:12,288] Finished trial#5 with value: -0.06699829738453084 with parameters: {'alpha': 0.6644803143296887}. Best is trial#0 with value: -0.1467979644613531.\n"
     ]
    },
    {
     "name": "stdout",
     "output_type": "stream",
     "text": [
      "11m25s\n"
     ]
    },
    {
     "name": "stderr",
     "output_type": "stream",
     "text": [
      "[I 2020-07-04 18:17:38,120] Finished trial#6 with value: -0.018151265023270503 with parameters: {'alpha': 0.834960907105007}. Best is trial#0 with value: -0.1467979644613531.\n"
     ]
    },
    {
     "name": "stdout",
     "output_type": "stream",
     "text": [
      "10m47s\n"
     ]
    },
    {
     "name": "stderr",
     "output_type": "stream",
     "text": [
      "[I 2020-07-04 18:28:25,995] Finished trial#7 with value: -0.06699829738453084 with parameters: {'alpha': 0.6734461747311459}. Best is trial#0 with value: -0.1467979644613531.\n"
     ]
    },
    {
     "name": "stdout",
     "output_type": "stream",
     "text": [
      "10m43s\n"
     ]
    },
    {
     "name": "stderr",
     "output_type": "stream",
     "text": [
      "[I 2020-07-04 18:39:09,993] Finished trial#8 with value: -0.14020407472100876 with parameters: {'alpha': 0.12444306704299513}. Best is trial#0 with value: -0.1467979644613531.\n"
     ]
    }
   ],
   "source": [
    "study = optuna.create_study()\n",
    "study.optimize(objective, n_trials=10)"
   ]
  },
  {
   "cell_type": "code",
   "execution_count": 30,
   "metadata": {},
   "outputs": [
    {
     "name": "stdout",
     "output_type": "stream",
     "text": [
      "0.005537243893912877\n"
     ]
    }
   ],
   "source": [
    "if __name__ == '__main__':\n",
    "    ranking_mat = get_ranking_mat()\n",
    "    score = topn_precision(ranking_mat, user_items_test_dict)\n",
    "    print(score)"
   ]
  },
  {
   "cell_type": "code",
   "execution_count": null,
   "metadata": {},
   "outputs": [],
   "source": [
    "# パラメータを保存しておく\n",
    "df = study.trials_dataframe() # pandasのDataFrame形式\n",
    "df.to_csv('hyparams_result.csv')"
   ]
  },
  {
   "cell_type": "code",
   "execution_count": null,
   "metadata": {},
   "outputs": [],
   "source": []
  },
  {
   "cell_type": "code",
   "execution_count": null,
   "metadata": {},
   "outputs": [],
   "source": []
  }
 ],
 "metadata": {
  "kernelspec": {
   "display_name": "Python 3",
   "language": "python",
   "name": "python3"
  },
  "language_info": {
   "codemirror_mode": {
    "name": "ipython",
    "version": 3
   },
   "file_extension": ".py",
   "mimetype": "text/x-python",
   "name": "python",
   "nbconvert_exporter": "python",
   "pygments_lexer": "ipython3",
   "version": "3.7.2-final"
  }
 },
 "nbformat": 4,
 "nbformat_minor": 4
}