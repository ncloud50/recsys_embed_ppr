{
 "cells": [
  {
   "cell_type": "code",
   "execution_count": null,
   "metadata": {},
   "outputs": [],
   "source": [
    "import pickle\n",
    "import time\n",
    "import pandas as pd\n",
    "import numpy as np\n",
    "import matplotlib.pyplot as plt\n",
    "import torch\n",
    "import torch.nn as nn\n",
    "import torch.nn.functional as F\n",
    "import torch.optim as optim\n",
    "\n",
    "device='cpu'"
   ]
  },
  {
   "cell_type": "markdown",
   "metadata": {},
   "source": [
    "# Preprcess"
   ]
  },
  {
   "cell_type": "code",
   "execution_count": null,
   "metadata": {},
   "outputs": [],
   "source": [
    "# データ読み込み\n",
    "user_item_df = pd.read_csv('../user_item.csv')\n",
    "item_brand_df = pd.read_csv('../item_brand.csv')\n",
    "item_buy_item_df = pd.read_csv('../item_buy_item.csv')\n",
    "item_view_item_df = pd.read_csv('../item_view_item.csv')"
   ]
  },
  {
   "cell_type": "code",
   "execution_count": null,
   "metadata": {},
   "outputs": [],
   "source": [
    "entity_type = ['user', 'item', 'brand']\n",
    "relation_type = ['u_buy_i', 'i_belong_b', 'i_also_buy_i', 'i_also_view_i']"
   ]
  },
  {
   "cell_type": "code",
   "execution_count": null,
   "metadata": {},
   "outputs": [],
   "source": [
    "# 各entity_typeのリストを作る\n",
    "item_list = list(set(list(user_item_df['asin'])))\n",
    "user_list = list(set(list(user_item_df['reviewerID'])))\n",
    "brand_list = list(set(list(item_brand_df['brand'])))\n",
    "# nanを除く\n",
    "brand_list.pop(0)\n",
    "\n",
    "print('item {}'.format(len(item_list)))\n",
    "print('user {}'.format(len(user_list)))\n",
    "print('brand {}'.format(len(brand_list)))"
   ]
  },
  {
   "cell_type": "code",
   "execution_count": null,
   "metadata": {},
   "outputs": [],
   "source": [
    "# 保存\n",
    "with open('./data/user_list.txt', 'w') as f:\n",
    "    for user in user_list:\n",
    "        f.write(user + '\\n')\n",
    "with open('./data/item_list.txt', 'w') as f:\n",
    "    for item in item_list:\n",
    "        f.write(item + '\\n')\n",
    "with open('./data/brand_list.txt', 'w') as f:\n",
    "    for brand in brand_list:\n",
    "        f.write(brand + '\\n')"
   ]
  },
  {
   "cell_type": "code",
   "execution_count": null,
   "metadata": {},
   "outputs": [],
   "source": [
    "# entityのリストを一つに連結する\n",
    "# このリストを使ってentityのidxを管理\n",
    "entity_list = item_list + user_list + brand_list\n",
    "print('entity size: {}'.format(len(entity_list)))"
   ]
  },
  {
   "cell_type": "code",
   "execution_count": null,
   "metadata": {},
   "outputs": [],
   "source": [
    "# 保存\n",
    "with open('./data/entity_list.txt', 'w') as f:\n",
    "    for entity in entity_list:\n",
    "        f.write(entity + '\\n')"
   ]
  },
  {
   "cell_type": "code",
   "execution_count": null,
   "metadata": {},
   "outputs": [],
   "source": [
    "# テストデータとしてuser-itemインタラクションをスプリットする\n",
    "user_item_df = user_item_df.take(np.random.permutation(len(user_item_df)))\n",
    "train_num = int(0.5 * len(user_item_df))\n",
    "user_item_train_df = user_item_df[0:train_num]\n",
    "user_item_test_df = user_item_df[train_num:]\n",
    "\n",
    "print('train {}'.format(train_num))\n",
    "print('test {}'.format(len(user_item_test_df)))"
   ]
  },
  {
   "cell_type": "code",
   "execution_count": null,
   "metadata": {},
   "outputs": [],
   "source": []
  },
  {
   "cell_type": "code",
   "execution_count": null,
   "metadata": {},
   "outputs": [],
   "source": [
    "# user_item_test_dfをID化する\n",
    "user_item_test = []\n",
    "for row in user_item_test_df.values:\n",
    "    user = entity_list.index(row[0])\n",
    "    item = entity_list.index(row[1])\n",
    "    user_item_test.append([user, item, relation_type.index('u_buy_i')])\n",
    "    \n",
    "user_item_test_df = pd.DataFrame(user_item_test, columns = ['reviewerID', 'asin', 'relation'])"
   ]
  },
  {
   "cell_type": "code",
   "execution_count": null,
   "metadata": {},
   "outputs": [],
   "source": [
    "#保存\n",
    "user_item_train_df.to_csv('./data/user_item_test.csv', index=False)"
   ]
  },
  {
   "cell_type": "code",
   "execution_count": null,
   "metadata": {},
   "outputs": [],
   "source": [
    "# 一つのtriplet dataframeを作る\n",
    "# これが訓練データになる\n",
    "# e_1, e_2, relation　が行\n",
    "triplet_df = []\n",
    "for row in user_item_train_df.values:\n",
    "    user = entity_list.index(row[0])\n",
    "    item = entity_list.index(row[1])\n",
    "    triplet_df.append([user, item, relation_type.index('u_buy_i')])\n",
    "\n",
    "for row in item_brand_df.values:\n",
    "    if row[0] not in entity_list:\n",
    "        continue\n",
    "    if row[1] not in entity_list:\n",
    "        continue\n",
    "    item = entity_list.index(row[0])\n",
    "    brand = entity_list.index(row[1])\n",
    "    triplet_df.append([item, brand, relation_type.index('i_belong_b')])"
   ]
  },
  {
   "cell_type": "code",
   "execution_count": null,
   "metadata": {},
   "outputs": [],
   "source": [
    "for row in item_buy_item_df.values:\n",
    "    if row[0] not in entity_list:\n",
    "        continue\n",
    "    item_id = entity_list.index(row[0])\n",
    "    if type(row[1]) != str:\n",
    "        continue\n",
    "    also_i = row[1][1:-1].split(',')\n",
    "    if len(also_i) == 0:\n",
    "        continue\n",
    "        \n",
    "    for a_i in also_i:\n",
    "        #print(a_i)\n",
    "        if a_i[1:-1] not in entity_list: continue\n",
    "        also_item_id = entity_list.index(a_i[1:-1])\n",
    "        triplet_df.append([item_id, also_item_id, relation_type.index('i_also_buy_i')])\n",
    "\n",
    "        \n",
    "for row in item_view_item_df.values:\n",
    "    if row[0] not in entity_list:\n",
    "        continue\n",
    "    item_id = entity_list.index(row[0])\n",
    "    if type(row[1]) != str:\n",
    "        continue\n",
    "    also_i = row[1][1:-1].split(',')\n",
    "    if len(also_i) == 0:\n",
    "        continue\n",
    "        \n",
    "    for a_i in also_i:\n",
    "        #print(a_i)\n",
    "        if a_i[1:-1] not in entity_list: continue\n",
    "        also_item_id = entity_list.index(a_i[1:-1])\n",
    "        triplet_df.append([item_id, also_item_id, relation_type.index('i_also_view_i')])\n"
   ]
  },
  {
   "cell_type": "code",
   "execution_count": null,
   "metadata": {},
   "outputs": [],
   "source": [
    "triplet_df = pd.DataFrame(triplet_df, columns=['h_entity', 't_entity', 'relation'])"
   ]
  },
  {
   "cell_type": "code",
   "execution_count": null,
   "metadata": {},
   "outputs": [],
   "source": [
    "triplet_df.head()"
   ]
  },
  {
   "cell_type": "code",
   "execution_count": null,
   "metadata": {},
   "outputs": [],
   "source": [
    "#保存\n",
    "triplet_df.to_csv('./data/triplet.csv', index=False)"
   ]
  },
  {
   "cell_type": "code",
   "execution_count": null,
   "metadata": {},
   "outputs": [],
   "source": [
    "# negative sampling\n",
    "pos_triplet = [list(row) for row in triplet_df.values]\n",
    "nega_triplet = []\n",
    "\n",
    "\n",
    "count = 0\n",
    "#while count < 100:\n",
    "while count < len(triplet_df):\n",
    "    h_entity = np.random.randint(len(entity_list))\n",
    "    t_entity = np.random.randint(len(entity_list))\n",
    "    relation = np.random.randint(len(relation_type))\n",
    "    #print(h_entity, t_entity, relation)\n",
    "    if [h_entity, t_entity, relation] in pos_triplet:\n",
    "        continue\n",
    "    if [h_entity, t_entity, relation] in nega_triplet:\n",
    "        continue\n",
    "    \n",
    "    nega_triplet.append([h_entity, t_entity, relation])\n",
    "    count += 1\n",
    "    \n",
    "nega_triplet_df = pd.DataFrame(nega_triplet, columns = ['h_entity', 't_entity', 'relation'])"
   ]
  },
  {
   "cell_type": "code",
   "execution_count": null,
   "metadata": {},
   "outputs": [],
   "source": [
    "#保存\n",
    "nega_triplet_df.to_csv('./data/nega_triplet.csv', index=False)"
   ]
  },
  {
   "cell_type": "code",
   "execution_count": null,
   "metadata": {},
   "outputs": [],
   "source": [
    "# trainデータに対するtargetを作る\n",
    "y_train = np.array([1 for i in range(len(triplet_df))] + [0 for i in range(len(nega_triplet_df))])"
   ]
  },
  {
   "cell_type": "code",
   "execution_count": null,
   "metadata": {},
   "outputs": [],
   "source": [
    "#保存\n",
    "np.savetxt('./data/y_train.txt', y_train)"
   ]
  },
  {
   "cell_type": "code",
   "execution_count": null,
   "metadata": {},
   "outputs": [],
   "source": [
    "# データに含まれるuser-item1, item2, item3, ...を返す\n",
    "# 辞書\n",
    "def user_aggregate_item(df):\n",
    "    user_items_dict = {}\n",
    "    #for user in user_list:\n",
    "    for i in range(len(item_list), len(item_list) + len(user_list)):\n",
    "        items_df = df[df['reviewerID'] == i]\n",
    "        user_items_dict[i] = list(items_df['asin'])\n",
    "    return user_items_dict\n",
    "\n",
    "user_items_test_dict = user_aggregate_item(user_item_test_df)"
   ]
  },
  {
   "cell_type": "code",
   "execution_count": null,
   "metadata": {},
   "outputs": [],
   "source": [
    "with open('./data/user_items_test_dict.pickle', 'wb') as f:\n",
    "    pickle.dump(user_items_test_dict, f)"
   ]
  },
  {
   "cell_type": "markdown",
   "metadata": {},
   "source": [
    "# Dataloader"
   ]
  },
  {
   "cell_type": "code",
   "execution_count": null,
   "metadata": {},
   "outputs": [],
   "source": [
    "class AmazonDataset:\n",
    "\n",
    "\n",
    "    def __init__(self, data_dir):\n",
    "        self.data_dir = data_dir\n",
    "        if not self.data_dir.endswith('/'):\n",
    "            self.data_dir += '/'\n",
    "\n",
    "        self.load_triplet()\n",
    "        self.load_user_items_dict()\n",
    "\n",
    "\n",
    "    def load_triplet(self):\n",
    "        self.user_item_test_df = pd.read_csv(self.data_dir + 'user_item_test.csv')\n",
    "        self.triplet_df = pd.read_csv(self.data_dir + 'triplet.csv')\n",
    "        self.nega_triplet_df = pd.read_csv(self.data_dir + 'nega_triplet.csv')\n",
    "\n",
    "        self.user_list = []\n",
    "        self.item_list = []\n",
    "        self.brand_list = []\n",
    "        self.entity_list = []\n",
    "        with open(self.data_dir + 'user_list.txt', 'r') as f:\n",
    "            for l in f:\n",
    "                self.user_list.append(l.replace('\\n', ''))\n",
    "\n",
    "        with open(self.data_dir + 'item_list.txt', 'r') as f:\n",
    "            for l in f:\n",
    "                self.item_list.append(l.replace('\\n', ''))\n",
    "                \n",
    "        with open(self.data_dir + 'brand_list.txt', 'r') as f:\n",
    "            for l in f:\n",
    "                self.brand_list.append(l.replace('\\n', ''))\n",
    "                \n",
    "        with open(self.data_dir + 'entity_list.txt', 'r') as f:\n",
    "            for l in f:\n",
    "                self.entity_list.append(l.replace('\\n', ''))\n",
    "\n",
    "        self.y_train = np.loadtxt(self.data_dir + 'y_train.txt')\n",
    "                \n",
    "                \n",
    "    def load_user_items_dict(self):\n",
    "        self.user_items_test_dict = pickle.load(open(self.data_dir + 'user_items_test_dict.pickle', 'rb'))\n",
    "       \n",
    "    \n",
    "    \n",
    "    def get_batch(self, batch_size=2):\n",
    "        train_num = len(self.triplet_df) + len(self.nega_triplet_df)\n",
    "        batch_idx = np.random.permutation(train_num)[:batch_size]\n",
    "        \n",
    "        # posi_tripletとnega_tripletを連結\n",
    "        batch = pd.concat([self.triplet_df, self.nega_triplet_df]).values[batch_idx]\n",
    "        batch_y_train = self.y_train[batch_idx]\n",
    "    \n",
    "        return batch, batch_y_train"
   ]
  },
  {
   "cell_type": "code",
   "execution_count": null,
   "metadata": {},
   "outputs": [],
   "source": [
    "dataset = AmazonDataset('./data')"
   ]
  },
  {
   "cell_type": "code",
   "execution_count": null,
   "metadata": {},
   "outputs": [],
   "source": [
    "batch = dataset.get_batch(batch_size = 3)\n",
    "batch"
   ]
  },
  {
   "cell_type": "code",
   "execution_count": null,
   "metadata": {},
   "outputs": [],
   "source": [
    "set(list(dataset.triplet_df['relation'].values))"
   ]
  },
  {
   "cell_type": "code",
   "execution_count": null,
   "metadata": {},
   "outputs": [],
   "source": []
  },
  {
   "cell_type": "markdown",
   "metadata": {},
   "source": [
    "# Model"
   ]
  },
  {
   "cell_type": "code",
   "execution_count": null,
   "metadata": {},
   "outputs": [],
   "source": [
    "class DistMulti(nn.Module):\n",
    "\n",
    "    def __init__(self, embedding_dim, relation_size, entity_size):\n",
    "        super(DistMulti, self).__init__()\n",
    "        self.embedding_dim = embedding_dim\n",
    "\n",
    "        self.entity_embed = nn.Embedding(entity_size, embedding_dim)\n",
    "        self.relation_embed = nn.Embedding(relation_size, embedding_dim)\n",
    "        \n",
    "        \n",
    "    def forward(self, head, tail, relation):\n",
    "        head_embed = self.entity_embed(head)\n",
    "        tail_embed = self.entity_embed(tail)\n",
    "        relation_embed = self.relation_embed(relation)\n",
    "        \n",
    "        score = torch.sum(head_embed * tail_embed * relation_embed, axis=1)\n",
    "        score = torch.sigmoid(score)\n",
    "        \n",
    "        return score\n",
    "    \n",
    "    def predict(self, user_tensor, item_tensor):\n",
    "        return 0"
   ]
  },
  {
   "cell_type": "code",
   "execution_count": null,
   "metadata": {},
   "outputs": [],
   "source": [
    "model = DistMulti(3, 2, 3)\n",
    "\n",
    "head = torch.tensor([0, 1], dtype=torch.long, device=device)\n",
    "tail = torch.tensor([1, 2], dtype=torch.long, device=device)\n",
    "relation = torch.tensor([0, 1], dtype=torch.long, device=device)"
   ]
  },
  {
   "cell_type": "code",
   "execution_count": null,
   "metadata": {},
   "outputs": [],
   "source": []
  },
  {
   "cell_type": "code",
   "execution_count": null,
   "metadata": {},
   "outputs": [],
   "source": []
  },
  {
   "cell_type": "code",
   "execution_count": null,
   "metadata": {
    "jupyter": {
     "source_hidden": true
    }
   },
   "outputs": [],
   "source": [
    "model(head, tail, relation)"
   ]
  },
  {
   "cell_type": "markdown",
   "metadata": {},
   "source": [
    "# Training"
   ]
  },
  {
   "cell_type": "code",
   "execution_count": null,
   "metadata": {},
   "outputs": [],
   "source": [
    "class TrainIterater():\n",
    "\n",
    "\n",
    "    def __init__(self, batch_size):\n",
    "        #self.dataset = dataloader.AmazonDataset('./data')\n",
    "        self.dataset = AmazonDataset('./data')\n",
    "        self.batch_size = batch_size\n",
    "        \n",
    "        \n",
    "    def train(self, batch, loss_func, optimizer, model):\n",
    "        optimizer.zero_grad()\n",
    "\n",
    "        triplet, y_train = batch\n",
    "        h_entity_tensor = torch.tensor(triplet[:, 0], dtype=torch.long, device=device)\n",
    "        t_entity_tensor = torch.tensor(triplet[:, 1], dtype=torch.long, device=device)\n",
    "        relation_tensor = torch.tensor(triplet[:, 2], dtype=torch.long, device=device)\n",
    "        y_train = torch.tensor(y_train, dtype=torch.float, device=device)\n",
    "        \n",
    "        pred = model(h_entity_tensor, t_entity_tensor, relation_tensor)\n",
    "        loss = loss_func(pred, y_train)\n",
    "        loss.backward()\n",
    "        optimizer.step()\n",
    "\n",
    "        return loss\n",
    "\n",
    "\n",
    "    def iterate_train(self, model, lr=0.001, weight_decay=0, print_every=2000, plot_every=50):\n",
    "        \n",
    "        optimizer = optim.Adam(model.parameters(), lr=lr, weight_decay=weight_decay)\n",
    "        # optimizer = optim.SGD(model.parameters(), lr=lr)\n",
    "\n",
    "        loss_func = nn.BCELoss()\n",
    "\n",
    "        print_loss_total = 0\n",
    "        plot_loss_list = []\n",
    "        plot_loss_total = 0\n",
    "\n",
    "        train_num = len(self.dataset.triplet_df) + len(self.dataset.nega_triplet_df)\n",
    "        start_time = time.time()\n",
    "        \n",
    "        for i in range(int(train_num / self.batch_size) + 1):\n",
    "            batch = self.dataset.get_batch(batch_size=self.batch_size)\n",
    "\n",
    "            loss = self.train(batch, loss_func, optimizer, model)\n",
    "\n",
    "            print_loss_total += loss\n",
    "            plot_loss_total += loss\n",
    "\n",
    "\n",
    "            # print_everyごとに現在の平均のlossと、時間、dataset全体に対する進捗(%)を出力\n",
    "            if (i+1) % print_every == 0:\n",
    "                runtime = time.time() - start_time\n",
    "                mi, sec = self.time_since(runtime)\n",
    "                avg_loss = print_loss_total / print_every\n",
    "                data_percent = int(i * self.batch_size / train_num * 100)\n",
    "                print('train loss: {:e}    processed: {}({}%)    {}m{}sec'.format(\n",
    "                    avg_loss, i*self.batch_size, data_percent, mi, sec))\n",
    "                print_loss_total = 0\n",
    "\n",
    "            # plot_everyごとplot用のlossをリストに記録しておく\n",
    "            if (i+1) % plot_every == 0:\n",
    "                avg_loss = plot_loss_total / plot_every\n",
    "                plot_loss_list.append(avg_loss)\n",
    "                plot_loss_total = 0\n",
    "            \n",
    "        return plot_loss_list\n",
    "    \n",
    "    \n",
    "    def time_since(self, runtime):\n",
    "        mi = int(runtime / 60)\n",
    "        sec = int(runtime - mi * 60)\n",
    "        return (mi, sec)\n",
    "    \n",
    "\n",
    "                \n",
    "    def iterate_epoch(self, model, lr, epoch, weight_decay=0, warmup=0, lr_decay_rate=1, lr_decay_every=10, eval_every=5):\n",
    "        eval_model = Evaluater()\n",
    "        plot_loss_list = []\n",
    "        plot_score_list = []\n",
    "                          \n",
    "        for i in range(epoch):\n",
    "            plot_loss_list.extend(self.iterate_train(model, lr=lr, weight_decay=weight_decay, print_every=1e+5))\n",
    "            \n",
    "            # lrスケジューリング\n",
    "            if i > warmup:\n",
    "                if (i - warmup) % lr_decay_every == 0:\n",
    "                    lr = lr * lr_decay_rate\n",
    "            \n",
    "            if (i+1) % eval_every == 0:\n",
    "                score = eval_model.topn_precision(model)\n",
    "                plot_score_list.append(score)\n",
    "                print('epoch: {}  precision: {}'.format(i, score))\n",
    "        \n",
    "        self._plot(plot_loss_list)\n",
    "        self._plot(plot_score_list)\n",
    "        \n",
    "\n",
    "\n",
    "    def _plot(self, loss_list):\n",
    "        # ここもっとちゃんと書く\n",
    "        plt.plot(loss_list)\n",
    "        plt.show()\n",
    "\n",
    "         \n",
    "        \n",
    "    \n"
   ]
  },
  {
   "cell_type": "code",
   "execution_count": null,
   "metadata": {},
   "outputs": [],
   "source": [
    "relation_size = len(set(list(dataset.triplet_df['relation'].values)))\n",
    "entity_size = len(dataset.entity_list)\n",
    "model = DistMulti(32, relation_size, entity_size)\n",
    "iterater = TrainIterater(batch_size=128)\n",
    "#iterater.iterate_train(model, print_every=10, plot_every=10)\n",
    "iterater.iterate_epoch(model, lr=0.01, epoch=30)"
   ]
  },
  {
   "cell_type": "markdown",
   "metadata": {},
   "source": [
    "# Evaluate"
   ]
  },
  {
   "cell_type": "code",
   "execution_count": null,
   "metadata": {},
   "outputs": [],
   "source": [
    "class Evaluater():\n",
    "\n",
    "\n",
    "    def __init__(self):\n",
    "        self.dataset = AmazonDataset('./data')\n",
    "\n",
    "        \n",
    "    def topn_precision(self, model, n=10):\n",
    "        # user-itemの組に対して予測\n",
    "\n",
    "        precision_sum = 0\n",
    "        not_count = 0\n",
    "        with torch.no_grad():\n",
    "\n",
    "            batch_size = 512\n",
    "            item_index = [dataset.entity_list.index(item) for item in dataset.item_list]\n",
    "            user_index = [dataset.entity_list.index(user) for user in dataset.user_list]\n",
    "            for i in user_index:\n",
    "                if len(self.dataset.user_items_test_dict[i]) == 0:\n",
    "                    not_count += 1\n",
    "                    continue\n",
    "\n",
    "                pred = torch.tensor([])\n",
    "                for j in range(int(len(self.dataset.item_list) / batch_size) + 1):\n",
    "                    # modelにuser,itemを入力\n",
    "                    # batchでやると速い\n",
    "                    user_tensor = torch.tensor([i for k in range(batch_size)], dtype=torch.long, device=device)\n",
    "                    item_tensor = torch.tensor(item_index[j*batch_size : (j+1)*batch_size],\n",
    "                                              dtype=torch.long, device=device)\n",
    "                    ### user ->(buy) itemはrelationが1であることに注意 ###\n",
    "                    relation_tensor = torch.tensor([1 for k in range(batch_size)], dtype=torch.long, device=device)\n",
    "                    \n",
    "                    if len(user_tensor) > len(item_tensor):\n",
    "                        user_tensor = torch.tensor([i for k in range(len(item_tensor))],\n",
    "                                               dtype=torch.long, device=device)\n",
    "                        relation_tensor = torch.tensor([1 for k in range(len(item_tensor))],\n",
    "                                                       dtype=torch.long, device=device)\n",
    "\n",
    "                    pred = torch.cat([pred, model(user_tensor, item_tensor, relation_tensor)])\n",
    "\n",
    "                # 予測をソート\n",
    "                ### item_idxは0~len(item_list)-1 なのでこれでOK\n",
    "                ### item_idxがentity_listの途中から始まっている場合は別\n",
    "                sorted_idx = np.argsort(np.array(pred))[::-1]\n",
    "\n",
    "                topn_idx = sorted_idx[:n]\n",
    "                hit = len(set(topn_idx) & set(self.dataset.user_items_test_dict[i]))\n",
    "                precision = hit / len(self.dataset.user_items_test_dict[i])\n",
    "                precision_sum += precision\n",
    "\n",
    "        return precision_sum / (len(self.dataset.user_list) - not_count)\n",
    "\n",
    "\n",
    "    def topn_recall(self, model, n=10):\n",
    "        return 0"
   ]
  },
  {
   "cell_type": "code",
   "execution_count": null,
   "metadata": {},
   "outputs": [],
   "source": []
  },
  {
   "cell_type": "code",
   "execution_count": null,
   "metadata": {},
   "outputs": [],
   "source": [
    "for item in dataset.item_list[0]"
   ]
  },
  {
   "cell_type": "code",
   "execution_count": null,
   "metadata": {},
   "outputs": [],
   "source": []
  }
 ],
 "metadata": {
  "kernelspec": {
   "display_name": "Python 3",
   "language": "python",
   "name": "python3"
  },
  "language_info": {
   "codemirror_mode": {
    "name": "ipython",
    "version": 3
   },
   "file_extension": ".py",
   "mimetype": "text/x-python",
   "name": "python",
   "nbconvert_exporter": "python",
   "pygments_lexer": "ipython3",
   "version": "3.7.2"
  }
 },
 "nbformat": 4,
 "nbformat_minor": 4
}
