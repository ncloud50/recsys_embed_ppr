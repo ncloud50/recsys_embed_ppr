{
 "cells": [
  {
   "cell_type": "code",
   "execution_count": 1,
   "metadata": {},
   "outputs": [],
   "source": [
    "import networkx as nx\n",
    "from networkx.exception import NetworkXError\n",
    "\n",
    "import pandas as pd\n",
    "import matplotlib.pyplot as plt\n",
    "import numpy as np\n",
    "import scipy.sparse\n",
    "import pickle\n",
    "\n",
    "import torch\n",
    "\n",
    "from dataloader import AmazonDataset\n",
    "import models\n",
    "from models import DistMulti, TransE\n",
    "from training import TrainIterater\n",
    "from evaluate import Evaluater\n",
    "\n",
    "import optuna\n",
    "import time \n",
    "\n",
    "device = torch.device(\"cuda\" if torch.cuda.is_available() else \"cpu\")\n",
    "\n",
    "import warnings\n",
    "warnings.filterwarnings('ignore')"
   ]
  },
  {
   "cell_type": "markdown",
   "metadata": {},
   "source": [
    "# データロード"
   ]
  },
  {
   "cell_type": "code",
   "execution_count": 2,
   "metadata": {},
   "outputs": [],
   "source": [
    "model_name = 'TransE'\n",
    "dataset = AmazonDataset('./data', model_name='TransE')\n",
    "edges = [[r[0], r[1]] for r in dataset.triplet_df.values]\n",
    "\n",
    "# ハイパラ\n",
    "best_params = pickle.load(open('./best_param.pickle', 'rb'))"
   ]
  },
  {
   "cell_type": "code",
   "execution_count": 3,
   "metadata": {},
   "outputs": [
    {
     "data": {
      "text/plain": [
       "{'embedding_dim': 48.0,\n",
       " 'batch_size': 384,\n",
       " 'lr': 0.0007965458269452495,\n",
       " 'weight_decay': 1.0276080015781148e-06,\n",
       " 'warmup': 350,\n",
       " 'lr_decay_every': 2,\n",
       " 'lr_decay_rate': 0.6348448884535313}"
      ]
     },
     "execution_count": 3,
     "metadata": {},
     "output_type": "execute_result"
    }
   ],
   "source": [
    "best_params"
   ]
  },
  {
   "cell_type": "markdown",
   "metadata": {},
   "source": [
    "# KG embedする\n",
    "\n",
    "bestなハイパラパラメータを読み込んでepoch回す"
   ]
  },
  {
   "cell_type": "code",
   "execution_count": 17,
   "metadata": {},
   "outputs": [],
   "source": [
    "def train_embed(params):\n",
    "    \n",
    "    # ハイパラ読み込み\n",
    "    embedding_dim = best_params['embedding_dim']\n",
    "    batch_size = best_params['batch_size']\n",
    "    lr = best_params['lr']\n",
    "    weight_decay = best_params['weight_decay']\n",
    "    warmup = best_params['warmup']\n",
    "    lr_decay_every = best_params['lr_decay_every']\n",
    "    lr_decay_rate = best_params['lr_decay_rate']\n",
    "    \n",
    "    relation_size = len(set(list(dataset.triplet_df['relation'].values)))\n",
    "    entity_size = len(dataset.entity_list)\n",
    "    model = TransE(int(embedding_dim), relation_size, entity_size).to(device)\n",
    "    iterater = TrainIterater(batch_size=int(batch_size), model_name=model_name)\n",
    "    score =iterater.iterate_epoch(model, lr=lr, epoch=5000, weight_decay=weight_decay, warmup=warmup,\n",
    "                           lr_decay_rate=lr_decay_rate, lr_decay_every=lr_decay_every, eval_every=1e+5)\n",
    "    return model"
   ]
  },
  {
   "cell_type": "markdown",
   "metadata": {},
   "source": [
    "# とりあえず初期化したモデルのembeddingを使って進める"
   ]
  },
  {
   "cell_type": "code",
   "execution_count": 5,
   "metadata": {},
   "outputs": [],
   "source": [
    "embedding_dim = 16\n",
    "relation_size = len(set(list(dataset.triplet_df['relation'].values)))\n",
    "entity_size = len(dataset.entity_list)\n",
    "embed_model = TransE(int(embedding_dim), relation_size, entity_size).to(device)"
   ]
  },
  {
   "cell_type": "markdown",
   "metadata": {},
   "source": [
    "# PageRank"
   ]
  },
  {
   "cell_type": "code",
   "execution_count": 6,
   "metadata": {},
   "outputs": [],
   "source": [
    "G = nx.DiGraph()\n",
    "G.add_nodes_from([i for i in range(len(dataset.entity_list))])\n",
    "G.add_edges_from(edges)"
   ]
  },
  {
   "cell_type": "markdown",
   "metadata": {},
   "source": [
    "# sparse sim_matを作る"
   ]
  },
  {
   "cell_type": "code",
   "execution_count": 7,
   "metadata": {},
   "outputs": [],
   "source": [
    "dataset = AmazonDataset('./data', model_name='TransE')\n",
    "\n",
    "def mk_sparse_sim_mat(model):\n",
    "    item_idx = torch.tensor([dataset.entity_list.index(i) for i in dataset.item_list], \n",
    "                        dtype=torch.long, device=device)\n",
    "\n",
    "    user_idx = torch.tensor([dataset.entity_list.index(u) for u in dataset.user_list], \n",
    "                        dtype=torch.long, device=device)\n",
    "\n",
    "    brand_idx = torch.tensor([dataset.entity_list.index(b) for b in dataset.brand_list], \n",
    "                        dtype=torch.long, device=device)\n",
    "    \n",
    "    # ここもっと上手く書きたい\n",
    "    item_embed = model.entity_embed(item_idx)\n",
    "    item_sim_mat = torch.mm(item_embed, torch.t(item_embed))\n",
    "    item_sim_mat = scipy.sparse.csr_matrix(item_sim_mat.to('cpu').detach().numpy().copy())\n",
    "\n",
    "    user_embed = model.entity_embed(user_idx)\n",
    "    user_sim_mat = torch.mm(user_embed, torch.t(user_embed))\n",
    "    user_sim_mat = scipy.sparse.csr_matrix(user_sim_mat.to('cpu').detach().numpy().copy())\n",
    "\n",
    "    brand_embed = model.entity_embed(brand_idx)\n",
    "    brand_sim_mat = torch.mm(brand_embed, torch.t(brand_embed))\n",
    "    brand_sim_mat = scipy.sparse.csr_matrix(brand_sim_mat.to('cpu').detach().numpy().copy())\n",
    "\n",
    "    M = scipy.sparse.block_diag((item_sim_mat, user_sim_mat, brand_sim_mat))\n",
    "    M_ = np.array(1 - M.sum(axis=1) / np.max(M.sum(axis=1)))\n",
    "                                    \n",
    "    M = M / np.max(M.sum(axis=1)) + scipy.sparse.diags(M_.transpose()[0])\n",
    "    #print(type(M))\n",
    "    #print(M.shape)\n",
    "    return M"
   ]
  },
  {
   "cell_type": "code",
   "execution_count": null,
   "metadata": {},
   "outputs": [],
   "source": []
  },
  {
   "cell_type": "code",
   "execution_count": 8,
   "metadata": {
    "jupyter": {
     "source_hidden": true
    }
   },
   "outputs": [],
   "source": [
    "def pagerank_scipy(G, sim_mat, alpha=0.85, beta=0.01,\n",
    "                   max_iter=700, tol=1.0e-6, weight='weight',\n",
    "                   dangling=None):\n",
    "    \n",
    "    import scipy.sparse\n",
    "\n",
    "    N = len(G)\n",
    "    if N == 0:\n",
    "        return {}\n",
    "\n",
    "    nodelist = G.nodes()\n",
    "    M = nx.to_scipy_sparse_matrix(G, nodelist=nodelist, weight=weight,\n",
    "                                  dtype=float)\n",
    "    S = scipy.array(M.sum(axis=1)).flatten()\n",
    "    S[S != 0] = 1.0 / S[S != 0]\n",
    "    Q = scipy.sparse.spdiags(S.T, 0, *M.shape, format='csr')\n",
    "    M = Q * M\n",
    "    \n",
    "    # 遷移行列とsim_matを統合\n",
    "    M = beta * M + (1 - beta) * sim_mat\n",
    "\n",
    "    # initial vector\n",
    "    x = scipy.repeat(1.0 / N, N)\n",
    "\n",
    "    # Personalization vector\n",
    "    if personalization is None:\n",
    "        p = scipy.repeat(1.0 / N, N)\n",
    "    else:\n",
    "        missing = set(nodelist) - set(personalization)\n",
    "        if missing:\n",
    "            raise NetworkXError('Personalization vector dictionary '\n",
    "                                'must have a value for every node. '\n",
    "                                'Missing nodes %s' % missing)\n",
    "        p = scipy.array([personalization[n] for n in nodelist],\n",
    "                        dtype=float)\n",
    "        p = p / p.sum()\n",
    "\n",
    "    # Dangling nodes\n",
    "    dangling_weights = p\n",
    "    #if dangling is None:\n",
    "    #    dangling_weights = p\n",
    "    #else:\n",
    "    #    missing = set(nodelist) - set(dangling)\n",
    "    #    if missing:\n",
    "    #        raise NetworkXError('Dangling node dictionary '\n",
    "    #                            'must have a value for every node. '\n",
    "    #                            'Missing nodes %s' % missing)\n",
    "        # Convert the dangling dictionary into an array in nodelist order\n",
    "    #    dangling_weights = scipy.array([dangling[n] for n in nodelist],\n",
    "    #                                   dtype=float)\n",
    "    #    dangling_weights /= dangling_weights.sum()\n",
    "    #is_dangling = scipy.where(S == 0)[0]\n",
    "\n",
    "    \n",
    "\n",
    "    \n",
    "    # power iteration: make up to max_iter iterations\n",
    "    x = torch.tensor(x, dtype=torch.float, device=device).view(len(x), -1)\n",
    "    M = torch.tensor(M.todense(), dtype=torch.float, device=device).to_sparse() # todenseどうにかしたい\n",
    "    dangling_weights = torch.tensor(dangling_weights, dtype=torch.float, device=device).view(len(x), -1)\n",
    "    p = torch.tensor(p, dtype=torch.float, device=device).view(len(p), -1)\n",
    "    for _ in range(max_iter):\n",
    "        xlast = x\n",
    "        #x = alpha * (x * M + sum(x[is_dangling]) * dangling_weights) + \\\n",
    "        #    (1 - alpha) * p\n",
    "        x = alpha * (torch.sparse.mm(M, x) + sum(x[is_dangling]) * dangling_weights) + (1 - alpha) * p\n",
    "        x = x / x.sum()\n",
    "        # check convergence, l1 norm\n",
    "        #err = scipy.absolute(x - xlast).sum()\n",
    "        err = torch.abs(x - xlast).sum()\n",
    "        if err < N * tol:\n",
    "            return dict(zip(nodelist, map(float, x.view(len(nodelist)))))\n",
    "    print(err)\n",
    "    print(N * tol)\n",
    "    #raise NetworkXError('pagerank_scipy: power iteration failed to converge '\n",
    "    #                    'in %d iterations.' % max_iter)\n",
    "    #return dict(zip(nodelist, map(float, x)))\n",
    "    return dict(zip(nodelist, map(float, x.view(len(nodelist)))))"
   ]
  },
  {
   "cell_type": "code",
   "execution_count": 9,
   "metadata": {},
   "outputs": [],
   "source": [
    "def pagerank_torch(G, sim_mat, personal_vec, alpha=0.85, beta=0.01,\n",
    "                   max_iter=700, tol=1.0e-6, batch_size=512):\n",
    "\n",
    "    N = len(G)\n",
    "    if N == 0:\n",
    "        return {}\n",
    "\n",
    "    nodelist = G.nodes()\n",
    "    M = nx.to_scipy_sparse_matrix(G, nodelist=nodelist, dtype=float)\n",
    "    S = scipy.array(M.sum(axis=1)).flatten()\n",
    "    S[S != 0] = 1.0 / S[S != 0]\n",
    "    Q = scipy.sparse.spdiags(S.T, 0, *M.shape, format='csr')\n",
    "    M = Q * M\n",
    "    \n",
    "    # 遷移行列とsim_matを統合\n",
    "    M = beta * M + (1 - beta) * sim_mat\n",
    "    M = torch.tensor(M.todense(), dtype=torch.float, device=device).to_sparse() # todenseどうにかしたい\n",
    "    #print(M.shape)\n",
    "    \n",
    "    # Personalization vector\n",
    "    p = torch.tensor(personal_vec, device=device)\n",
    "    #print(p.shape)\n",
    "    \n",
    "    # initial vector\n",
    "    x = torch.ones(N, p.shape[1], dtype=torch.float, device=device) * 1 / N\n",
    "    #print(x.shape)\n",
    "    \n",
    "    # Dangling nodes\n",
    "    dangling_weights = p\n",
    "    is_dangling = scipy.where(S == 0)[0]\n",
    "    #print(is_dangling)\n",
    "    \n",
    "    # power iteration: make up to max_iter iterations\n",
    "    for _ in range(max_iter):\n",
    "        xlast = x\n",
    "        x = alpha * (torch.sparse.mm(M, x) + sum(x[is_dangling]) * dangling_weights) + (1 - alpha) * p\n",
    "        x = x / x.sum(axis=0)\n",
    "        # check convergence, l1 norm\n",
    "        err = torch.abs(x - xlast).sum()\n",
    "        \n",
    "        if err < N * tol * N:\n",
    "            return x\n",
    "        #print(x.shape)\n",
    "        #break\n",
    "        \n",
    "    return x"
   ]
  },
  {
   "cell_type": "code",
   "execution_count": 10,
   "metadata": {},
   "outputs": [],
   "source": [
    "def item_ppr(sim_mat, alpha, beta):\n",
    "    \n",
    "    # personal_vecを作る(eneity_size * user_size)\n",
    "    user_idx = [dataset.entity_list.index(u) for u in dataset.user_list]\n",
    "    personal_vec = []\n",
    "    for u in user_idx:\n",
    "        val = np.zeros(len(G.nodes()))\n",
    "        val[u] = 1\n",
    "        personal_vec.append(val[np.newaxis, :])\n",
    "    personal_vec = np.concatenate(personal_vec, axis=0).transpose()\n",
    "    sim_mat = mk_sparse_sim_mat(embed_model)\n",
    "    \n",
    "    ppr = pagerank_torch(G, sim_mat, personal_vec)\n",
    "    \n",
    "    item_idx = [dataset.entity_list.index(i) for i in dataset.item_list]\n",
    "    pred = ppr[item_idx].T\n",
    "    \n",
    "    return pred\n",
    "\n",
    "\n",
    "def get_ranking_mat(model, alpha=0.85, beta=0.01):\n",
    "    ranking_mat = []\n",
    "    count = 0\n",
    "    sim_mat = mk_sparse_sim_mat(model)\n",
    "    pred = item_ppr(sim_mat, alpha, beta)\n",
    "    #print(pred.shape)\n",
    "    for i in range(len(dataset.user_list)):\n",
    "        sorted_idx = np.argsort(np.array(pred.cpu()[i]))[::-1]\n",
    "        ranking_mat.append(sorted_idx)\n",
    "        break\n",
    "    return ranking_mat"
   ]
  },
  {
   "cell_type": "code",
   "execution_count": 12,
   "metadata": {},
   "outputs": [
    {
     "name": "stdout",
     "output_type": "stream",
     "text": [
      "CPU times: user 11.2 s, sys: 2.33 s, total: 13.5 s\n",
      "Wall time: 12.9 s\n"
     ]
    },
    {
     "data": {
      "text/plain": [
       "[array([ 21, 388, 574, ..., 326,  57, 934])]"
      ]
     },
     "execution_count": 12,
     "metadata": {},
     "output_type": "execute_result"
    }
   ],
   "source": [
    "%time get_ranking_mat(embed_model)"
   ]
  },
  {
   "cell_type": "markdown",
   "metadata": {},
   "source": [
    "# Evaluate"
   ]
  },
  {
   "cell_type": "code",
   "execution_count": 13,
   "metadata": {},
   "outputs": [],
   "source": [
    "user_idx = [dataset.entity_list.index(u) for u in dataset.user_list]\n",
    "user_items_test_dict = pickle.load(open('./data/user_items_test_dict.pickle', 'rb'))\n",
    "\n",
    "def topn_precision(ranking_mat, user_items_dict, n=10):\n",
    "    not_count = 0\n",
    "    precision_sum = 0\n",
    "        \n",
    "    for i in range(len(ranking_mat)):\n",
    "        if len(user_items_dict[user_idx[i]]) == 0:\n",
    "            not_count += 1\n",
    "            continue\n",
    "        sorted_idx = ranking_mat[i]\n",
    "        topn_idx = sorted_idx[:n]  \n",
    "        hit = len(set(topn_idx) & set(user_items_dict[user_idx[i]]))\n",
    "        precision = hit / len(user_items_dict[user_idx[i]])\n",
    "        precision_sum += precision\n",
    "        \n",
    "    return precision_sum / (len(user_idx) - not_count)"
   ]
  },
  {
   "cell_type": "markdown",
   "metadata": {},
   "source": [
    "# Optuna"
   ]
  },
  {
   "cell_type": "code",
   "execution_count": null,
   "metadata": {},
   "outputs": [],
   "source": [
    "# train embed model\n",
    "model = train_embed(best_params)"
   ]
  },
  {
   "cell_type": "code",
   "execution_count": null,
   "metadata": {
    "tags": []
   },
   "outputs": [],
   "source": [
    "def time_since(runtime):\n",
    "    mi = int(runtime / 60)\n",
    "    sec = int(runtime - mi * 60)\n",
    "    return (mi, sec)\n",
    "\n",
    "def objective(trial):\n",
    "    start = time.time()\n",
    "    #gamma = trial.suggest_loguniform('gamma', 1e-6, 1e-3)\n",
    "    #lin_model = trial.suggest_categorical('lin_model', ['lasso', 'elastic'])\n",
    "    #slim = train_SLIM(lin_model, gamma)\n",
    "\n",
    "    alpha = trial.suggest_uniform('alpha', 0, 1)\n",
    "    beta = trial.suggest_uniform('beta', 0, 0.5)\n",
    "    \n",
    "    ranking_mat = get_ranking_mat(model, alpha, beta)\n",
    "    score = topn_precision(ranking_mat, user_items_test_dict)\n",
    "    mi, sec = time_since(time.time() - start)\n",
    "    print('{}m{}sec'.format(mi, sec))\n",
    "    \n",
    "    return -1 * score"
   ]
  },
  {
   "cell_type": "code",
   "execution_count": null,
   "metadata": {},
   "outputs": [],
   "source": [
    "study = optuna.create_study()\n",
    "study.optimize(objective, n_trials=30)"
   ]
  },
  {
   "cell_type": "code",
   "execution_count": null,
   "metadata": {},
   "outputs": [],
   "source": [
    "df = study.trials_dataframe() # pandasのDataFrame形式\n",
    "df.to_csv('./hyparams_result.csv')"
   ]
  },
  {
   "cell_type": "code",
   "execution_count": null,
   "metadata": {},
   "outputs": [],
   "source": [
    "# save best params \n",
    "with open('best_param.pickle', 'wb') as f:\n",
    "    pickle.dump(study.best_params, f)"
   ]
  },
  {
   "cell_type": "code",
   "execution_count": null,
   "metadata": {},
   "outputs": [],
   "source": []
  }
 ],
 "metadata": {
  "kernelspec": {
   "display_name": "Python 3",
   "language": "python",
   "name": "python3"
  },
  "language_info": {
   "codemirror_mode": {
    "name": "ipython",
    "version": 3
   },
   "file_extension": ".py",
   "mimetype": "text/x-python",
   "name": "python",
   "nbconvert_exporter": "python",
   "pygments_lexer": "ipython3",
   "version": "3.7.6"
  }
 },
 "nbformat": 4,
 "nbformat_minor": 4
}
