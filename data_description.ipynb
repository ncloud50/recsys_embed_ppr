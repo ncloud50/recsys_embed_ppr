{
 "cells": [
  {
   "cell_type": "code",
   "execution_count": 1,
   "metadata": {},
   "outputs": [],
   "source": [
    "import pandas as pd\n",
    "import matplotlib.pyplot as plt\n",
    "import numpy as np"
   ]
  },
  {
   "cell_type": "code",
   "execution_count": 14,
   "metadata": {},
   "outputs": [],
   "source": [
    "user_item_df = pd.read_csv('All_Beauty_3core/user_item.csv')\n",
    "user_item_df.head()\n",
    "\n",
    "item_b_item_df = pd.read_csv('All_Beauty_2core/item_buy_item.csv')\n",
    "item_v_item_df = pd.read_csv('All_Beauty_2core/item_view_item.csv')\n",
    "item_brand_df = pd.read_csv('All_Beauty_3core/item_brand.csv')"
   ]
  },
  {
   "cell_type": "code",
   "execution_count": 15,
   "metadata": {
    "tags": []
   },
   "outputs": [
    {
     "output_type": "stream",
     "name": "stdout",
     "text": "item num 464\nuser num 2272\nbrand num 272\n32992\n32992\n"
    }
   ],
   "source": [
    "item_list = list(set(list(user_item_df['asin'])))\n",
    "user_list = list(set(list(user_item_df['reviewerID'])))\n",
    "brand_list = list(set(list(item_brand_df['brand'])))\n",
    "print('item num {}'.format(len(item_list)))\n",
    "print('user num {}'.format(len(user_list)))\n",
    "print('brand num {}'.format(len(brand_list)))\n",
    "\n",
    "\n",
    "print(len(item_b_item_df))\n",
    "print(len(item_v_item_df))"
   ]
  },
  {
   "cell_type": "code",
   "execution_count": 13,
   "metadata": {},
   "outputs": [],
   "source": [
    "user_inter_num = {}\n",
    "for user in user_list[0:100]:\n",
    "    user_aggre_df = user_item_df[user_item_df['reviewerID'] == user]\n",
    "    user_inter_num[user] = len(user_aggre_df)\n",
    "    "
   ]
  },
  {
   "cell_type": "code",
   "execution_count": 14,
   "metadata": {},
   "outputs": [
    {
     "data": {
      "text/plain": [
       "{'A1VUN4JU731CBH': 6,\n",
       " 'A3HG0DNFURFXR4': 5,\n",
       " 'A35V906GNOVU3L': 6,\n",
       " 'A3GJRZ7FN51LMK': 8,\n",
       " 'A3JO18FDVDP5U2': 6,\n",
       " 'A322VANY4JAOQB': 6,\n",
       " 'A16R6O1P7TMF9N': 8,\n",
       " 'A1YVUUHT093E0K': 15,\n",
       " 'A1EDCMHXIMH0DT': 6,\n",
       " 'A21M3YYEERMG3D': 7,\n",
       " 'A3KDU6P6JM1ONO': 5,\n",
       " 'A1ACM1CBGORBN1': 11,\n",
       " 'A1NX2BNNRZ5SGB': 5,\n",
       " 'A1D0YC94ZS5CNO': 14,\n",
       " 'A3R9AE276DZL5M': 8,\n",
       " 'A2V65KWNOLRV8U': 5,\n",
       " 'AC1U7PPQJKA9D': 8,\n",
       " 'A2RSB35G43HTZ6': 5,\n",
       " 'A221FPD86E5O87': 8,\n",
       " 'A3JT29L4YFEIMJ': 6,\n",
       " 'ALM0H3CWDI4O2': 8,\n",
       " 'A18SQ4EB8J8H13': 5,\n",
       " 'AUOKN045TLJQ': 6,\n",
       " 'A3Q0U1143BFYTU': 5,\n",
       " 'AFHYEO3Y1IIDD': 17,\n",
       " 'A1Y39RECFXEGNL': 5,\n",
       " 'A3847X9XD27OSL': 8,\n",
       " 'A2QDOJFFLFGF18': 10,\n",
       " 'AOWM3ZLHZF07H': 5,\n",
       " 'A3M8R4JD1SIS76': 10,\n",
       " 'A1CSFIQ41U5FWY': 7,\n",
       " 'A2VJ3ZPUT58PJD': 6,\n",
       " 'A3S1JUU9FXC8MQ': 6,\n",
       " 'AJW0OZRACJCP0': 8,\n",
       " 'A1KGK5825KQBXH': 5,\n",
       " 'A3Q2CITG3XZ7VW': 5,\n",
       " 'A593D8BBKM43N': 5,\n",
       " 'A2N10B0NEZKIOV': 5,\n",
       " 'A93YMZM7YKG1G': 16,\n",
       " 'AVJJ2D4G5I0Z4': 11,\n",
       " 'ARKOOHXBLCOOP': 6,\n",
       " 'A3C95L8JUAL3JT': 10,\n",
       " 'A342YY7GHWRUYC': 9,\n",
       " 'A23GFTVIETX7DS': 18,\n",
       " 'A2H667ZUNLNTF1': 10,\n",
       " 'A2LW5AL0KQ9P1M': 65,\n",
       " 'A2HHAV29CZ1OIE': 10,\n",
       " 'A2WWHOH10OM5OJ': 4,\n",
       " 'A1EB6OCXNZKRI8': 5,\n",
       " 'A2KWE2ZM1EEBGJ': 5,\n",
       " 'ADLVFFE4VBT8': 9,\n",
       " 'A20CR5MK7Q8M6Z': 5,\n",
       " 'A3U62H044GZU7I': 5,\n",
       " 'A2RBZK9UX67328': 5,\n",
       " 'A2SMI76ENKI0CM': 5,\n",
       " 'A27FB97X0COTAH': 7,\n",
       " 'A2BZ7MYTSNYMEW': 10,\n",
       " 'A21B8AV7E3MPXE': 5,\n",
       " 'AKFTIYUSRKQVE': 5,\n",
       " 'A1WOX7A4W048GK': 5,\n",
       " 'A2R46TPY466FDC': 8,\n",
       " 'A1X6ASXO8F7A9E': 8,\n",
       " 'AV3A66BTGK2G5': 8,\n",
       " 'A1DKO10KSHP3PS': 8,\n",
       " 'A1JOCKX0DBY0D5': 20,\n",
       " 'A35Y40XVDNIK7Q': 8,\n",
       " 'A1TN2EZ7S2FTH2': 8,\n",
       " 'A3ITW2IFP6I0NK': 6,\n",
       " 'A35LT14WG5BX0T': 10,\n",
       " 'A3IMBPNQYEZUWC': 5,\n",
       " 'AAS4E02BPFAMT': 8,\n",
       " 'A3GE1HSX7QGME1': 5,\n",
       " 'AB7V9FFK51EKT': 5,\n",
       " 'A4ETDBJYSJEUZ': 6,\n",
       " 'A1O67VSDMVN44C': 5,\n",
       " 'AMCHLVS2PM9X6': 5,\n",
       " 'A27V5FYTO651JT': 5,\n",
       " 'AU9MV75IZYVB2': 6,\n",
       " 'A3G5MOHY1U635N': 11,\n",
       " 'A14JDMEHQJRR3T': 6,\n",
       " 'AWZ8DBLGVO60X': 5,\n",
       " 'A39BGN8JA7CIFX': 18,\n",
       " 'A2JP9E1H0SF392': 11,\n",
       " 'ANRXH0BVEAR6B': 9,\n",
       " 'A3UU8O0Q7TNWPH': 8,\n",
       " 'AFICF7DKHTQ87': 18,\n",
       " 'A7WLP2ROPFTUQ': 5,\n",
       " 'A3TH4UELWBAUWQ': 5,\n",
       " 'A1XIFNB0XAMPOZ': 5,\n",
       " 'ANYWPIGSTKRO1': 6,\n",
       " 'A1MM6KZOJ61TTR': 5,\n",
       " 'A1FT0AWHJQLMJN': 8,\n",
       " 'A1LRQWKGVXCJ7C': 8,\n",
       " 'A31JL4CDCBXIPX': 5,\n",
       " 'A3CHMHGSJSQ02J': 7,\n",
       " 'A17JOFI9IDPSES': 5,\n",
       " 'A24RCBRDXRXR0Y': 16,\n",
       " 'A5SJ51NDTXYMG': 6,\n",
       " 'A2QPY6J33YV1ZZ': 5,\n",
       " 'A2QO20Z0TAHKTX': 5}"
      ]
     },
     "execution_count": 14,
     "metadata": {},
     "output_type": "execute_result"
    }
   ],
   "source": []
  },
  {
   "cell_type": "code",
   "execution_count": null,
   "metadata": {},
   "outputs": [],
   "source": []
  }
 ],
 "metadata": {
  "kernelspec": {
   "display_name": "Python 3",
   "language": "python",
   "name": "python3"
  },
  "language_info": {
   "codemirror_mode": {
    "name": "ipython",
    "version": 3
   },
   "file_extension": ".py",
   "mimetype": "text/x-python",
   "name": "python",
   "nbconvert_exporter": "python",
   "pygments_lexer": "ipython3",
   "version": "3.7.2-final"
  }
 },
 "nbformat": 4,
 "nbformat_minor": 4
}