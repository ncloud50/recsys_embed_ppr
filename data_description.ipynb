{
 "cells": [
  {
   "cell_type": "code",
   "execution_count": 1,
   "metadata": {},
   "outputs": [],
   "source": [
    "import pandas as pd\n",
    "import matplotlib.pyplot as plt\n",
    "import numpy as np"
   ]
  },
  {
   "cell_type": "code",
   "execution_count": 2,
   "metadata": {},
   "outputs": [],
   "source": [
    "user_item_df = pd.read_csv('Luxury_5core/user_item.csv')\n",
    "item_b_item_df = pd.read_csv('Luxury_5core/item_buy_item.csv')\n",
    "item_v_item_df = pd.read_csv('Luxury_5core/item_view_item.csv')\n",
    "item_brand_df = pd.read_csv('Luxury_5core/item_brand.csv')"
   ]
  },
  {
   "cell_type": "code",
   "execution_count": 14,
   "metadata": {
    "tags": []
   },
   "outputs": [
    {
     "output_type": "stream",
     "name": "stdout",
     "text": "item num 1581\nuser num 3819\nbrand num 8\neneity num 5408\nuser-item: 34278\nitem-brand: 12308\n12308\n12308\n"
    }
   ],
   "source": [
    "item_list = list(set(list(user_item_df['asin'])))\n",
    "user_list = list(set(list(user_item_df['reviewerID'])))\n",
    "brand_list = list(set(list(item_brand_df['brand'])))\n",
    "entity_list = item_list + user_list + brand_list\n",
    "\n",
    "print('item num {}'.format(len(item_list)))\n",
    "print('user num {}'.format(len(user_list)))\n",
    "print('brand num {}'.format(len(brand_list)))\n",
    "print('eneity num {}'.format(len(entity_list)))\n",
    "\n",
    "print('user-item: {}'.format(len(user_item_df)))\n",
    "print('item-brand: {}'.format(len(item_brand_df)))\n",
    "print(len(item_b_item_df))\n",
    "print(len(item_v_item_df))"
   ]
  },
  {
   "cell_type": "code",
   "execution_count": 12,
   "metadata": {},
   "outputs": [
    {
     "output_type": "execute_result",
     "data": {
      "text/plain": "554"
     },
     "metadata": {},
     "execution_count": 12
    }
   ],
   "source": [
    "count = 0\n",
    "for row in item_b_item_df.values:\n",
    "    if row[0] not in entity_list:\n",
    "        continue\n",
    "    item_id = entity_list.index(row[0])\n",
    "    if type(row[1]) != str:\n",
    "        continue\n",
    "    also_i = row[1][1:-1].split(',')\n",
    "    if len(also_i) == 0:\n",
    "        continue\n",
    "\n",
    "    for a_i in also_i:\n",
    "        #print(a_i)\n",
    "        if a_i[1:-1] not in entity_list: continue\n",
    "        count += 1\n",
    "count"
   ]
  },
  {
   "cell_type": "code",
   "execution_count": 13,
   "metadata": {},
   "outputs": [
    {
     "output_type": "execute_result",
     "data": {
      "text/plain": "454"
     },
     "metadata": {},
     "execution_count": 13
    }
   ],
   "source": [
    "count = 0\n",
    "for row in item_v_item_df.values:\n",
    "    if row[0] not in entity_list:\n",
    "        continue\n",
    "    item_id = entity_list.index(row[0])\n",
    "    if type(row[1]) != str:\n",
    "        continue\n",
    "    also_i = row[1][1:-1].split(',')\n",
    "    if len(also_i) == 0:\n",
    "        continue\n",
    "\n",
    "    for a_i in also_i:\n",
    "        #print(a_i)\n",
    "        if a_i[1:-1] not in entity_list: continue\n",
    "        count += 1\n",
    "count"
   ]
  },
  {
   "cell_type": "code",
   "execution_count": 16,
   "metadata": {},
   "outputs": [
    {
     "output_type": "execute_result",
     "data": {
      "text/plain": "1629"
     },
     "metadata": {},
     "execution_count": 16
    }
   ],
   "source": [
    "count = 0\n",
    "for row in item_brand_df.values:\n",
    "    if row[0] not in entity_list:\n",
    "        continue\n",
    "    if row[1] not in entity_list:\n",
    "        continue\n",
    "    item = entity_list.index(row[0])\n",
    "    brand = entity_list.index(row[1])\n",
    "    count += 1\n",
    "count"
   ]
  },
  {
   "cell_type": "code",
   "execution_count": null,
   "metadata": {},
   "outputs": [],
   "source": []
  }
 ],
 "metadata": {
  "kernelspec": {
   "display_name": "Python 3",
   "language": "python",
   "name": "python3"
  },
  "language_info": {
   "codemirror_mode": {
    "name": "ipython",
    "version": 3
   },
   "file_extension": ".py",
   "mimetype": "text/x-python",
   "name": "python",
   "nbconvert_exporter": "python",
   "pygments_lexer": "ipython3",
   "version": "3.7.2-final"
  }
 },
 "nbformat": 4,
 "nbformat_minor": 4
}