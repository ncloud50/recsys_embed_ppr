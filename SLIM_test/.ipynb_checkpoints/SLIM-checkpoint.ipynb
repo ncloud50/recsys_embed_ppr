{
 "cells": [
  {
   "cell_type": "markdown",
   "metadata": {},
   "source": [
    "# SLIMを実装\n",
    "- sparse matrix\n",
    "- sklearn のElastic Net\n",
    "- 色々と制約条件があったような\n",
    "- 並列化\n",
    "\n",
    "\n",
    "線形モデルのalphaは全て共通？"
   ]
  },
  {
   "cell_type": "code",
   "execution_count": 1,
   "metadata": {},
   "outputs": [],
   "source": [
    "import pandas as pd\n",
    "import matplotlib.pyplot as plt\n",
    "import numpy as np\n",
    "from scipy.sparse import csr_matrix\n",
    "from sklearn.linear_model import ElasticNet, Ridge, Lasso"
   ]
  },
  {
   "cell_type": "markdown",
   "metadata": {},
   "source": [
    "# Preprocess"
   ]
  },
  {
   "cell_type": "code",
   "execution_count": 2,
   "metadata": {},
   "outputs": [
    {
     "data": {
      "text/html": [
       "<div>\n",
       "<style scoped>\n",
       "    .dataframe tbody tr th:only-of-type {\n",
       "        vertical-align: middle;\n",
       "    }\n",
       "\n",
       "    .dataframe tbody tr th {\n",
       "        vertical-align: top;\n",
       "    }\n",
       "\n",
       "    .dataframe thead th {\n",
       "        text-align: right;\n",
       "    }\n",
       "</style>\n",
       "<table border=\"1\" class=\"dataframe\">\n",
       "  <thead>\n",
       "    <tr style=\"text-align: right;\">\n",
       "      <th></th>\n",
       "      <th>reviewerID</th>\n",
       "      <th>asin</th>\n",
       "    </tr>\n",
       "  </thead>\n",
       "  <tbody>\n",
       "    <tr>\n",
       "      <th>0</th>\n",
       "      <td>A2HOI48JK8838M</td>\n",
       "      <td>B00004U9V2</td>\n",
       "    </tr>\n",
       "    <tr>\n",
       "      <th>1</th>\n",
       "      <td>A1YIPEY7HX73S7</td>\n",
       "      <td>B00004U9V2</td>\n",
       "    </tr>\n",
       "    <tr>\n",
       "      <th>2</th>\n",
       "      <td>A2QCGHIJ2TCLVP</td>\n",
       "      <td>B00004U9V2</td>\n",
       "    </tr>\n",
       "    <tr>\n",
       "      <th>3</th>\n",
       "      <td>A2R4UNHFJBA6PY</td>\n",
       "      <td>B00004U9V2</td>\n",
       "    </tr>\n",
       "    <tr>\n",
       "      <th>4</th>\n",
       "      <td>A2QCGHIJ2TCLVP</td>\n",
       "      <td>B00004U9V2</td>\n",
       "    </tr>\n",
       "  </tbody>\n",
       "</table>\n",
       "</div>"
      ],
      "text/plain": [
       "       reviewerID        asin\n",
       "0  A2HOI48JK8838M  B00004U9V2\n",
       "1  A1YIPEY7HX73S7  B00004U9V2\n",
       "2  A2QCGHIJ2TCLVP  B00004U9V2\n",
       "3  A2R4UNHFJBA6PY  B00004U9V2\n",
       "4  A2QCGHIJ2TCLVP  B00004U9V2"
      ]
     },
     "execution_count": 2,
     "metadata": {},
     "output_type": "execute_result"
    }
   ],
   "source": [
    "user_item_df = pd.read_csv('../user_item.csv')\n",
    "user_item_df.head()"
   ]
  },
  {
   "cell_type": "code",
   "execution_count": 3,
   "metadata": {},
   "outputs": [
    {
     "name": "stdout",
     "output_type": "stream",
     "text": [
      "1581\n",
      "3819\n"
     ]
    }
   ],
   "source": [
    "item_list = list(set(list(user_item_df['asin'])))\n",
    "user_list = list(set(list(user_item_df['reviewerID'])))\n",
    "user_num = len(user_list)\n",
    "item_num = len(item_list)\n",
    "print(len(item_list))\n",
    "print(len(user_list))"
   ]
  },
  {
   "cell_type": "code",
   "execution_count": 4,
   "metadata": {},
   "outputs": [],
   "source": [
    "# user, itemをID化する\n",
    "user_item_list = []\n",
    "for row in user_item_df.values:\n",
    "    user = user_list.index(row[0])\n",
    "    item = item_list.index(row[1])\n",
    "    user_item_list.append([user, item])\n",
    "\n",
    "user_item_df = pd.DataFrame(np.array(user_item_list), \n",
    "                            columns = ['reviewerID', 'asin'])"
   ]
  },
  {
   "cell_type": "code",
   "execution_count": 5,
   "metadata": {},
   "outputs": [
    {
     "name": "stdout",
     "output_type": "stream",
     "text": [
      "train 17139\n",
      "test 17139\n"
     ]
    }
   ],
   "source": [
    "user_item_df = user_item_df.take(np.random.permutation(len(user_item_df)))\n",
    "train_num = int(0.5 * len(user_item_df))\n",
    "user_item_train_df = user_item_df[0:train_num]\n",
    "user_item_test_df = user_item_df[train_num:]\n",
    "\n",
    "print('train {}'.format(train_num))\n",
    "print('test {}'.format(len(user_item_test_df)))"
   ]
  },
  {
   "cell_type": "code",
   "execution_count": 6,
   "metadata": {},
   "outputs": [],
   "source": []
  },
  {
   "cell_type": "code",
   "execution_count": null,
   "metadata": {},
   "outputs": [],
   "source": []
  },
  {
   "cell_type": "markdown",
   "metadata": {},
   "source": [
    "# Item Simirality Matを作る"
   ]
  },
  {
   "cell_type": "code",
   "execution_count": null,
   "metadata": {},
   "outputs": [],
   "source": [
    "class SLIM():\n",
    "    \n",
    "    \n",
    "    def __init__(self, lin_model='lasso', alpha, user_num, item_num):\n",
    "        if lin_model == 'lasso':\n",
    "            self.reg = Lasso(alpha=alpha, positive=True)\n",
    "        elif lin_model == 'elastic':\n",
    "            self.reg = ElasticNet(alpha=alpha, positive=True)\n",
    "            \n",
    "        self.user_num = user_num\n",
    "        self.item_num = item_num\n",
    "            \n",
    "    def fit(self, user_item_train_df):\n",
    "        # rating_mat\n",
    "        self.row = np.array([r[0] for r in user_item_train_df.values], dtype=int)\n",
    "        self.col = np.array([r[1] for r in user_item_train_df.values], dtype=int)\n",
    "        self.data = np.ones(len(user_item_train_df), dtype=int)\n",
    "        self.rating_mat = csr_matrix((data, (row, col)), shape = (self.user_num, self.item_num))\n",
    "        \n",
    "        # linear modelを解く\n",
    "        sim_mat = []\n",
    "        for i in range(len(item_list)):\n",
    "            X = del_col(i)\n",
    "            y = self.rating_mat[:, i]\n",
    "    \n",
    "            #reg = ElasticNet(alpha=0.0001, positive=True)\n",
    "            #reg = Ridge()\n",
    "            #reg = Lasso(alpha=0.0001, positive=True)\n",
    "            self.reg.fit(X.toarray(), y.toarray())\n",
    "            w = np.insert(self.reg.coef_, i, 0)[:,  np.newaxis]\n",
    "            sim_mat.append(w)\n",
    "    \n",
    "            #if i > 9:\n",
    "            #    break\n",
    "\n",
    "        self.sim_mat = np.concatenate(sim_mat, axis=1)\n",
    "    \n",
    "        \n",
    "    def del_col(self, col_idx):\n",
    "        row_new = self.row[self.col != col_idx]\n",
    "        col_new = self.col[self.col != col_idx]\n",
    "        col_new[col_new > col_idx] = col_new[col_new > col_idx] - 1\n",
    "        data_new = self.data[col != col_idx]\n",
    "    \n",
    "        return csr_matrix((data_new, (row_new, col_new)), shape = (len(user_list), len(item_list)-1))\n",
    "    \n",
    "    \n",
    "    def pred_ranking(self, user_id):\n",
    "        pred_mat = np.dot(self.rating_mat.toarray(), self.sim_mat)\n",
    "\n",
    "        # あるユーザの予測ランキングを返す\n",
    "        rec_mat = pred_mat - self.rating_mat\n",
    "        row_user = rec_mat[user_id, :]\n",
    "        #print(row_user)\n",
    "        rec_item_idx = np.argsort(row_user)[::-1]\n",
    "\n",
    "        return np.array(rec_item_idx)[0, :]"
   ]
  },
  {
   "cell_type": "code",
   "execution_count": null,
   "metadata": {},
   "outputs": [],
   "source": []
  },
  {
   "cell_type": "code",
   "execution_count": 7,
   "metadata": {},
   "outputs": [
    {
     "data": {
      "text/plain": [
       "(3819, 1581)"
      ]
     },
     "execution_count": 7,
     "metadata": {},
     "output_type": "execute_result"
    }
   ],
   "source": [
    "# rating mat\n",
    "# row = np.array([user_list.index(r[0]) for r in user_item_train_df.values], dtype=int)\n",
    "# col = np.array([item_list.index(r[1]) for r in user_item_train_df.values], dtype=int)\n",
    "row = np.array([r[0] for r in user_item_train_df.values], dtype=int)\n",
    "col = np.array([r[1] for r in user_item_train_df.values], dtype=int)\n",
    "data = np.ones(len(user_item_train_df), dtype=int)\n",
    "rating_mat = csr_matrix((data, (row, col)), shape = (len(user_list), len(item_list)))\n",
    "rating_mat.shape"
   ]
  },
  {
   "cell_type": "markdown",
   "metadata": {},
   "source": [
    "## Linearモデルを解く"
   ]
  },
  {
   "cell_type": "code",
   "execution_count": 89,
   "metadata": {},
   "outputs": [
    {
     "data": {
      "text/plain": [
       "(1581, 11)"
      ]
     },
     "execution_count": 89,
     "metadata": {},
     "output_type": "execute_result"
    }
   ],
   "source": [
    "sim_mat = []\n",
    "\n",
    "for i in range(len(item_list)):\n",
    "    X = del_col(i)\n",
    "    y = rating_mat[:, i]\n",
    "    \n",
    "    reg = ElasticNet(alpha=0.0001, positive=True)\n",
    "    #reg = Ridge()\n",
    "    #reg = Lasso(alpha=0.0001, positive=True)\n",
    "    reg.fit(X.toarray(), y.toarray())\n",
    "    w = np.insert(reg.coef_, i, 0)[:,  np.newaxis]\n",
    "    sim_mat.append(w)\n",
    "    \n",
    "    if i > 9:\n",
    "        break\n",
    "\n",
    "sim_mat = np.concatenate(sim_mat, axis=1)\n",
    "sim_mat.shape\n",
    "#np.savetxt('./sim_mat.txt', sim_mat)"
   ]
  },
  {
   "cell_type": "code",
   "execution_count": null,
   "metadata": {},
   "outputs": [],
   "source": []
  },
  {
   "cell_type": "code",
   "execution_count": 8,
   "metadata": {},
   "outputs": [],
   "source": [
    "def del_col(col_idx):\n",
    "    row_new = row[col != col_idx]\n",
    "    col_new = col[col != col_idx]\n",
    "    col_new[col_new > col_idx] = col_new[col_new > col_idx] - 1\n",
    "    data_new = data[col != col_idx]\n",
    "    \n",
    "    return csr_matrix((data_new, (row_new, col_new)), shape = (len(user_list), len(item_list)-1))"
   ]
  },
  {
   "cell_type": "markdown",
   "metadata": {},
   "source": [
    "# 予測する"
   ]
  },
  {
   "cell_type": "code",
   "execution_count": 93,
   "metadata": {},
   "outputs": [],
   "source": [
    "sim_mat = np.loadtxt('sim_mat.txt')"
   ]
  },
  {
   "cell_type": "code",
   "execution_count": 71,
   "metadata": {},
   "outputs": [],
   "source": [
    "def pred_ranking(user_id):\n",
    "    pred_mat = np.dot(rating_mat.toarray(), sim_mat)\n",
    "\n",
    "    # あるユーザの予測ランキングを返す\n",
    "    rec_mat = pred_mat - rating_mat\n",
    "    row_user = rec_mat[user_id, :]\n",
    "    #print(row_user)\n",
    "    rec_item_idx = np.argsort(row_user)[::-1]\n",
    "\n",
    "    return np.array(rec_item_idx)[0, :]"
   ]
  },
  {
   "cell_type": "markdown",
   "metadata": {},
   "source": [
    "# Evaluation"
   ]
  },
  {
   "cell_type": "code",
   "execution_count": 106,
   "metadata": {},
   "outputs": [],
   "source": [
    "class Evaluater():\n",
    "    \n",
    "    \n",
    "    def __init__(self, user_item_test_df, user_num):\n",
    "        self.user_num = user_num\n",
    "        self.user_items_dict = user_aggregate_item(user_item_test_df)\n",
    "            \n",
    "    def user_aggregate_item(df):\n",
    "        user_items_dict = {}\n",
    "        #for user in user_list:\n",
    "        for i in range(self.user_num):\n",
    "            items_df = df[df['reviewerID'] == i]\n",
    "            user_items_dict[i] = list(items_df['asin'])\n",
    "        return user_items_dict\n",
    "    \n",
    "    def topn_precision(sorted_idx, target_user_id, n=10):\n",
    "\n",
    "        if len(self.user_items_dict[target_user_id]) == 0:\n",
    "            return 0\n",
    "        \n",
    "        topn_idx = sorted_idx[:n]   \n",
    "        #print(topn_idx)\n",
    "        #print(user_items_test_dict[target_user_id])\n",
    "        hit = len(set(topn_idx) & set(self.user_items_dict[target_user_id]))\n",
    "    \n",
    "        precision = hit / len(self.user_items_dict[target_user_id])\n",
    "        # precision_sum += precision\n",
    "                \n",
    "        return precision\n",
    "    \n",
    "    \n",
    "    def topn_recall(n=10):\n",
    "        return 0"
   ]
  },
  {
   "cell_type": "code",
   "execution_count": null,
   "metadata": {},
   "outputs": [],
   "source": [
    "# データに含まれるuser-item1, item2, item3, ...を返す\n",
    "# 辞書\n",
    "def user_aggregate_item(df):\n",
    "    user_items_dict = {}\n",
    "    #for user in user_list:\n",
    "    for i in range(len(user_list)):\n",
    "        items_df = df[df['reviewerID'] == i]\n",
    "        user_items_dict[i] = list(items_df['asin'])\n",
    "    return user_items_dict\n",
    "\n",
    "# evaluationで使う\n",
    "user_items_test_dict = user_aggregate_item(user_item_test_df)"
   ]
  },
  {
   "cell_type": "code",
   "execution_count": 102,
   "metadata": {},
   "outputs": [],
   "source": [
    "def topn_precision(sorted_idx, target_user_id, user_items_dict, n=10):\n",
    "\n",
    "    if len(user_items_dict[target_user_id]) == 0:\n",
    "        return 0\n",
    "        \n",
    "    topn_idx = sorted_idx[:n]   \n",
    "    #print(topn_idx)\n",
    "    #print(user_items_test_dict[target_user_id])\n",
    "    hit = len(set(topn_idx) & set(user_items_dict[target_user_id]))\n",
    "    \n",
    "    precision = hit / len(user_items_dict[target_user_id])\n",
    "    # precision_sum += precision\n",
    "                \n",
    "    return precision\n",
    "    \n",
    "    \n",
    "def topn_recall(n=10):\n",
    "    return 0"
   ]
  },
  {
   "cell_type": "code",
   "execution_count": 108,
   "metadata": {},
   "outputs": [
    {
     "name": "stdout",
     "output_type": "stream",
     "text": [
      "0.25227272727272726\n"
     ]
    },
    {
     "data": {
      "text/plain": [
       "0.0006605727344140541"
      ]
     },
     "execution_count": 108,
     "metadata": {},
     "output_type": "execute_result"
    }
   ],
   "source": [
    "score_sum = 0\n",
    "for i in range(len(user_list)):\n",
    "    rec_item_idx = pred_ranking(i)\n",
    "    score = topn_precision(rec_item_idx, i, user_items_test_dict)\n",
    "    score_sum += score\n",
    "\n",
    "    if i > 10:\n",
    "        break\n",
    "\n",
    "print(score_sum / 10)"
   ]
  },
  {
   "cell_type": "code",
   "execution_count": null,
   "metadata": {},
   "outputs": [],
   "source": []
  }
 ],
 "metadata": {
  "kernelspec": {
   "display_name": "Python 3",
   "language": "python",
   "name": "python3"
  },
  "language_info": {
   "codemirror_mode": {
    "name": "ipython",
    "version": 3
   },
   "file_extension": ".py",
   "mimetype": "text/x-python",
   "name": "python",
   "nbconvert_exporter": "python",
   "pygments_lexer": "ipython3",
   "version": "3.7.2"
  }
 },
 "nbformat": 4,
 "nbformat_minor": 4
}
