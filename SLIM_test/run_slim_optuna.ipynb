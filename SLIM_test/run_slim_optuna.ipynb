{
 "cells": [
  {
   "cell_type": "code",
   "execution_count": 1,
   "metadata": {},
   "outputs": [],
   "source": [
    "import SLIM_model\n",
    "import evaluate\n",
    "import pandas as pd\n",
    "import numpy as np\n",
    "import pickle\n",
    "import time\n",
    "\n",
    "from importlib import reload\n",
    "import optuna"
   ]
  },
  {
   "cell_type": "code",
   "execution_count": 2,
   "metadata": {},
   "outputs": [],
   "source": [
    "# データロード\n",
    "user_item_train_df = pd.read_csv('./data/user_item_train.csv')\n",
    "user_item_test_df = pd.read_csv('./data/user_item_test.csv')\n",
    "user_list = []\n",
    "item_list = []\n",
    "with open('./data/user_list.txt', 'r') as f:\n",
    "    for l in f:\n",
    "        user_list.append(l.replace('\\n', ''))\n",
    "        \n",
    "with open('./data/item_list.txt', 'r') as f:\n",
    "    for l in f:\n",
    "        item_list.append(l.replace('\\n', ''))"
   ]
  },
  {
   "cell_type": "code",
   "execution_count": 5,
   "metadata": {},
   "outputs": [],
   "source": [
    "# ハイパラ\n",
    "# alpha, l1_ratio, lin_model\n",
    "\n",
    "def time_since(runtime):\n",
    "    mi = int(runtime / 60)\n",
    "    sec = int(runtime - mi * 60)\n",
    "    return (mi, sec)\n",
    "\n",
    "\n",
    "lin_model = 'elastic'\n",
    "def objective(trial):\n",
    "    start = time.time()\n",
    "    # define model and fit\n",
    "    alpha = trial.suggest_loguniform('alpha', 1e-6, 1)\n",
    "    l1_ratio = trial.suggest_uniform('l1_ratio', 0, 1)\n",
    "    #lin_model = trial.suggest_categorical('lin_model', ['lasso', 'elastic'])\n",
    "    \n",
    "    model = SLIM_model.SLIM(alpha, l1_ratio, len(user_list), len(item_list), lin_model=lin_model)\n",
    "    #model.fit(user_item_train_df)\n",
    "    model.fit_multi(user_item_train_df)\n",
    "    #model.load_sim_mat('./sim_mat.txt', user_item_train_df)\n",
    "\n",
    "    # evaluate\n",
    "    eval_model = evaluate.Evaluater(user_item_test_df, len(user_list))\n",
    "    score_sum = 0\n",
    "    not_count = 0\n",
    "    for i in range(len(user_list)):\n",
    "        rec_item_idx = model.pred_ranking(i)\n",
    "        score = eval_model.topn_precision(rec_item_idx, i)\n",
    "        if score > 1:\n",
    "            not_count += 1\n",
    "            continue\n",
    "        score_sum += score\n",
    "\n",
    "    mi, sec = time_since(time.time() - start)\n",
    "    print('{}m{}sec'.format(mi, sec))\n",
    "        #if i > 20:\n",
    "        #    break\n",
    "\n",
    "    return -1 * (score_sum / (len(user_list) - not_count))"
   ]
  },
  {
   "cell_type": "code",
   "execution_count": null,
   "metadata": {},
   "outputs": [],
   "source": [
    "study = optuna.create_study()\n",
    "study.optimize(objective, n_trials=20)"
   ]
  },
  {
   "cell_type": "code",
   "execution_count": null,
   "metadata": {},
   "outputs": [],
   "source": [
    "# パラメータを保存しておく\n",
    "df = study.trials_dataframe() # pandasのDataFrame形式\n",
    "df.to_csv('hyparams_result.csv')"
   ]
  },
  {
   "cell_type": "code",
   "execution_count": null,
   "metadata": {},
   "outputs": [],
   "source": [
    "# save best params \n",
    "with open('best_param.pickle', 'wb') as f:\n",
    "    pickle.dump(study.best_params, f)"
   ]
  },
  {
   "cell_type": "code",
   "execution_count": null,
   "metadata": {},
   "outputs": [],
   "source": []
  }
 ],
 "metadata": {
  "kernelspec": {
   "display_name": "Python 3",
   "language": "python",
   "name": "python3"
  },
  "language_info": {
   "codemirror_mode": {
    "name": "ipython",
    "version": 3
   },
   "file_extension": ".py",
   "mimetype": "text/x-python",
   "name": "python",
   "nbconvert_exporter": "python",
   "pygments_lexer": "ipython3",
   "version": "3.7.3"
  }
 },
 "nbformat": 4,
 "nbformat_minor": 4
}
