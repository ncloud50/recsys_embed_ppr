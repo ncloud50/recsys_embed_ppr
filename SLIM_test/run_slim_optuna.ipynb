{
 "cells": [
  {
   "cell_type": "code",
   "execution_count": 1,
   "metadata": {},
   "outputs": [],
   "source": [
    "import SLIM_model\n",
    "import evaluate\n",
    "import pandas as pd\n",
    "import numpy as np\n",
    "import pickle\n",
    "import time\n",
    "\n",
    "from importlib import reload\n",
    "import optuna"
   ]
  },
  {
   "cell_type": "code",
   "execution_count": 2,
   "metadata": {},
   "outputs": [],
   "source": [
    "# データロード\n",
    "user_item_train_df = pd.read_csv('./data/user_item_train.csv')\n",
    "user_item_test_df = pd.read_csv('./data/user_item_test.csv')\n",
    "user_list = []\n",
    "item_list = []\n",
    "with open('./data/user_list.txt', 'r') as f:\n",
    "    for l in f:\n",
    "        user_list.append(l.replace('\\n', ''))\n",
    "        \n",
    "with open('./data/item_list.txt', 'r') as f:\n",
    "    for l in f:\n",
    "        item_list.append(l.replace('\\n', ''))"
   ]
  },
  {
   "cell_type": "code",
   "execution_count": 5,
   "metadata": {},
   "outputs": [],
   "source": [
    "# ハイパラ\n",
    "# alpha, l1_ratio, lin_model\n",
    "\n",
    "def time_since(runtime):\n",
    "    mi = int(runtime / 60)\n",
    "    sec = int(runtime - mi * 60)\n",
    "    return (mi, sec)\n",
    "\n",
    "\n",
    "lin_model = 'elastic'\n",
    "def objective(trial):\n",
    "    start = time.time()\n",
    "    # define model and fit\n",
    "    alpha = trial.suggest_loguniform('alpha', 1e-6, 1)\n",
    "    l1_ratio = trial.suggest_uniform('l1_ratio', 0, 1)\n",
    "    #lin_model = trial.suggest_categorical('lin_model', ['lasso', 'elastic'])\n",
    "    \n",
    "    model = SLIM_model.SLIM(alpha, l1_ratio, len(user_list), len(item_list), lin_model=lin_model)\n",
    "    #model.fit(user_item_train_df)\n",
    "    model.fit_multi(user_item_train_df)\n",
    "    #model.load_sim_mat('./sim_mat.txt', user_item_train_df)\n",
    "\n",
    "    # evaluate\n",
    "    eval_model = evaluate.Evaluater(user_item_test_df, len(user_list))\n",
    "    score_sum = 0\n",
    "    not_count = 0\n",
    "    for i in range(len(user_list)):\n",
    "        rec_item_idx = model.pred_ranking(i)\n",
    "        score = eval_model.topn_precision(rec_item_idx, i)\n",
    "        if score > 1:\n",
    "            not_count += 1\n",
    "            continue\n",
    "        score_sum += score\n",
    "\n",
    "    mi, sec = time_since(time.time() - start)\n",
    "    print('{}m{}sec'.format(mi, sec))\n",
    "        #if i > 20:\n",
    "        #    break\n",
    "\n",
    "    return -1 * (score_sum / (len(user_list) - not_count))"
   ]
  },
  {
   "cell_type": "code",
   "execution_count": null,
   "metadata": {},
   "outputs": [
    {
     "name": "stdout",
     "output_type": "stream",
     "text": [
      "17m39sec\n"
     ]
    },
    {
     "name": "stderr",
     "output_type": "stream",
     "text": [
      "[I 2020-07-05 08:42:01,338] Finished trial#0 with value: -0.164546820120712 with parameters: {'alpha': 0.27243969881987223, 'l1_ratio': 0.7327114765483055}. Best is trial#0 with value: -0.164546820120712.\n"
     ]
    },
    {
     "name": "stdout",
     "output_type": "stream",
     "text": [
      "17m36sec\n"
     ]
    },
    {
     "name": "stderr",
     "output_type": "stream",
     "text": [
      "[I 2020-07-05 08:59:37,583] Finished trial#1 with value: -0.164546820120712 with parameters: {'alpha': 0.4381229130460717, 'l1_ratio': 0.8949117371552533}. Best is trial#0 with value: -0.164546820120712.\n"
     ]
    },
    {
     "name": "stdout",
     "output_type": "stream",
     "text": [
      "17m41sec\n"
     ]
    },
    {
     "name": "stderr",
     "output_type": "stream",
     "text": [
      "[I 2020-07-05 09:17:19,187] Finished trial#2 with value: -0.15732103936551933 with parameters: {'alpha': 0.024757757560967, 'l1_ratio': 0.8057876784793508}. Best is trial#0 with value: -0.164546820120712.\n"
     ]
    },
    {
     "name": "stdout",
     "output_type": "stream",
     "text": [
      "17m39sec\n"
     ]
    },
    {
     "name": "stderr",
     "output_type": "stream",
     "text": [
      "[I 2020-07-05 09:34:58,552] Finished trial#3 with value: -0.16112516488244777 with parameters: {'alpha': 0.1068303367497096, 'l1_ratio': 0.3853174977341711}. Best is trial#0 with value: -0.164546820120712.\n"
     ]
    },
    {
     "name": "stdout",
     "output_type": "stream",
     "text": [
      "18m0sec\n"
     ]
    },
    {
     "name": "stderr",
     "output_type": "stream",
     "text": [
      "[I 2020-07-05 09:52:58,672] Finished trial#4 with value: -0.14008966914048335 with parameters: {'alpha': 0.00012439404902324196, 'l1_ratio': 0.46802236602062164}. Best is trial#0 with value: -0.164546820120712.\n"
     ]
    },
    {
     "name": "stdout",
     "output_type": "stream",
     "text": [
      "17m40sec\n"
     ]
    },
    {
     "name": "stderr",
     "output_type": "stream",
     "text": [
      "[I 2020-07-05 10:10:39,745] Finished trial#5 with value: -0.164546820120712 with parameters: {'alpha': 0.6964620573236578, 'l1_ratio': 0.6622621057118706}. Best is trial#0 with value: -0.164546820120712.\n"
     ]
    },
    {
     "name": "stdout",
     "output_type": "stream",
     "text": [
      "17m41sec\n"
     ]
    },
    {
     "name": "stderr",
     "output_type": "stream",
     "text": [
      "[I 2020-07-05 10:28:21,291] Finished trial#6 with value: -0.15758720918186214 with parameters: {'alpha': 0.028984401552338168, 'l1_ratio': 0.9173028999564016}. Best is trial#0 with value: -0.164546820120712.\n"
     ]
    },
    {
     "name": "stdout",
     "output_type": "stream",
     "text": [
      "18m3sec\n"
     ]
    },
    {
     "name": "stderr",
     "output_type": "stream",
     "text": [
      "[I 2020-07-05 10:46:25,069] Finished trial#7 with value: -0.13985726558072759 with parameters: {'alpha': 3.290099115825603e-05, 'l1_ratio': 0.8391971053895017}. Best is trial#0 with value: -0.164546820120712.\n"
     ]
    },
    {
     "name": "stdout",
     "output_type": "stream",
     "text": [
      "18m14sec\n"
     ]
    },
    {
     "name": "stderr",
     "output_type": "stream",
     "text": [
      "[I 2020-07-05 11:04:39,711] Finished trial#8 with value: -0.1395535840786165 with parameters: {'alpha': 8.988330179043975e-06, 'l1_ratio': 0.4231182194815062}. Best is trial#0 with value: -0.164546820120712.\n"
     ]
    },
    {
     "name": "stdout",
     "output_type": "stream",
     "text": [
      "17m55sec\n"
     ]
    },
    {
     "name": "stderr",
     "output_type": "stream",
     "text": [
      "[I 2020-07-05 11:22:35,523] Finished trial#9 with value: -0.13989848068715435 with parameters: {'alpha': 0.00010619086649365309, 'l1_ratio': 0.7535732562493668}. Best is trial#0 with value: -0.164546820120712.\n"
     ]
    },
    {
     "name": "stdout",
     "output_type": "stream",
     "text": [
      "17m46sec\n"
     ]
    },
    {
     "name": "stderr",
     "output_type": "stream",
     "text": [
      "[I 2020-07-05 11:40:22,045] Finished trial#10 with value: -0.1418672629187443 with parameters: {'alpha': 0.002226381260175314, 'l1_ratio': 0.17985204702705093}. Best is trial#0 with value: -0.164546820120712.\n"
     ]
    },
    {
     "name": "stdout",
     "output_type": "stream",
     "text": [
      "17m40sec\n"
     ]
    },
    {
     "name": "stderr",
     "output_type": "stream",
     "text": [
      "[I 2020-07-05 11:58:02,541] Finished trial#11 with value: -0.164546820120712 with parameters: {'alpha': 0.9510804593099471, 'l1_ratio': 0.9970484835423308}. Best is trial#0 with value: -0.164546820120712.\n"
     ]
    }
   ],
   "source": [
    "study = optuna.create_study()\n",
    "study.optimize(objective, n_trials=20)"
   ]
  },
  {
   "cell_type": "code",
   "execution_count": null,
   "metadata": {},
   "outputs": [],
   "source": [
    "# パラメータを保存しておく\n",
    "df = study.trials_dataframe() # pandasのDataFrame形式\n",
    "df.to_csv('hyparams_result.csv')"
   ]
  },
  {
   "cell_type": "code",
   "execution_count": null,
   "metadata": {},
   "outputs": [],
   "source": [
    "# save best params \n",
    "with open('best_param.pickle', 'wb') as f:\n",
    "    pickle.dump(study.best_params, f)"
   ]
  },
  {
   "cell_type": "code",
   "execution_count": null,
   "metadata": {},
   "outputs": [],
   "source": []
  }
 ],
 "metadata": {
  "kernelspec": {
   "display_name": "Python 3",
   "language": "python",
   "name": "python3"
  },
  "language_info": {
   "codemirror_mode": {
    "name": "ipython",
    "version": 3
   },
   "file_extension": ".py",
   "mimetype": "text/x-python",
   "name": "python",
   "nbconvert_exporter": "python",
   "pygments_lexer": "ipython3",
   "version": "3.7.3"
  }
 },
 "nbformat": 4,
 "nbformat_minor": 4
}
