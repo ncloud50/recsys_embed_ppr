{
 "cells": [
  {
   "cell_type": "code",
   "execution_count": 1,
   "metadata": {},
   "outputs": [],
   "source": [
    "import SLIM_model\n",
    "import evaluate\n",
    "import pandas as pd\n",
    "import pickle\n",
    "\n",
    "from importlib import reload\n"
   ]
  },
  {
   "cell_type": "code",
   "execution_count": null,
   "metadata": {},
   "outputs": [],
   "source": [
    "reload(SLIM_model)\n",
    "reload(evaluate)"
   ]
  },
  {
   "cell_type": "code",
   "execution_count": 3,
   "metadata": {},
   "outputs": [],
   "source": [
    "# データロード\n",
    "user_item_train_df = pd.read_csv('./data/user_item_train.csv')\n",
    "user_item_test_df = pd.read_csv('./data/user_item_test.csv')\n",
    "user_list = []\n",
    "item_list = []\n",
    "with open('./data/user_list.txt', 'r') as f:\n",
    "    for l in f:\n",
    "        user_list.append(l.replace('\\n', ''))\n",
    "        \n",
    "with open('./data/item_list.txt', 'r') as f:\n",
    "    for l in f:\n",
    "        item_list.append(l.replace('\\n', ''))"
   ]
  },
  {
   "cell_type": "code",
   "execution_count": 4,
   "metadata": {},
   "outputs": [],
   "source": [
    "# ハイパラ\n",
    "# alpha, lin_model\n",
    "\n",
    "alpha = 0.001\n",
    "model = SLIM_model.SLIM(alpha, len(user_list), len(item_list), lin_model='elastic')"
   ]
  },
  {
   "cell_type": "code",
   "execution_count": 6,
   "metadata": {},
   "outputs": [],
   "source": [
    "#model.fit(user_item_train_df)\n",
    "model.load_sim_mat('./sim_mat.txt', user_item_train_df)"
   ]
  },
  {
   "cell_type": "code",
   "execution_count": 38,
   "metadata": {},
   "outputs": [],
   "source": [
    "\n",
    "eval_model = evaluate.Evaluater(user_item_test_df, len(user_list))"
   ]
  },
  {
   "cell_type": "code",
   "execution_count": 42,
   "metadata": {},
   "outputs": [
    {
     "name": "stdout",
     "output_type": "stream",
     "text": [
      "0.15375\n"
     ]
    }
   ],
   "source": [
    "score_sum = 0\n",
    "not_count = 0\n",
    "for i in range(len(user_list)):\n",
    "    rec_item_idx = model.pred_ranking(i)\n",
    "    score = eval_model.topn_precision(rec_item_idx, i)\n",
    "    if score > 1:\n",
    "        not_count += 1\n",
    "        continue\n",
    "    score_sum += score\n",
    "\n",
    "    \n",
    "    if i > 20:\n",
    "        break\n",
    "\n",
    "    #print(not_count)\n",
    "print(score_sum / 20 - not_count)"
   ]
  },
  {
   "cell_type": "code",
   "execution_count": null,
   "metadata": {},
   "outputs": [],
   "source": []
  }
 ],
 "metadata": {
  "kernelspec": {
   "display_name": "Python 3",
   "language": "python",
   "name": "python3"
  },
  "language_info": {
   "codemirror_mode": {
    "name": "ipython",
    "version": 3
   },
   "file_extension": ".py",
   "mimetype": "text/x-python",
   "name": "python",
   "nbconvert_exporter": "python",
   "pygments_lexer": "ipython3",
   "version": "3.7.2"
  }
 },
 "nbformat": 4,
 "nbformat_minor": 4
}
