{
 "cells": [
  {
   "cell_type": "code",
   "execution_count": 1,
   "metadata": {},
   "outputs": [],
   "source": [
    "import networkx as nx\n",
    "from networkx.exception import NetworkXError\n",
    "\n",
    "import pandas as pd\n",
    "import matplotlib.pyplot as plt\n",
    "import numpy as np\n",
    "import scipy.sparse\n",
    "import pickle\n",
    "\n",
    "from SLIM_model import SLIM\n",
    "import optuna"
   ]
  },
  {
   "cell_type": "markdown",
   "metadata": {},
   "source": [
    "# データロード"
   ]
  },
  {
   "cell_type": "code",
   "execution_count": 2,
   "metadata": {},
   "outputs": [],
   "source": [
    "slim_train = pd.read_csv('./data/user_item_train_slim.csv')\n",
    "triplet_df = pd.read_csv('./data/triplet.csv')\n",
    "edges = [[r[0], r[1]] for r in triplet_df.values]\n",
    "\n",
    "user_list = []\n",
    "item_list = []\n",
    "entity_list = []\n",
    "with open('./data/user_list.txt', 'r') as f:\n",
    "    for l in f:\n",
    "        user_list.append(l.replace('\\n', ''))\n",
    "with open('./data/item_list.txt', 'r') as f:\n",
    "    for l in f:\n",
    "        item_list.append(l.replace('\\n', ''))\n",
    "with open('./data/entity_list.txt', 'r') as f:\n",
    "    for l in f:\n",
    "        entity_list.append(l.replace('\\n', ''))"
   ]
  },
  {
   "cell_type": "code",
   "execution_count": 3,
   "metadata": {},
   "outputs": [
    {
     "data": {
      "text/plain": [
       "3819"
      ]
     },
     "execution_count": 3,
     "metadata": {},
     "output_type": "execute_result"
    }
   ],
   "source": [
    "len(user_list)"
   ]
  },
  {
   "cell_type": "markdown",
   "metadata": {},
   "source": [
    "# SLIMでitem_sim_matを作る"
   ]
  },
  {
   "cell_type": "code",
   "execution_count": 5,
   "metadata": {},
   "outputs": [],
   "source": [
    "# ハイパラ\n",
    "# gamma\n",
    "gamma = 0.001\n",
    "slim = SLIM(gamma, len(user_list), len(item_list))"
   ]
  },
  {
   "cell_type": "code",
   "execution_count": 162,
   "metadata": {},
   "outputs": [],
   "source": [
    "#slim.fit(slim_train)"
   ]
  },
  {
   "cell_type": "code",
   "execution_count": 17,
   "metadata": {},
   "outputs": [],
   "source": [
    "slim.save_sim_mat('./sim_mat.txt')"
   ]
  },
  {
   "cell_type": "markdown",
   "metadata": {},
   "source": [
    "# PageRank"
   ]
  },
  {
   "cell_type": "markdown",
   "metadata": {},
   "source": [
    "- sim_mat(item_len * item_len)を使って隣接行列を作る\n",
    "- 隣接行列((item_len + user_len + brand_len) * (item_len + user_len + brand_len))\n",
    "- nx.google_matrixを参考に隣接行列を作る  \n",
    "\n",
    "\n",
    "danglingあんまり効果がわからないので注意"
   ]
  },
  {
   "cell_type": "code",
   "execution_count": 23,
   "metadata": {},
   "outputs": [],
   "source": [
    "G = nx.DiGraph()\n",
    "G.add_nodes_from([i for i in range(len(entity_list))])\n",
    "G.add_edges_from(edges)"
   ]
  },
  {
   "cell_type": "code",
   "execution_count": 158,
   "metadata": {},
   "outputs": [],
   "source": [
    "def google_matrix(G, item_mat=None, alpha=0.85, beta=0.01, personalization=None,\n",
    "                  weight='weight', dangling=None):\n",
    "\n",
    "    nodelist = G.nodes()\n",
    "\n",
    "    M = nx.to_numpy_matrix(G, nodelist=nodelist, weight=weight)\n",
    "    N = len(G)\n",
    "    if N == 0:\n",
    "        return M\n",
    "\n",
    "    # Personalization vector\n",
    "    if personalization is None:\n",
    "        p = np.repeat(1.0 / N, N)\n",
    "    else:\n",
    "        missing = set(nodelist) - set(personalization)\n",
    "        if missing:\n",
    "            raise NetworkXError('Personalization vector dictionary '\n",
    "                                'must have a value for every node. '\n",
    "                                'Missing nodes %s' % missing)\n",
    "        p = np.array([personalization[n] for n in nodelist], dtype=float)\n",
    "        p /= p.sum()\n",
    "\n",
    "    #print(p)\n",
    "    #print(p.shape)\n",
    "        \n",
    "    # Dangling nodes\n",
    "    if dangling is None:\n",
    "        dangling_weights = p\n",
    "    else:\n",
    "        missing = set(nodelist) - set(dangling)\n",
    "        if missing:\n",
    "            raise NetworkXError('Dangling node dictionary '\n",
    "                                'must have a value for every node. '\n",
    "                                'Missing nodes %s' % missing)\n",
    "        # Convert the dangling dictionary into an array in nodelist order\n",
    "        dangling_weights = np.array([dangling[n] for n in nodelist],\n",
    "                                    dtype=float)\n",
    "        dangling_weights /= dangling_weights.sum()\n",
    "    dangling_nodes = np.where(M.sum(axis=1) == 0)[0]\n",
    "\n",
    "    # Assign dangling_weights to any dangling nodes (nodes with no out links)\n",
    "    for node in dangling_nodes:\n",
    "        M[node] = dangling_weights\n",
    "\n",
    "    \n",
    "    M /= M.sum(axis=1)  # Normalize rows to sum to 1\n",
    "    \n",
    "    if item_mat is not None:\n",
    "        sim_mat = mk_sim_mat(G, item_mat)\n",
    "\n",
    "        M = beta * M + (1 - beta) * sim_mat\n",
    "    \n",
    "    return alpha * M + (1 - alpha) * p"
   ]
  },
  {
   "cell_type": "code",
   "execution_count": 160,
   "metadata": {},
   "outputs": [],
   "source": [
    "def mk_sim_mat(G, item_mat):\n",
    "    M = np.eye(len(G.nodes()))\n",
    "    #M = np.eye(4)\n",
    "    item_len = item_mat.shape[0]\n",
    "    M[0:item_len, 0:item_len] = item_mat\n",
    "    \n",
    "    # RecWalk論文の定義\n",
    "    M = M / np.max(M.sum(axis=1)) + np.diag(1 - M.sum(axis=1) / np.max(M.sum(axis=1)))\n",
    "    return M"
   ]
  },
  {
   "cell_type": "code",
   "execution_count": 174,
   "metadata": {},
   "outputs": [],
   "source": [
    "def pagerank_numpy(G, item_mat, alpha=0.85, beta=0.01, personalization=None, weight='weight',\n",
    "                   dangling=None):\n",
    "\n",
    "    import numpy as np\n",
    "    if len(G) == 0:\n",
    "        return {}\n",
    "    M = google_matrix(G, item_mat, alpha, beta, personalization=personalization,\n",
    "                      weight=weight, dangling=dangling)\n",
    "    #return 0\n",
    "    # use numpy LAPACK solver\n",
    "    eigenvalues, eigenvectors = np.linalg.eig(M.T)\n",
    "    ind = eigenvalues.argsort()\n",
    "    # eigenvector of largest eigenvalue at ind[-1], normalized\n",
    "    largest = np.array(eigenvectors[:, ind[-1]]).flatten().real\n",
    "    norm = float(largest.sum())\n",
    "    return dict(zip(G, map(float, largest / norm)))\n"
   ]
  },
  {
   "cell_type": "code",
   "execution_count": 177,
   "metadata": {},
   "outputs": [
    {
     "data": {
      "text/plain": [
       "0"
      ]
     },
     "execution_count": 177,
     "metadata": {},
     "output_type": "execute_result"
    }
   ],
   "source": [
    "val = [0 for i in range(len(G.nodes()))]\n",
    "k = [i for i in range(len(G.nodes()))]\n",
    "val[user_idx[0]] = 1\n",
    "personal = dict(zip(k, val))\n",
    "\n",
    "# ハイパラ\n",
    "# alpha, beta\n",
    "alpha = 0.9\n",
    "beta = 0.01\n",
    "pagerank_numpy(G, slim.sim_mat, alpha, beta, personalization=personal)"
   ]
  },
  {
   "cell_type": "code",
   "execution_count": 214,
   "metadata": {},
   "outputs": [],
   "source": [
    "user_idx = [entity_list.index(u) for u in user_list]\n",
    "\n",
    "def item_ppr(user, alpha, beta):\n",
    "    val = np.zeros(len(G.nodes()))\n",
    "    val[user] = 1\n",
    "    k = [i for i in range(len(G.nodes()))]\n",
    "    personal_vec = dict(zip(k, val))\n",
    "    #print(personal_vec)\n",
    "    #pr = pagerank_numpy(G, slim.sim_mat, alpha, beta, personalization=personal)\n",
    "    #return pr\n",
    "    \n",
    "    # random 後で消す\n",
    "    # val = np.random.dirichlet([1 for i in range(len(G.nodes))], 1)[0]\n",
    "    val = np.random.rand(len(G.nodes()))\n",
    "    val /= val.sum()\n",
    "    k = [i for i in range(len(G.nodes))]\n",
    "    ppr = dict(zip(k, val))\n",
    "    \n",
    "    pred = []\n",
    "    item_idx = [entity_list.index(i) for i in item_list]\n",
    "    for i in item_idx:\n",
    "        pred.append(ppr[i])\n",
    "    \n",
    "    return pred\n",
    "\n",
    "\n",
    "def get_ranking_mat(alpha=0.85, beta=0.01):\n",
    "    ranking_mat = []\n",
    "    count = 0\n",
    "    for u in user_idx:\n",
    "        pred = item_ppr(u, alpha, beta)\n",
    "        #print(pred)\n",
    "        sorted_idx = np.argsort(np.array(pred))[::-1]\n",
    "        ranking_mat.append(sorted_idx)\n",
    "        \n",
    "        #count += 1\n",
    "        #if count > 100:\n",
    "        #    break\n",
    "            \n",
    "    return ranking_mat"
   ]
  },
  {
   "cell_type": "code",
   "execution_count": 213,
   "metadata": {
    "collapsed": true,
    "jupyter": {
     "outputs_hidden": true
    }
   },
   "outputs": [
    {
     "name": "stdout",
     "output_type": "stream",
     "text": [
      "CPU times: user 3.32 s, sys: 10.1 ms, total: 3.33 s\n",
      "Wall time: 3.34 s\n"
     ]
    },
    {
     "data": {
      "text/plain": [
       "[array([  40,  733, 1316, ...,  576, 1397,  286]),\n",
       " array([ 889, 1137,  980, ..., 1232, 1247, 1334]),\n",
       " array([ 333,  477, 1077, ..., 1102,   76,  264]),\n",
       " array([  47, 1181,  855, ..., 1221,  439, 1470]),\n",
       " array([ 290, 1496, 1206, ..., 1507, 1187, 1361]),\n",
       " array([ 409,  253,  481, ..., 1298,  950, 1035]),\n",
       " array([1269, 1115, 1053, ...,  520, 1045,  614]),\n",
       " array([ 400, 1505, 1495, ...,  952,  837,  772]),\n",
       " array([ 705,  295,  138, ..., 1375,  787,  160]),\n",
       " array([1444,   57, 1417, ...,  913,  512,  464]),\n",
       " array([1039,  184,  902, ..., 1149,  404,  426]),\n",
       " array([ 548, 1335,  961, ...,  586, 1141,  231]),\n",
       " array([ 268, 1276,  212, ...,  996,  510, 1428]),\n",
       " array([1549,   28,  763, ...,  117, 1318, 1198]),\n",
       " array([ 467, 1292, 1254, ..., 1188, 1010,  754]),\n",
       " array([1361,  512, 1373, ...,   63,  942,  618]),\n",
       " array([196, 187,   5, ..., 655, 518, 564]),\n",
       " array([ 625,  143,  839, ..., 1412, 1455,   60]),\n",
       " array([ 813,  676, 1344, ...,  835,  717, 1134]),\n",
       " array([1115,  347, 1514, ...,  442, 1027,  576]),\n",
       " array([1404,  550, 1543, ...,  190,  979, 1105]),\n",
       " array([   5,  392, 1325, ...,   47, 1420,  362]),\n",
       " array([1191,  115,  289, ...,  994,  579,  921]),\n",
       " array([ 339,  202,  667, ..., 1390, 1137,  744]),\n",
       " array([  25, 1518, 1299, ...,  421,  718,   37]),\n",
       " array([1110,  600,   41, ...,   99,  960,   68]),\n",
       " array([ 501, 1051,  324, ...,  989,  845, 1187]),\n",
       " array([1353,  914, 1348, ..., 1094,  882,  913]),\n",
       " array([1023,  306,  302, ...,  116, 1129,  925]),\n",
       " array([1084,  275,  602, ...,  229,  374, 1113]),\n",
       " array([ 11, 820, 210, ..., 136, 994, 969]),\n",
       " array([1313, 1357,  312, ...,  404,  841,  383]),\n",
       " array([ 906,   24,  516, ...,  751, 1439,  300]),\n",
       " array([ 952,  942, 1236, ...,  481, 1473,  208]),\n",
       " array([ 739,  544,  960, ..., 1010,  153,  276]),\n",
       " array([ 453,  704, 1240, ...,  793,  538,  284]),\n",
       " array([ 860,  658,  623, ..., 1347,  875, 1393]),\n",
       " array([836, 969, 955, ...,  97, 620, 555]),\n",
       " array([1452,  759,  303, ..., 1523,  807,  275]),\n",
       " array([ 964,  752,  883, ..., 1212,  259,   91]),\n",
       " array([1416,  287,  813, ..., 1298,  122,  993]),\n",
       " array([ 176,  171,  915, ...,  901,  230, 1038]),\n",
       " array([ 967,   32,  648, ..., 1050,  886,  305]),\n",
       " array([1571,  653,  293, ..., 1502,  695, 1304]),\n",
       " array([1109,  640,  957, ...,  820, 1063,  482]),\n",
       " array([1236, 1400, 1010, ...,  118, 1185, 1378]),\n",
       " array([1194,  192,  270, ...,  393, 1073, 1510]),\n",
       " array([ 155,  721, 1127, ...,  800,  123,   20]),\n",
       " array([ 572,  576,  981, ...,  320, 1452,  577]),\n",
       " array([ 453,  460,  104, ...,    0, 1299,  921]),\n",
       " array([ 163,  743,    8, ..., 1189,  699, 1532]),\n",
       " array([  80, 1253,  269, ...,  299,  896, 1262]),\n",
       " array([1467, 1010, 1100, ...,  622,  890,  206]),\n",
       " array([ 419,  993, 1383, ...,   44,  157,  323]),\n",
       " array([1374,  487, 1057, ..., 1183,  228, 1566]),\n",
       " array([1345,  947,  302, ...,  607, 1507, 1228]),\n",
       " array([ 821, 1105,   29, ...,  737,  376, 1494]),\n",
       " array([ 278,  356, 1482, ...,  611,  414, 1553]),\n",
       " array([1568,  654, 1501, ..., 1118,    6, 1277]),\n",
       " array([ 309,  793, 1525, ...,  449,  429, 1571]),\n",
       " array([ 396,  843,  267, ..., 1405, 1452,  846]),\n",
       " array([  81,  613,  803, ..., 1556,  414, 1466]),\n",
       " array([1080,   27,  957, ..., 1058,  894, 1558]),\n",
       " array([ 93, 406, 666, ..., 244, 778, 395]),\n",
       " array([ 554, 1533,  209, ...,  148,  189,  364]),\n",
       " array([ 799,  445,  870, ...,  263,  623, 1224]),\n",
       " array([ 507,  547, 1495, ...,  494,   67, 1504]),\n",
       " array([  29,  671, 1175, ..., 1418,  159, 1087]),\n",
       " array([1512,  225,  979, ..., 1334,  583, 1084]),\n",
       " array([1406,  858,  521, ..., 1273,  679,  882]),\n",
       " array([1276, 1224, 1305, ..., 1394, 1538, 1278]),\n",
       " array([1255, 1152,   54, ...,  170,  276,  229]),\n",
       " array([ 985,   82, 1243, ...,  254, 1273, 1015]),\n",
       " array([1418, 1160,  725, ..., 1185,  821,  579]),\n",
       " array([1166,  366,  722, ...,  253,  896, 1541]),\n",
       " array([1565,   61,  597, ...,   10,  929,  370]),\n",
       " array([ 597,  178,  325, ..., 1120,  876, 1350]),\n",
       " array([ 803, 1438, 1011, ..., 1060,  285,  458]),\n",
       " array([ 690,  593,  980, ...,  984,  334, 1216]),\n",
       " array([1458, 1569,   80, ..., 1341,  116, 1261]),\n",
       " array([1356,  176,  388, ...,  239,  109,  620]),\n",
       " array([  15,  145, 1430, ..., 1467,  716, 1231]),\n",
       " array([ 196, 1119, 1013, ..., 1478,  387,  583]),\n",
       " array([1148, 1039, 1345, ..., 1071,  539,  730]),\n",
       " array([ 455, 1150, 1403, ...,  766, 1322,  936]),\n",
       " array([1284, 1146, 1204, ..., 1505, 1454,  425]),\n",
       " array([ 173,  523,  898, ..., 1157,  952,  367]),\n",
       " array([ 513,  409, 1575, ...,  229,  326,  892]),\n",
       " array([1324,  338, 1149, ...,  982,  561, 1264]),\n",
       " array([ 611,  812,   89, ..., 1436,    7,  642]),\n",
       " array([ 689, 1182, 1476, ...,  140,  345,  229]),\n",
       " array([ 141,  843,   50, ...,  885, 1237,  896]),\n",
       " array([  36,  700, 1249, ...,  978,  161, 1188]),\n",
       " array([1130, 1342, 1551, ...,  349, 1439, 1275]),\n",
       " array([ 901,  884, 1360, ..., 1505, 1247,  457]),\n",
       " array([1374, 1045, 1320, ..., 1100,  398, 1184]),\n",
       " array([ 621, 1435, 1136, ..., 1188,  377, 1528]),\n",
       " array([1341, 1392, 1058, ..., 1410, 1378,  528]),\n",
       " array([1412,  548, 1435, ...,  947,  240,  212]),\n",
       " array([1077, 1016, 1577, ...,  159,  517, 1150]),\n",
       " array([1269,  867,  532, ..., 1202,  344, 1101])]"
      ]
     },
     "execution_count": 213,
     "metadata": {},
     "output_type": "execute_result"
    }
   ],
   "source": [
    "# ハイパラ\n",
    "# alpha, beta\n",
    "alpha = 0.9\n",
    "beta = 0.01\n",
    "%time get_ranking_mat()"
   ]
  },
  {
   "cell_type": "markdown",
   "metadata": {},
   "source": [
    "# Evaluate"
   ]
  },
  {
   "cell_type": "code",
   "execution_count": 215,
   "metadata": {},
   "outputs": [],
   "source": [
    "user_idx = [entity_list.index(u) for u in user_list]\n",
    "user_items_test_dict = pickle.load(open('./data/user_items_test_dict.pickle', 'rb'))\n",
    "\n",
    "def topn_precision(ranking_mat, user_items_dict, n=10):\n",
    "    not_count = 0\n",
    "    precision_sum = 0\n",
    "        \n",
    "    for i in range(len(ranking_mat)):\n",
    "        if len(user_items_dict[user_idx[i]]) == 0:\n",
    "            not_count += 1\n",
    "            continue\n",
    "        sorted_idx = ranking_mat[i]\n",
    "        topn_idx = sorted_idx[:n]  \n",
    "        hit = len(set(topn_idx) & set(user_items_dict[user_idx[i]]))\n",
    "        precision = hit / len(user_items_dict[user_idx[i]])\n",
    "        precision_sum += precision\n",
    "        \n",
    "    return precision_sum / (len(user_idx) - not_count)"
   ]
  },
  {
   "cell_type": "code",
   "execution_count": 216,
   "metadata": {},
   "outputs": [
    {
     "name": "stdout",
     "output_type": "stream",
     "text": [
      "0.0054210110745879095\n"
     ]
    }
   ],
   "source": [
    "if __name__ == '__main__':\n",
    "    ranking_mat = get_ranking_mat()\n",
    "    score = topn_precision(ranking_mat, user_items_test_dict)\n",
    "    print(score)"
   ]
  },
  {
   "cell_type": "code",
   "execution_count": null,
   "metadata": {},
   "outputs": [],
   "source": []
  }
 ],
 "metadata": {
  "kernelspec": {
   "display_name": "Python 3",
   "language": "python",
   "name": "python3"
  },
  "language_info": {
   "codemirror_mode": {
    "name": "ipython",
    "version": 3
   },
   "file_extension": ".py",
   "mimetype": "text/x-python",
   "name": "python",
   "nbconvert_exporter": "python",
   "pygments_lexer": "ipython3",
   "version": "3.7.2"
  }
 },
 "nbformat": 4,
 "nbformat_minor": 4
}
