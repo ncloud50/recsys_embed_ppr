{
 "cells": [
  {
   "cell_type": "code",
   "execution_count": 2,
   "metadata": {},
   "outputs": [],
   "source": [
    "import numpy as np\n",
    "import torch"
   ]
  },
  {
   "cell_type": "code",
   "execution_count": 10,
   "metadata": {},
   "outputs": [
    {
     "data": {
      "text/plain": [
       "tensor([3.7417, 2.2361])"
      ]
     },
     "execution_count": 10,
     "metadata": {},
     "output_type": "execute_result"
    }
   ],
   "source": [
    "a = torch.tensor([[1, 2, 3], [0, 1, 2]], dtype=torch.float)\n",
    "torch.norm(a, dim=1)"
   ]
  },
  {
   "cell_type": "code",
   "execution_count": 32,
   "metadata": {},
   "outputs": [],
   "source": [
    "import numpy as np\n",
    "import torch\n",
    "import torch.nn as nn\n",
    "import torch.nn.functional as F\n",
    "import torch.optim as optim\n",
    "\n",
    "device='cpu'\n",
    "\n",
    "class DistMulti(nn.Module):\n",
    "\n",
    "    def __init__(self, embedding_dim, relation_size, entity_size):\n",
    "        super(DistMulti, self).__init__()\n",
    "        self.embedding_dim = embedding_dim\n",
    "\n",
    "        self.entity_embed = nn.Embedding(entity_size, embedding_dim)\n",
    "        self.relation_embed = nn.Embedding(relation_size, embedding_dim)\n",
    "        \n",
    "        for param in self.parameters():\n",
    "            print(param)\n",
    "            r_s = param.sum(dim=1)\n",
    "            param = param / r_s\n",
    "            \n",
    "        for param in self.parameters():\n",
    "            print(param)\n",
    "        \n",
    "    def forward(self, head, tail, relation):\n",
    "        head_embed = self.entity_embed(head)\n",
    "        tail_embed = self.entity_embed(tail)\n",
    "        relation_embed = self.relation_embed(relation)\n",
    "        \n",
    "        score = torch.sum(head_embed * tail_embed * relation_embed, axis=1)\n",
    "        score = torch.sigmoid(score)\n",
    "        \n",
    "        return score\n",
    "    \n",
    "    def predict(self, user_tensor, item_tensor):\n",
    "        return 0"
   ]
  },
  {
   "cell_type": "code",
   "execution_count": 33,
   "metadata": {},
   "outputs": [
    {
     "name": "stdout",
     "output_type": "stream",
     "text": [
      "Parameter containing:\n",
      "tensor([[-0.3902,  0.2747],\n",
      "        [-0.5827,  0.4113]], requires_grad=True)\n",
      "Parameter containing:\n",
      "tensor([[ 1.0853,  0.0631],\n",
      "        [-0.3021, -0.0524]], requires_grad=True)\n",
      "Parameter containing:\n",
      "tensor([[-0.3902,  0.2747],\n",
      "        [-0.5827,  0.4113]], requires_grad=True)\n",
      "Parameter containing:\n",
      "tensor([[ 1.0853,  0.0631],\n",
      "        [-0.3021, -0.0524]], requires_grad=True)\n"
     ]
    }
   ],
   "source": [
    "model = DistMulti(2, 2 ,2)"
   ]
  },
  {
   "cell_type": "code",
   "execution_count": null,
   "metadata": {},
   "outputs": [],
   "source": []
  },
  {
   "cell_type": "code",
   "execution_count": null,
   "metadata": {},
   "outputs": [],
   "source": []
  }
 ],
 "metadata": {
  "kernelspec": {
   "display_name": "Python 3",
   "language": "python",
   "name": "python3"
  },
  "language_info": {
   "codemirror_mode": {
    "name": "ipython",
    "version": 3
   },
   "file_extension": ".py",
   "mimetype": "text/x-python",
   "name": "python",
   "nbconvert_exporter": "python",
   "pygments_lexer": "ipython3",
   "version": "3.7.2"
  }
 },
 "nbformat": 4,
 "nbformat_minor": 4
}
