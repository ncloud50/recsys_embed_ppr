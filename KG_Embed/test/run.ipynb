{
 "cells": [
  {
   "cell_type": "code",
   "execution_count": 1,
   "metadata": {},
   "outputs": [],
   "source": [
    "from dataloader import AmazonDataset\n",
    "from models import DistMulti\n",
    "from training import TrainIterater\n",
    "from evaluate import Evaluater\n",
    "device='cpu'\n",
    "\n",
    "from importlib import reload\n"
   ]
  },
  {
   "cell_type": "markdown",
   "metadata": {},
   "source": [
    "# メモ\n",
    "- embeddingのモデルを他にもかく\n",
    "- entity, relationでembedを分けるかどうか\n",
    "- negative samplingの比率を考える"
   ]
  },
  {
   "cell_type": "code",
   "execution_count": 2,
   "metadata": {},
   "outputs": [],
   "source": [
    "dataset = AmazonDataset('./data')"
   ]
  },
  {
   "cell_type": "code",
   "execution_count": null,
   "metadata": {},
   "outputs": [
    {
     "name": "stdout",
     "output_type": "stream",
     "text": [
      "epoch: 4  precision: 0.004806358740064811\n",
      "epoch: 9  precision: 0.0049663815315243625\n",
      "epoch: 14  precision: 0.005792942559814792\n",
      "epoch: 19  precision: 0.0050132964058917815\n"
     ]
    }
   ],
   "source": [
    "# ハイパラ\n",
    "# embed_dim\n",
    "# weight_decay, lr, warmup, lr_decay_every, lr_decay_rate\n",
    "\n",
    "\n",
    "relation_size = len(set(list(dataset.triplet_df['relation'].values)))\n",
    "entity_size = len(dataset.entity_list)\n",
    "model = DistMulti(32, relation_size, entity_size)\n",
    "iterater = TrainIterater(batch_size=128)\n",
    "iterater.iterate_epoch(model, lr=0.01, epoch=30)"
   ]
  },
  {
   "cell_type": "code",
   "execution_count": null,
   "metadata": {},
   "outputs": [],
   "source": []
  }
 ],
 "metadata": {
  "kernelspec": {
   "display_name": "Python 3",
   "language": "python",
   "name": "python3"
  },
  "language_info": {
   "codemirror_mode": {
    "name": "ipython",
    "version": 3
   },
   "file_extension": ".py",
   "mimetype": "text/x-python",
   "name": "python",
   "nbconvert_exporter": "python",
   "pygments_lexer": "ipython3",
   "version": "3.7.2"
  }
 },
 "nbformat": 4,
 "nbformat_minor": 4
}
