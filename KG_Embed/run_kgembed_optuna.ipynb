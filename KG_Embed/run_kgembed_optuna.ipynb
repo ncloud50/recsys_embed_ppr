{
 "cells": [
  {
   "cell_type": "code",
   "execution_count": 4,
   "metadata": {},
   "outputs": [],
   "source": [
    "from dataloader import AmazonDataset\n",
    "import models\n",
    "from models import DistMulti, TransE\n",
    "from training import TrainIterater\n",
    "from evaluate import Evaluater\n",
    "\n",
    "import optuna\n",
    "import numpy as np\n",
    "import pickle\n",
    "import time\n",
    "\n",
    "import torch\n",
    "from importlib import reload\n",
    "\n",
    "device = torch.device(\"cuda\" if torch.cuda.is_available() else \"cpu\")"
   ]
  },
  {
   "cell_type": "code",
   "execution_count": null,
   "metadata": {},
   "outputs": [],
   "source": []
  },
  {
   "cell_type": "code",
   "execution_count": 10,
   "metadata": {},
   "outputs": [],
   "source": [
    "# ハイパラ\n",
    "# \n",
    "# embed_dim\n",
    "# batch_size\n",
    "# weight_decay, lr, warmup, lr_decay_every, lr_decay_rate\n",
    "# kg embed model\n",
    "model_name = 'TransE'\n",
    "dataset = AmazonDataset('./data', model_name='TransE')\n",
    "def time_since(runtime):\n",
    "    mi = int(runtime / 60)\n",
    "    sec = int(runtime - mi * 60)\n",
    "    return (mi, sec)\n",
    "\n",
    "def objective(trial):\n",
    "    start = time.time()\n",
    "    \n",
    "    relation_size = len(set(list(dataset.triplet_df['relation'].values)))\n",
    "    entity_size = len(dataset.entity_list)\n",
    "    embedding_dim = trial.suggest_discrete_uniform('embedding_dim', 16, 128, 16)\n",
    "    model = TransE(int(embedding_dim), relation_size, entity_size).to(device)\n",
    "    \n",
    "    batch_size = trial.suggest_int('batch_size', 128, 512, 128)\n",
    "    iterater = TrainIterater(batch_size=int(batch_size), model_name=model_name)\n",
    "    \n",
    "    lr= trial.suggest_loguniform('lr', 1e-4, 1e-2)\n",
    "    weight_decay = trial.suggest_loguniform('weight_decay', 1e-6, 1e-2)\n",
    "    warmup = trial.suggest_int('warmup', 100, 500)\n",
    "    #warmup = trial.suggest_int('warmup', 1, 5)\n",
    "    lr_decay_every = trial.suggest_int('lr_decay_every', 1, 10)\n",
    "    lr_decay_rate = trial.suggest_uniform('lr_decay_rate', 0.5, 1)\n",
    "    \n",
    "    score =iterater.iterate_epoch(model, lr=lr, epoch=3000, weight_decay=weight_decay, warmup=warmup,\n",
    "                           lr_decay_rate=lr_decay_rate, lr_decay_every=lr_decay_every, eval_every=100)\n",
    "    \n",
    "    mi, sec = time_since(time.time() - start)\n",
    "    print('{}m{}sec'.format(mi, sec))\n",
    "    \n",
    "    return -1 * score"
   ]
  },
  {
   "cell_type": "code",
   "execution_count": null,
   "metadata": {
    "tags": []
   },
   "outputs": [
    {
     "name": "stdout",
     "output_type": "stream",
     "text": [
      "epoch: 99  precision: 0.06776298046653437\n",
      "epoch: 199  precision: 0.12078563408430652\n",
      "epoch: 299  precision: 0.14135575131809058\n",
      "epoch: 399  precision: 0.141543488750726\n",
      "epoch: 499  precision: 0.141543488750726\n",
      "epoch: 599  precision: 0.141543488750726\n",
      "epoch: 699  precision: 0.141543488750726\n",
      "epoch: 799  precision: 0.141543488750726\n",
      "epoch: 899  precision: 0.141543488750726\n",
      "epoch: 999  precision: 0.141543488750726\n",
      "epoch: 1099  precision: 0.141543488750726\n",
      "epoch: 1199  precision: 0.141543488750726\n",
      "epoch: 1299  precision: 0.141543488750726\n",
      "epoch: 1399  precision: 0.141543488750726\n",
      "epoch: 1499  precision: 0.141543488750726\n",
      "epoch: 1599  precision: 0.141543488750726\n",
      "epoch: 1699  precision: 0.141543488750726\n",
      "epoch: 1799  precision: 0.141543488750726\n",
      "epoch: 1899  precision: 0.141543488750726\n",
      "epoch: 1999  precision: 0.141543488750726\n",
      "epoch: 2099  precision: 0.141543488750726\n",
      "epoch: 2199  precision: 0.141543488750726\n",
      "epoch: 2299  precision: 0.141543488750726\n",
      "epoch: 2399  precision: 0.141543488750726\n",
      "epoch: 2499  precision: 0.141543488750726\n",
      "epoch: 2599  precision: 0.141543488750726\n",
      "epoch: 2699  precision: 0.141543488750726\n",
      "epoch: 2799  precision: 0.141543488750726\n",
      "epoch: 2899  precision: 0.141543488750726\n",
      "epoch: 2999  precision: 0.141543488750726\n"
     ]
    },
    {
     "data": {
      "image/png": "[encoded data removed]",
      "text/plain": [
       "<Figure size 432x288 with 1 Axes>"
      ]
     },
     "metadata": {
      "needs_background": "light"
     },
     "output_type": "display_data"
    },
    {
     "data": {
      "image/png": "[encoded data removed]",
      "text/plain": [
       "<Figure size 432x288 with 1 Axes>"
      ]
     },
     "metadata": {
      "needs_background": "light"
     },
     "output_type": "display_data"
    },
    {
     "name": "stdout",
     "output_type": "stream",
     "text": [
      "26m1sec\n"
     ]
    },
    {
     "name": "stderr",
     "output_type": "stream",
     "text": [
      "[I 2020-07-05 11:58:30,405] Finished trial#0 with value: -0.141543488750726 with parameters: {'embedding_dim': 128.0, 'batch_size': 512, 'lr': 0.0001861460829576727, 'weight_decay': 1.7487030833598665e-05, 'warmup': 265, 'lr_decay_every': 3, 'lr_decay_rate': 0.7788381372956257}. Best is trial#0 with value: -0.141543488750726.\n"
     ]
    },
    {
     "name": "stdout",
     "output_type": "stream",
     "text": [
      "epoch: 99  precision: 0.09677954028529732\n",
      "epoch: 199  precision: 0.12955512075814368\n",
      "epoch: 299  precision: 0.17352910505763028\n",
      "epoch: 399  precision: 0.18982989457769037\n",
      "epoch: 499  precision: 0.1903759471645593\n",
      "epoch: 599  precision: 0.19042895538083282\n",
      "epoch: 699  precision: 0.19042895538083282\n",
      "epoch: 799  precision: 0.19042895538083282\n"
     ]
    }
   ],
   "source": [
    "study = optuna.create_study()\n",
    "study.optimize(objective, n_trials=20)"
   ]
  },
  {
   "cell_type": "code",
   "execution_count": null,
   "metadata": {},
   "outputs": [],
   "source": [
    "df = study.trials_dataframe() # pandasのDataFrame形式\n",
    "df.to_csv('./hyparams_result.csv')"
   ]
  },
  {
   "cell_type": "code",
   "execution_count": null,
   "metadata": {},
   "outputs": [],
   "source": [
    "# save best params \n",
    "with open('best_param.pickle', 'wb') as f:\n",
    "    pickle.dump(study.best_params, f)"
   ]
  },
  {
   "cell_type": "code",
   "execution_count": 9,
   "metadata": {},
   "outputs": [
    {
     "data": {
      "text/plain": [
       "{'embedding_dim': 48.0,\n",
       " 'batch_size': 256,\n",
       " 'lr': 0.00027575703280897554,\n",
       " 'weight_decay': 0.008211142725366551,\n",
       " 'warmup': 5,\n",
       " 'lr_decay_every': 8,\n",
       " 'lr_decay_rate': 0.6785466714298021}"
      ]
     },
     "execution_count": 9,
     "metadata": {},
     "output_type": "execute_result"
    }
   ],
   "source": [
    "study.best_params"
   ]
  },
  {
   "cell_type": "code",
   "execution_count": null,
   "metadata": {},
   "outputs": [],
   "source": []
  }
 ],
 "metadata": {
  "kernelspec": {
   "display_name": "Python 3",
   "language": "python",
   "name": "python3"
  },
  "language_info": {
   "codemirror_mode": {
    "name": "ipython",
    "version": 3
   },
   "file_extension": ".py",
   "mimetype": "text/x-python",
   "name": "python",
   "nbconvert_exporter": "python",
   "pygments_lexer": "ipython3",
   "version": "3.7.6"
  }
 },
 "nbformat": 4,
 "nbformat_minor": 4
}
