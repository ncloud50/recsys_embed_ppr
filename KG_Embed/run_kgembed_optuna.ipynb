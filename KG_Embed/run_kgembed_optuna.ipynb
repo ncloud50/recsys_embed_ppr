{
 "cells": [
  {
   "cell_type": "code",
   "execution_count": 1,
   "metadata": {},
   "outputs": [],
   "source": [
    "from dataloader import AmazonDataset\n",
    "import models\n",
    "from models import DistMulti, TransE, SparseTransE\n",
    "from training import TrainIterater\n",
    "from evaluate import Evaluater\n",
    "\n",
    "import optuna\n",
    "import numpy as np\n",
    "import pickle\n",
    "import time\n",
    "\n",
    "import torch\n",
    "from importlib import reload\n",
    "\n",
    "device = torch.device(\"cuda\" if torch.cuda.is_available() else \"cpu\")"
   ]
  },
  {
   "cell_type": "code",
   "execution_count": null,
   "metadata": {},
   "outputs": [],
   "source": []
  },
  {
   "cell_type": "code",
   "execution_count": 2,
   "metadata": {},
   "outputs": [],
   "source": [
    "# ハイパラ\n",
    "# \n",
    "# embed_dim\n",
    "# batch_size\n",
    "# weight_decay, lr, warmup, lr_decay_every, lr_decay_rate\n",
    "# kg embed model\n",
    "#model_name = 'TransE'\n",
    "\n",
    "model_name = 'SparseTransE'\n",
    "dataset = AmazonDataset('./data', model_name='SparseTransE')\n",
    "def time_since(runtime):\n",
    "    mi = int(runtime / 60)\n",
    "    sec = runtime - mi * 60\n",
    "    return (mi, sec)\n",
    "\n",
    "def objective(trial):\n",
    "    start = time.time()\n",
    "    \n",
    "    relation_size = len(set(list(dataset.triplet_df['relation'].values)))\n",
    "    entity_size = len(dataset.entity_list)\n",
    "    embedding_dim = trial.suggest_discrete_uniform('embedding_dim', 16, 128, 16)\n",
    "    alpha = trial.suggest_loguniform('weight_decay', 1e-6, 1e-2) #SparseTransEの時だけ\n",
    "    model = SparseTransE(int(embedding_dim), relation_size, entity_size).to(device)\n",
    "    \n",
    "    batch_size = trial.suggest_int('batch_size', 128, 512, 128)\n",
    "    iterater = TrainIterater(batch_size=int(batch_size), model_name=model_name)\n",
    "    \n",
    "    lr= trial.suggest_loguniform('lr', 1e-4, 1e-2)\n",
    "    weight_decay = trial.suggest_loguniform('weight_decay', 1e-6, 1e-2)\n",
    "    \n",
    "    #warmup = trial.suggest_int('warmup', 100, 500)\n",
    "    #warmup = trial.suggest_int('warmup', 1, 5)\n",
    "    warmup = 350\n",
    "    #lr_decay_every = trial.suggest_int('lr_decay_every', 1, 10)\n",
    "    lr_decay_every = 2\n",
    "    lr_decay_rate = trial.suggest_uniform('lr_decay_rate', 0.5, 1)\n",
    "    \n",
    "    score =iterater.iterate_epoch(model, lr=lr, epoch=3000, weight_decay=weight_decay, warmup=warmup,\n",
    "                           lr_decay_rate=lr_decay_rate, lr_decay_every=lr_decay_every, eval_every=1e+5)\n",
    "    \n",
    "    mi, sec = time_since(time.time() - start)\n",
    "    print('{}m{}sec'.format(mi, sec))\n",
    "    \n",
    "    return -1 * score"
   ]
  },
  {
   "cell_type": "code",
   "execution_count": null,
   "metadata": {
    "tags": []
   },
   "outputs": [],
   "source": [
    "study = optuna.create_study()\n",
    "study.optimize(objective, n_trials=20)"
   ]
  },
  {
   "cell_type": "code",
   "execution_count": null,
   "metadata": {},
   "outputs": [],
   "source": [
    "df = study.trials_dataframe() # pandasのDataFrame形式\n",
    "df.to_csv('./hyparams_result_SparseTransE.csv')"
   ]
  },
  {
   "cell_type": "code",
   "execution_count": null,
   "metadata": {},
   "outputs": [],
   "source": [
    "# save best params \n",
    "with open('best_param_SparseTransE.pickle', 'wb') as f:\n",
    "    pickle.dump(study.best_params, f)"
   ]
  },
  {
   "cell_type": "code",
   "execution_count": 9,
   "metadata": {},
   "outputs": [
    {
     "data": {
      "text/plain": [
       "{'embedding_dim': 48.0,\n",
       " 'batch_size': 256,\n",
       " 'lr': 0.00027575703280897554,\n",
       " 'weight_decay': 0.008211142725366551,\n",
       " 'warmup': 5,\n",
       " 'lr_decay_every': 8,\n",
       " 'lr_decay_rate': 0.6785466714298021}"
      ]
     },
     "execution_count": 9,
     "metadata": {},
     "output_type": "execute_result"
    }
   ],
   "source": [
    "study.best_params"
   ]
  }
 ],
 "metadata": {
  "kernelspec": {
   "display_name": "Python 3",
   "language": "python",
   "name": "python3"
  },
  "language_info": {
   "codemirror_mode": {
    "name": "ipython",
    "version": 3
   },
   "file_extension": ".py",
   "mimetype": "text/x-python",
   "name": "python",
   "nbconvert_exporter": "python",
   "pygments_lexer": "ipython3",
   "version": "3.7.6"
  }
 },
 "nbformat": 4,
 "nbformat_minor": 4
}
