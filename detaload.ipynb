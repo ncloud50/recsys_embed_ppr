{
 "cells": [
  {
   "cell_type": "code",
   "execution_count": 3,
   "metadata": {},
   "outputs": [],
   "source": [
    "import pandas as pd\n",
    "import gzip\n",
    "import json\n",
    "import matplotlib.pyplot as plt\n",
    "import numpy as np\n",
    "\n",
    "import nltk\n",
    "from nltk.corpus import stopwords\n",
    "import re\n",
    "\n",
    "from sklearn.feature_extraction.text import TfidfVectorizer\n",
    "import json\n",
    "stopset = set(stopwords.words('english'))"
   ]
  },
  {
   "cell_type": "code",
   "execution_count": 11,
   "metadata": {},
   "outputs": [],
   "source": [
    "def parse(path):\n",
    "    f = open(path, 'rb')\n",
    "    for l in f:\n",
    "        yield json.loads(l)\n",
    "\n",
    "def getDF(path):\n",
    "    i = 0\n",
    "    df = {}\n",
    "    for d in parse(path):\n",
    "        df[i] = d\n",
    "        i += 1\n",
    "    return pd.DataFrame.from_dict(df, orient='index')\n",
    "\n",
    "#df = getDF('All_Beauty.json')\n",
    "#meta_df = getDF('meta_All_Beauty.json')\n",
    "df = getDF('Luxury_Beauty_5.json')\n",
    "meta_df = getDF('meta_Luxury_Beauty.json')"
   ]
  },
  {
   "cell_type": "code",
   "execution_count": 12,
   "metadata": {
    "tags": []
   },
   "outputs": [
    {
     "output_type": "stream",
     "name": "stdout",
     "text": "34278\n"
    },
    {
     "output_type": "execute_result",
     "data": {
      "text/plain": "   overall  verified   reviewTime      reviewerID        asin  \\\n0      5.0      True   01 5, 2018  A2HOI48JK8838M  B00004U9V2   \n1      5.0      True   04 5, 2017  A1YIPEY7HX73S7  B00004U9V2   \n2      5.0      True  03 27, 2017  A2QCGHIJ2TCLVP  B00004U9V2   \n3      5.0      True  03 20, 2017  A2R4UNHFJBA6PY  B00004U9V2   \n4      5.0      True  02 28, 2017  A2QCGHIJ2TCLVP  B00004U9V2   \n\n                   style     reviewerName  \\\n0  {'Size:': ' 0.9 oz.'}               DB   \n1  {'Size:': ' 3.5 oz.'}            Ajaey   \n2    {'Size:': ' 250 g'}         D. Jones   \n3  {'Size:': ' 3.5 oz.'}  Amazon Customer   \n4  {'Size:': ' 0.9 oz.'}         D. Jones   \n\n                                          reviewText                 summary  \\\n0  This handcream has a beautiful fragrance. It d...     Beautiful Fragrance   \n1  wonderful hand lotion, for seriously dry skin,...   wonderful hand lotion   \n2  Best hand cream around.  Silky, thick, soaks i...  Best hand cream around   \n3                                           Thanks!!              Five Stars   \n4  Great hand lotion.  Soaks right in and leaves ...      Great hand lotion!   \n\n   unixReviewTime vote image  \n0      1515110400  NaN   NaN  \n1      1491350400  NaN   NaN  \n2      1490572800  NaN   NaN  \n3      1489968000  NaN   NaN  \n4      1488240000  NaN   NaN  ",
      "text/html": "<div>\n<style scoped>\n    .dataframe tbody tr th:only-of-type {\n        vertical-align: middle;\n    }\n\n    .dataframe tbody tr th {\n        vertical-align: top;\n    }\n\n    .dataframe thead th {\n        text-align: right;\n    }\n</style>\n<table border=\"1\" class=\"dataframe\">\n  <thead>\n    <tr style=\"text-align: right;\">\n      <th></th>\n      <th>overall</th>\n      <th>verified</th>\n      <th>reviewTime</th>\n      <th>reviewerID</th>\n      <th>asin</th>\n      <th>style</th>\n      <th>reviewerName</th>\n      <th>reviewText</th>\n      <th>summary</th>\n      <th>unixReviewTime</th>\n      <th>vote</th>\n      <th>image</th>\n    </tr>\n  </thead>\n  <tbody>\n    <tr>\n      <th>0</th>\n      <td>5.0</td>\n      <td>True</td>\n      <td>01 5, 2018</td>\n      <td>A2HOI48JK8838M</td>\n      <td>B00004U9V2</td>\n      <td>{'Size:': ' 0.9 oz.'}</td>\n      <td>DB</td>\n      <td>This handcream has a beautiful fragrance. It d...</td>\n      <td>Beautiful Fragrance</td>\n      <td>1515110400</td>\n      <td>NaN</td>\n      <td>NaN</td>\n    </tr>\n    <tr>\n      <th>1</th>\n      <td>5.0</td>\n      <td>True</td>\n      <td>04 5, 2017</td>\n      <td>A1YIPEY7HX73S7</td>\n      <td>B00004U9V2</td>\n      <td>{'Size:': ' 3.5 oz.'}</td>\n      <td>Ajaey</td>\n      <td>wonderful hand lotion, for seriously dry skin,...</td>\n      <td>wonderful hand lotion</td>\n      <td>1491350400</td>\n      <td>NaN</td>\n      <td>NaN</td>\n    </tr>\n    <tr>\n      <th>2</th>\n      <td>5.0</td>\n      <td>True</td>\n      <td>03 27, 2017</td>\n      <td>A2QCGHIJ2TCLVP</td>\n      <td>B00004U9V2</td>\n      <td>{'Size:': ' 250 g'}</td>\n      <td>D. Jones</td>\n      <td>Best hand cream around.  Silky, thick, soaks i...</td>\n      <td>Best hand cream around</td>\n      <td>1490572800</td>\n      <td>NaN</td>\n      <td>NaN</td>\n    </tr>\n    <tr>\n      <th>3</th>\n      <td>5.0</td>\n      <td>True</td>\n      <td>03 20, 2017</td>\n      <td>A2R4UNHFJBA6PY</td>\n      <td>B00004U9V2</td>\n      <td>{'Size:': ' 3.5 oz.'}</td>\n      <td>Amazon Customer</td>\n      <td>Thanks!!</td>\n      <td>Five Stars</td>\n      <td>1489968000</td>\n      <td>NaN</td>\n      <td>NaN</td>\n    </tr>\n    <tr>\n      <th>4</th>\n      <td>5.0</td>\n      <td>True</td>\n      <td>02 28, 2017</td>\n      <td>A2QCGHIJ2TCLVP</td>\n      <td>B00004U9V2</td>\n      <td>{'Size:': ' 0.9 oz.'}</td>\n      <td>D. Jones</td>\n      <td>Great hand lotion.  Soaks right in and leaves ...</td>\n      <td>Great hand lotion!</td>\n      <td>1488240000</td>\n      <td>NaN</td>\n      <td>NaN</td>\n    </tr>\n  </tbody>\n</table>\n</div>"
     },
     "metadata": {},
     "execution_count": 12
    }
   ],
   "source": [
    "print(len(df))\n",
    "df.head()"
   ]
  },
  {
   "cell_type": "code",
   "execution_count": 12,
   "metadata": {},
   "outputs": [
    {
     "output_type": "execute_result",
     "data": {
      "text/plain": "                                               title  \\\n0             Workout Headphones by Arena Essentials   \n1                                      Black Diamond   \n2  12 Pc BLUE HEAVEN KAJAL\"HERBAL kajal With VITA...   \n3                                    The Inheritance   \n4                                The Listening Cards   \n\n                                               image             brand  \\\n0  [https://images-na.ssl-images-amazon.com/image...     HarperCollins   \n1                                                NaN    Swedish Beauty   \n2                                                NaN        BLUE HEAVE   \n3                                                NaN         Sunatoria   \n4  [https://images-na.ssl-images-amazon.com/image...  Listening Planet   \n\n                                 rank    main_cat        asin  \\\n0  3,235,148inBeautyamp;PersonalCare(  All Beauty  0061073717   \n1  1,462,563inBeautyamp;PersonalCare(  All Beauty  0143026860   \n2        100,425inBeautyPersonalCare(  All Beauty  014789302X   \n3        476,831inBeautyPersonalCare(  All Beauty  0571348351   \n4  2,967,592inBeautyamp;PersonalCare(  All Beauty  0692508988   \n\n                                         description  \\\n0                                                NaN   \n1  [This is the NEW PURPLE BOTTLE that just came ...   \n2  [A brand-new, unused, unopened, undamaged item...   \n3  [You have to wonder why there isn't a word in ...   \n4  [The Listening Cards are an eloquent primer in...   \n\n                                           also_view  \\\n0                                                NaN   \n1                                       [B000LXTNMW]   \n2  [B00OWT3W28, B0796RMSV8, B010E1X15K, B010FQJWW...   \n3  [0571352367, 0573697094, 1635571766, 155936597...   \n4                                                NaN   \n\n                                            also_buy  price similar_item  \\\n0                                                NaN    NaN          NaN   \n1                                                NaN    NaN          NaN   \n2  [B00OWT3W28, B010E1X15K, B0796RMSV8, B07HPBWSW...  $6.45          NaN   \n3  [1848426380, B07JVF7M3C, 1644450003, 163557176...    NaN          NaN   \n4                                                NaN    NaN          NaN   \n\n  details feature tech1 date  \n0     NaN     NaN   NaN  NaN  \n1     NaN     NaN   NaN  NaN  \n2     NaN     NaN   NaN  NaN  \n3     NaN     NaN   NaN  NaN  \n4     NaN     NaN   NaN  NaN  ",
      "text/html": "<div>\n<style scoped>\n    .dataframe tbody tr th:only-of-type {\n        vertical-align: middle;\n    }\n\n    .dataframe tbody tr th {\n        vertical-align: top;\n    }\n\n    .dataframe thead th {\n        text-align: right;\n    }\n</style>\n<table border=\"1\" class=\"dataframe\">\n  <thead>\n    <tr style=\"text-align: right;\">\n      <th></th>\n      <th>title</th>\n      <th>image</th>\n      <th>brand</th>\n      <th>rank</th>\n      <th>main_cat</th>\n      <th>asin</th>\n      <th>description</th>\n      <th>also_view</th>\n      <th>also_buy</th>\n      <th>price</th>\n      <th>similar_item</th>\n      <th>details</th>\n      <th>feature</th>\n      <th>tech1</th>\n      <th>date</th>\n    </tr>\n  </thead>\n  <tbody>\n    <tr>\n      <th>0</th>\n      <td>Workout Headphones by Arena Essentials</td>\n      <td>[https://images-na.ssl-images-amazon.com/image...</td>\n      <td>HarperCollins</td>\n      <td>3,235,148inBeautyamp;PersonalCare(</td>\n      <td>All Beauty</td>\n      <td>0061073717</td>\n      <td>NaN</td>\n      <td>NaN</td>\n      <td>NaN</td>\n      <td>NaN</td>\n      <td>NaN</td>\n      <td>NaN</td>\n      <td>NaN</td>\n      <td>NaN</td>\n      <td>NaN</td>\n    </tr>\n    <tr>\n      <th>1</th>\n      <td>Black Diamond</td>\n      <td>NaN</td>\n      <td>Swedish Beauty</td>\n      <td>1,462,563inBeautyamp;PersonalCare(</td>\n      <td>All Beauty</td>\n      <td>0143026860</td>\n      <td>[This is the NEW PURPLE BOTTLE that just came ...</td>\n      <td>[B000LXTNMW]</td>\n      <td>NaN</td>\n      <td>NaN</td>\n      <td>NaN</td>\n      <td>NaN</td>\n      <td>NaN</td>\n      <td>NaN</td>\n      <td>NaN</td>\n    </tr>\n    <tr>\n      <th>2</th>\n      <td>12 Pc BLUE HEAVEN KAJAL\"HERBAL kajal With VITA...</td>\n      <td>NaN</td>\n      <td>BLUE HEAVE</td>\n      <td>100,425inBeautyPersonalCare(</td>\n      <td>All Beauty</td>\n      <td>014789302X</td>\n      <td>[A brand-new, unused, unopened, undamaged item...</td>\n      <td>[B00OWT3W28, B0796RMSV8, B010E1X15K, B010FQJWW...</td>\n      <td>[B00OWT3W28, B010E1X15K, B0796RMSV8, B07HPBWSW...</td>\n      <td>$6.45</td>\n      <td>NaN</td>\n      <td>NaN</td>\n      <td>NaN</td>\n      <td>NaN</td>\n      <td>NaN</td>\n    </tr>\n    <tr>\n      <th>3</th>\n      <td>The Inheritance</td>\n      <td>NaN</td>\n      <td>Sunatoria</td>\n      <td>476,831inBeautyPersonalCare(</td>\n      <td>All Beauty</td>\n      <td>0571348351</td>\n      <td>[You have to wonder why there isn't a word in ...</td>\n      <td>[0571352367, 0573697094, 1635571766, 155936597...</td>\n      <td>[1848426380, B07JVF7M3C, 1644450003, 163557176...</td>\n      <td>NaN</td>\n      <td>NaN</td>\n      <td>NaN</td>\n      <td>NaN</td>\n      <td>NaN</td>\n      <td>NaN</td>\n    </tr>\n    <tr>\n      <th>4</th>\n      <td>The Listening Cards</td>\n      <td>[https://images-na.ssl-images-amazon.com/image...</td>\n      <td>Listening Planet</td>\n      <td>2,967,592inBeautyamp;PersonalCare(</td>\n      <td>All Beauty</td>\n      <td>0692508988</td>\n      <td>[The Listening Cards are an eloquent primer in...</td>\n      <td>NaN</td>\n      <td>NaN</td>\n      <td>NaN</td>\n      <td>NaN</td>\n      <td>NaN</td>\n      <td>NaN</td>\n      <td>NaN</td>\n      <td>NaN</td>\n    </tr>\n  </tbody>\n</table>\n</div>"
     },
     "metadata": {},
     "execution_count": 12
    }
   ],
   "source": [
    "meta_df.head()"
   ]
  },
  {
   "cell_type": "code",
   "execution_count": 31,
   "metadata": {
    "tags": []
   },
   "outputs": [
    {
     "output_type": "stream",
     "name": "stdout",
     "text": "item: 32586\nuser: 324038\nbrand: 7895\n"
    }
   ],
   "source": [
    "print('item: {}'.format(len(set(df['asin']))))\n",
    "print('user: {}'.format(len(set(df['reviewerID']))))\n",
    "print('brand: {}'.format(len(set(meta_df['brand']))))"
   ]
  },
  {
   "cell_type": "markdown",
   "metadata": {},
   "source": [
    "### 作るtriplet\n",
    "- user ->(buy) item\n",
    "- user ->(mention) feature\n",
    "- item ->(described_by) feature\n",
    "- item ->(belong to) brand\n",
    "- item ->(also_view) item\n",
    "- item ->(also_buy) item\n",
    "\n",
    "\n",
    "考えること\n",
    "- ratingの情報はどうするか。3以上にリンクを残すなど\n",
    "- priceの情報はどうするか。ある閾値以上にリンクを張るなど."
   ]
  },
  {
   "cell_type": "code",
   "execution_count": 17,
   "metadata": {},
   "outputs": [
    {
     "data": {
      "image/png": "[encoded data removed]",
      "text/plain": [
       "<Figure size 432x288 with 1 Axes>"
      ]
     },
     "metadata": {
      "needs_background": "light"
     },
     "output_type": "display_data"
    },
    {
     "data": {
      "text/html": [
       "<div>\n",
       "<style scoped>\n",
       "    .dataframe tbody tr th:only-of-type {\n",
       "        vertical-align: middle;\n",
       "    }\n",
       "\n",
       "    .dataframe tbody tr th {\n",
       "        vertical-align: top;\n",
       "    }\n",
       "\n",
       "    .dataframe thead th {\n",
       "        text-align: right;\n",
       "    }\n",
       "</style>\n",
       "<table border=\"1\" class=\"dataframe\">\n",
       "  <thead>\n",
       "    <tr style=\"text-align: right;\">\n",
       "      <th></th>\n",
       "      <th>count</th>\n",
       "      <th>mean</th>\n",
       "      <th>std</th>\n",
       "      <th>min</th>\n",
       "      <th>25%</th>\n",
       "      <th>50%</th>\n",
       "      <th>75%</th>\n",
       "      <th>max</th>\n",
       "    </tr>\n",
       "  </thead>\n",
       "  <tbody>\n",
       "    <tr>\n",
       "      <th>0</th>\n",
       "      <td>6958.0</td>\n",
       "      <td>46.10283</td>\n",
       "      <td>92.443779</td>\n",
       "      <td>1.0</td>\n",
       "      <td>19.5</td>\n",
       "      <td>29.99</td>\n",
       "      <td>52.9975</td>\n",
       "      <td>6500.0</td>\n",
       "    </tr>\n",
       "  </tbody>\n",
       "</table>\n",
       "</div>"
      ],
      "text/plain": [
       "    count      mean        std  min   25%    50%      75%     max\n",
       "0  6958.0  46.10283  92.443779  1.0  19.5  29.99  52.9975  6500.0"
      ]
     },
     "execution_count": 17,
     "metadata": {},
     "output_type": "execute_result"
    }
   ],
   "source": [
    "price = []\n",
    "for p in np.array(meta_df['price']):\n",
    "    if type(p) != str:\n",
    "        continue\n",
    "    try:\n",
    "        price.append(float(p[1:].replace(',', '')))\n",
    "    except:\n",
    "        print(p)\n",
    "plt.hist(price, bins=100)\n",
    "plt.show()\n",
    "pd.DataFrame(pd.Series(price).describe()).transpose()"
   ]
  },
  {
   "cell_type": "markdown",
   "metadata": {},
   "source": [
    "4分位数等をつかって、priceを四つにランク付けするか?\n",
    "- priceのノードに辺が集まりすぎる\n",
    "\n",
    "特別に高価なアイテムだけリンクをつけるなど。2\\sigma以上など\n"
   ]
  },
  {
   "cell_type": "code",
   "execution_count": 301,
   "metadata": {},
   "outputs": [
    {
     "data": {
      "image/png": "[encoded data removed]",
      "text/plain": [
       "<Figure size 432x288 with 1 Axes>"
      ]
     },
     "metadata": {
      "needs_background": "light"
     },
     "output_type": "display_data"
    }
   ],
   "source": [
    "plt.hist(df['overall'])\n",
    "plt.show()"
   ]
  },
  {
   "cell_type": "markdown",
   "metadata": {},
   "source": [
    "ratingが1, 2のリンクは消すなど"
   ]
  },
  {
   "cell_type": "markdown",
   "metadata": {},
   "source": [
    "## 辞書を作る"
   ]
  },
  {
   "cell_type": "code",
   "execution_count": null,
   "metadata": {},
   "outputs": [],
   "source": [
    "user2id = {}\n",
    "item2id = {}\n",
    "brand2id = {}\n",
    "for u in df['reviewerID']:\n",
    "    if u not in user2id:\n",
    "        user2id[u] = len(user2id)\n",
    "        \n",
    "for item in df['asin']:\n",
    "    if item not in item2id:\n",
    "        item2id[item] = len(item2id)\n",
    "        \n",
    "for b in meta_df['brand']:\n",
    "    if b not in brand2id:\n",
    "        brand2id[b] = len(brand2id)\n",
    "        \n",
    "print(user2id)\n",
    "print(item2id)\n",
    "print(brand2id)"
   ]
  },
  {
   "cell_type": "markdown",
   "metadata": {},
   "source": [
    "## reviewとdescriptionからfeatureを取り出す"
   ]
  },
  {
   "cell_type": "code",
   "execution_count": 14,
   "metadata": {},
   "outputs": [],
   "source": [
    "# 半角記号削除\n",
    "def del_kigou(text):\n",
    "    text = re.sub(r'[0-9!-/:-@¥[-`{-~]*', \"\", text)\n",
    "    return text"
   ]
  },
  {
   "cell_type": "code",
   "execution_count": 7,
   "metadata": {},
   "outputs": [],
   "source": [
    "stemmed = []\n",
    "\n",
    "lemmatizer = nltk.stem.WordNetLemmatizer()\n",
    "stemmer = nltk.stem.PorterStemmer()\n",
    "\n",
    "rev = []\n",
    "\n",
    "for r in list(df['reviewText']):\n",
    "    if type(r) != str:\n",
    "        continue\n",
    "    rev.append(r)\n",
    "    \n",
    "for r in list(meta_df['description']):\n",
    "    if type(r) != list:\n",
    "        continue\n",
    "    rev.append(r[0])\n"
   ]
  },
  {
   "cell_type": "code",
   "execution_count": 15,
   "metadata": {},
   "outputs": [],
   "source": [
    "# 名詞のみ\n",
    "corpus = []\n",
    "nouns_tag = ['NN', 'NNS', 'NNP', 'NNPS']\n",
    "\n",
    "for text in rev[0:1000]:\n",
    "    text = del_kigou(text)\n",
    "    tagged = nltk.pos_tag(text.lower().split())\n",
    "    \n",
    "    nouns = ''\n",
    "    for w, tag in tagged:\n",
    "        if w in stopset:\n",
    "            continue\n",
    "        if tag in nouns_tag:\n",
    "            # 語幹化\n",
    "            w = lemmatizer.lemmatize(w)\n",
    "            #w = stemmer.stem(w)\n",
    "            nouns += ' ' + w\n",
    "            \n",
    "    corpus.append(nouns)"
   ]
  },
  {
   "cell_type": "code",
   "execution_count": 10,
   "metadata": {},
   "outputs": [],
   "source": [
    "# 単語の頻度を返す\n",
    "def get_word_freq(corpus):\n",
    "    word_freq = {}\n",
    "    for text in corpus:\n",
    "        for w in text.split(' '):\n",
    "            if w not in word_freq:\n",
    "                word_freq[w] = 1\n",
    "            else:\n",
    "                word_freq[w] += 1\n",
    "    return word_freq"
   ]
  },
  {
   "cell_type": "code",
   "execution_count": 11,
   "metadata": {},
   "outputs": [],
   "source": [
    "word_freq = get_word_freq(corpus)\n",
    "tfidf_trans = TfidfVectorizer()\n",
    "tfidf = tfidf_trans.fit_transform(corpus)\n",
    "feat_words = tfidf_trans.get_feature_names()"
   ]
  },
  {
   "cell_type": "code",
   "execution_count": 13,
   "metadata": {},
   "outputs": [
    {
     "data": {
      "text/plain": [
       "2295"
      ]
     },
     "execution_count": 13,
     "metadata": {},
     "output_type": "execute_result"
    }
   ],
   "source": [
    "len(feat_words)"
   ]
  },
  {
   "cell_type": "markdown",
   "metadata": {
    "jupyter": {
     "outputs_hidden": true
    }
   },
   "source": [
    "あるrecordにおいて(dfの行)、tfidfがある閾値以上かつ単語の頻度がある閾値以下のときに、uesrがその単語にmentionしているとする"
   ]
  },
  {
   "cell_type": "markdown",
   "metadata": {},
   "source": [
    "## Tripletを作る"
   ]
  },
  {
   "cell_type": "code",
   "execution_count": 13,
   "metadata": {
    "tags": []
   },
   "outputs": [
    {
     "output_type": "stream",
     "name": "stdout",
     "text": "34278\n"
    }
   ],
   "source": [
    "# user ->(buy) item\n",
    "user_item_df = pd.concat([df['reviewerID'], df['asin']], axis=1)\n",
    "print(len(user_item_df))"
   ]
  },
  {
   "cell_type": "code",
   "execution_count": 19,
   "metadata": {
    "tags": []
   },
   "outputs": [
    {
     "output_type": "stream",
     "name": "stdout",
     "text": "12308\n2\n1629\n"
    }
   ],
   "source": [
    "# item ->(belong_to) brand\n",
    "item_set = set(df['asin'])\n",
    "item_brand_df = pd.concat([meta_df['asin'], meta_df['brand']], axis=1)\n",
    "print(len(item_brand_df))\n",
    "del_idx = []\n",
    "for i in range(len(meta_df)):\n",
    "    if meta_df['asin'][i] not in item_set:\n",
    "        del_idx.append(i)\n",
    "\n",
    "item_brand_df = item_brand_df.drop(del_idx)\n",
    "brand = item_brand_df['brand'].values\n",
    "count = 0\n",
    "for b in brand:\n",
    "    if type(b) != str:\n",
    "        count += 1\n",
    "print(len(brand) - count)\n",
    "print(len(item_brand_df))"
   ]
  },
  {
   "cell_type": "code",
   "execution_count": 50,
   "metadata": {
    "tags": []
   },
   "outputs": [
    {
     "output_type": "stream",
     "name": "stdout",
     "text": "8155\n"
    }
   ],
   "source": [
    "# item ->(also_view) item\n",
    "item_view_item_df = pd.concat([meta_df['asin'], meta_df['also_view']], axis=1)\n",
    "\n",
    "del_idx = []\n",
    "for i in range(len(meta_df)):\n",
    "    if meta_df['asin'][i] not in item_set:\n",
    "        del_idx.append(i)\n",
    "\n",
    "item_view_item_df.drop(del_idx)\n",
    "\n",
    "also_view = item_view_item_df['also_view'].values\n",
    "count = 0\n",
    "for a in also_view:\n",
    "    if type(a) != list:\n",
    "        count += 1\n",
    "print(len(also_view) - count)"
   ]
  },
  {
   "cell_type": "code",
   "execution_count": 52,
   "metadata": {
    "tags": []
   },
   "outputs": [
    {
     "output_type": "stream",
     "name": "stdout",
     "text": "6613\n"
    }
   ],
   "source": [
    "# item ->(also_buy) item\n",
    "item_buy_item_df = pd.concat([meta_df['asin'], meta_df['also_buy']], axis=1)\n",
    "\n",
    "del_idx = []\n",
    "for i in range(len(meta_df)):\n",
    "    if meta_df['asin'][i] not in item_set:\n",
    "        del_idx.append(i)\n",
    "\n",
    "item_buy_item_df.drop(del_idx)\n",
    "\n",
    "also_buy = item_buy_item_df['also_buy'].values\n",
    "count = 0\n",
    "for a in also_buy:\n",
    "    if type(a) != list:\n",
    "        count += 1\n",
    "print(len(also_buy) - count)\n"
   ]
  },
  {
   "cell_type": "code",
   "execution_count": 53,
   "metadata": {},
   "outputs": [],
   "source": [
    "# 保存\n",
    "user_item_df.to_csv('user_item.csv', index=False)\n",
    "item_brand_df.to_csv('item_brand.csv', index=False)\n",
    "item_view_item_df.to_csv('item_view_item.csv', index=False)\n",
    "item_buy_item_df.to_csv('item_buy_item.csv', index=False)"
   ]
  },
  {
   "cell_type": "code",
   "execution_count": 272,
   "metadata": {},
   "outputs": [],
   "source": [
    "# user ->(mention) item\n",
    "thre_thidf = 0.2\n",
    "thre_freq = 100"
   ]
  },
  {
   "cell_type": "code",
   "execution_count": 16,
   "metadata": {},
   "outputs": [
    {
     "name": "stdout",
     "output_type": "stream",
     "text": [
      "  (0, 1854)\t0.4880324802554905\n",
      "  (0, 951)\t0.3403177296309513\n",
      "  (0, 852)\t0.4057569517648583\n",
      "  (0, 952)\t0.6938079252999344\n",
      "  (1, 184)\t0.3118891696557429\n",
      "  (1, 1759)\t0.36712462784348177\n",
      "  (1, 2215)\t0.2921634918425743\n",
      "  (1, 2082)\t0.30234218626161524\n",
      "  (1, 1944)\t0.45331722877652486\n",
      "  (1, 1856)\t0.22138657314327106\n",
      "  (1, 1216)\t0.4707881075667177\n",
      "  (1, 951)\t0.3391524480571183\n",
      "  (2, 1884)\t0.6126503505988063\n",
      "  (2, 521)\t0.31712001102728626\n",
      "  (2, 2215)\t0.2863851208295534\n",
      "  (2, 951)\t0.6648894713293749\n",
      "  (3, 2057)\t1.0\n",
      "  (4, 1884)\t0.673151603612957\n",
      "  (4, 1759)\t0.39540141722074795\n",
      "  (4, 1216)\t0.5070492983159838\n",
      "  (4, 951)\t0.3652747553423271\n",
      "  (5, 1870)\t0.6661499467397057\n",
      "  (5, 930)\t0.5586866273467649\n",
      "  (5, 633)\t0.44766592214864476\n",
      "  (5, 1612)\t0.20906631251683702\n",
      "  :\t:\n",
      "  (997, 1856)\t0.10625794076311504\n",
      "  (998, 1930)\t0.28654888444704474\n",
      "  (998, 1298)\t0.3134416327400452\n",
      "  (998, 1326)\t0.2532391868676179\n",
      "  (998, 2260)\t0.3134416327400452\n",
      "  (998, 1327)\t0.3900787061429222\n",
      "  (998, 1236)\t0.13991631657681775\n",
      "  (998, 1927)\t0.23609891009817258\n",
      "  (998, 1291)\t0.29395670874571833\n",
      "  (998, 1315)\t0.23609891009817258\n",
      "  (998, 567)\t0.13616981735989211\n",
      "  (998, 1369)\t0.2385638470867665\n",
      "  (998, 2209)\t0.35179292845149046\n",
      "  (998, 1058)\t0.18411196695693877\n",
      "  (998, 1612)\t0.20542035953286605\n",
      "  (998, 1856)\t0.11102474295633806\n",
      "  (999, 1871)\t0.35417779876382205\n",
      "  (999, 1832)\t0.35417779876382205\n",
      "  (999, 1755)\t0.35417779876382205\n",
      "  (999, 177)\t0.35417779876382205\n",
      "  (999, 2181)\t0.35417779876382205\n",
      "  (999, 2104)\t0.4823110105565613\n",
      "  (999, 1549)\t0.23429529615189618\n",
      "  (999, 2209)\t0.17966368709361918\n",
      "  (999, 611)\t0.2302025133463964\n"
     ]
    }
   ],
   "source": [
    "print(tfidf)"
   ]
  },
  {
   "cell_type": "code",
   "execution_count": 282,
   "metadata": {},
   "outputs": [
    {
     "name": "stdout",
     "output_type": "stream",
     "text": [
      "\n",
      "  (0, 5327)\t0.49007565633075695\n",
      "  (0, 550)\t0.34269184164761174\n",
      "  (0, 2286)\t0.49007565633075695\n",
      "  (0, 1489)\t0.2595233622077852\n",
      "  (0, 47)\t0.29700178176009323\n",
      "  (0, 366)\t0.44289293609535224\n",
      "  (0, 2471)\t0.2247163035221493\n",
      "  (0, 2031)\t0.5387974197002788\n",
      "  (0, 260)\t0.6382670787324727\n",
      "  (0, 550)\t0.5498294978724196\n"
     ]
    }
   ],
   "source": [
    "i = 0\n",
    "for w in tfidf:\n",
    "    print(w)\n",
    "    if i > 1: break\n",
    "    i += 1"
   ]
  },
  {
   "cell_type": "code",
   "execution_count": 286,
   "metadata": {},
   "outputs": [
    {
     "name": "stdout",
     "output_type": "stream",
     "text": [
      "  (0, 5327)\t0.49007565633075695\n",
      "  (0, 550)\t0.34269184164761174\n",
      "  (0, 2286)\t0.49007565633075695\n",
      "  (0, 1489)\t0.2595233622077852\n",
      "  (0, 47)\t0.29700178176009323\n",
      "  (0, 366)\t0.44289293609535224\n",
      "  (0, 2471)\t0.2247163035221493\n"
     ]
    }
   ],
   "source": [
    "print(tfidf[1])"
   ]
  },
  {
   "cell_type": "code",
   "execution_count": null,
   "metadata": {},
   "outputs": [],
   "source": []
  },
  {
   "cell_type": "code",
   "execution_count": null,
   "metadata": {},
   "outputs": [],
   "source": []
  }
 ],
 "metadata": {
  "kernelspec": {
   "display_name": "Python 3",
   "language": "python",
   "name": "python3"
  },
  "language_info": {
   "codemirror_mode": {
    "name": "ipython",
    "version": 3
   },
   "file_extension": ".py",
   "mimetype": "text/x-python",
   "name": "python",
   "nbconvert_exporter": "python",
   "pygments_lexer": "ipython3",
   "version": "3.7.2-final"
  }
 },
 "nbformat": 4,
 "nbformat_minor": 4
}