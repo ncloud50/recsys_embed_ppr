{
 "cells": [
  {
   "cell_type": "code",
   "execution_count": 1,
   "metadata": {},
   "outputs": [],
   "source": [
    "import pandas as pd\n",
    "import gzip\n",
    "import json\n",
    "import matplotlib.pyplot as plt\n",
    "import numpy as np\n",
    "\n",
    "import nltk\n",
    "from nltk.corpus import stopwords\n",
    "import re\n",
    "\n",
    "from sklearn.feature_extraction.text import TfidfVectorizer\n",
    "\n",
    "stopset = set(stopwords.words('english'))"
   ]
  },
  {
   "cell_type": "code",
   "execution_count": 2,
   "metadata": {},
   "outputs": [],
   "source": [
    "def parse(path):\n",
    "    f = open(path, 'rb')\n",
    "    for l in f:\n",
    "        yield json.loads(l)\n",
    "\n",
    "def getDF(path):\n",
    "    i = 0\n",
    "    df = {}\n",
    "    for d in parse(path):\n",
    "        df[i] = d\n",
    "        i += 1\n",
    "    return pd.DataFrame.from_dict(df, orient='index')\n",
    "\n",
    "df = getDF('Luxury_Beauty_5.json')\n",
    "meta_df = getDF('meta_Luxury_Beauty.json')"
   ]
  },
  {
   "cell_type": "code",
   "execution_count": 3,
   "metadata": {},
   "outputs": [
    {
     "name": "stdout",
     "output_type": "stream",
     "text": [
      "34278\n"
     ]
    },
    {
     "data": {
      "text/html": [
       "<div>\n",
       "<style scoped>\n",
       "    .dataframe tbody tr th:only-of-type {\n",
       "        vertical-align: middle;\n",
       "    }\n",
       "\n",
       "    .dataframe tbody tr th {\n",
       "        vertical-align: top;\n",
       "    }\n",
       "\n",
       "    .dataframe thead th {\n",
       "        text-align: right;\n",
       "    }\n",
       "</style>\n",
       "<table border=\"1\" class=\"dataframe\">\n",
       "  <thead>\n",
       "    <tr style=\"text-align: right;\">\n",
       "      <th></th>\n",
       "      <th>overall</th>\n",
       "      <th>verified</th>\n",
       "      <th>reviewTime</th>\n",
       "      <th>reviewerID</th>\n",
       "      <th>asin</th>\n",
       "      <th>style</th>\n",
       "      <th>reviewerName</th>\n",
       "      <th>reviewText</th>\n",
       "      <th>summary</th>\n",
       "      <th>unixReviewTime</th>\n",
       "      <th>vote</th>\n",
       "      <th>image</th>\n",
       "    </tr>\n",
       "  </thead>\n",
       "  <tbody>\n",
       "    <tr>\n",
       "      <th>0</th>\n",
       "      <td>5.0</td>\n",
       "      <td>True</td>\n",
       "      <td>01 5, 2018</td>\n",
       "      <td>A2HOI48JK8838M</td>\n",
       "      <td>B00004U9V2</td>\n",
       "      <td>{'Size:': ' 0.9 oz.'}</td>\n",
       "      <td>DB</td>\n",
       "      <td>This handcream has a beautiful fragrance. It d...</td>\n",
       "      <td>Beautiful Fragrance</td>\n",
       "      <td>1515110400</td>\n",
       "      <td>NaN</td>\n",
       "      <td>NaN</td>\n",
       "    </tr>\n",
       "    <tr>\n",
       "      <th>1</th>\n",
       "      <td>5.0</td>\n",
       "      <td>True</td>\n",
       "      <td>04 5, 2017</td>\n",
       "      <td>A1YIPEY7HX73S7</td>\n",
       "      <td>B00004U9V2</td>\n",
       "      <td>{'Size:': ' 3.5 oz.'}</td>\n",
       "      <td>Ajaey</td>\n",
       "      <td>wonderful hand lotion, for seriously dry skin,...</td>\n",
       "      <td>wonderful hand lotion</td>\n",
       "      <td>1491350400</td>\n",
       "      <td>NaN</td>\n",
       "      <td>NaN</td>\n",
       "    </tr>\n",
       "    <tr>\n",
       "      <th>2</th>\n",
       "      <td>5.0</td>\n",
       "      <td>True</td>\n",
       "      <td>03 27, 2017</td>\n",
       "      <td>A2QCGHIJ2TCLVP</td>\n",
       "      <td>B00004U9V2</td>\n",
       "      <td>{'Size:': ' 250 g'}</td>\n",
       "      <td>D. Jones</td>\n",
       "      <td>Best hand cream around.  Silky, thick, soaks i...</td>\n",
       "      <td>Best hand cream around</td>\n",
       "      <td>1490572800</td>\n",
       "      <td>NaN</td>\n",
       "      <td>NaN</td>\n",
       "    </tr>\n",
       "    <tr>\n",
       "      <th>3</th>\n",
       "      <td>5.0</td>\n",
       "      <td>True</td>\n",
       "      <td>03 20, 2017</td>\n",
       "      <td>A2R4UNHFJBA6PY</td>\n",
       "      <td>B00004U9V2</td>\n",
       "      <td>{'Size:': ' 3.5 oz.'}</td>\n",
       "      <td>Amazon Customer</td>\n",
       "      <td>Thanks!!</td>\n",
       "      <td>Five Stars</td>\n",
       "      <td>1489968000</td>\n",
       "      <td>NaN</td>\n",
       "      <td>NaN</td>\n",
       "    </tr>\n",
       "    <tr>\n",
       "      <th>4</th>\n",
       "      <td>5.0</td>\n",
       "      <td>True</td>\n",
       "      <td>02 28, 2017</td>\n",
       "      <td>A2QCGHIJ2TCLVP</td>\n",
       "      <td>B00004U9V2</td>\n",
       "      <td>{'Size:': ' 0.9 oz.'}</td>\n",
       "      <td>D. Jones</td>\n",
       "      <td>Great hand lotion.  Soaks right in and leaves ...</td>\n",
       "      <td>Great hand lotion!</td>\n",
       "      <td>1488240000</td>\n",
       "      <td>NaN</td>\n",
       "      <td>NaN</td>\n",
       "    </tr>\n",
       "  </tbody>\n",
       "</table>\n",
       "</div>"
      ],
      "text/plain": [
       "   overall  verified   reviewTime      reviewerID        asin  \\\n",
       "0      5.0      True   01 5, 2018  A2HOI48JK8838M  B00004U9V2   \n",
       "1      5.0      True   04 5, 2017  A1YIPEY7HX73S7  B00004U9V2   \n",
       "2      5.0      True  03 27, 2017  A2QCGHIJ2TCLVP  B00004U9V2   \n",
       "3      5.0      True  03 20, 2017  A2R4UNHFJBA6PY  B00004U9V2   \n",
       "4      5.0      True  02 28, 2017  A2QCGHIJ2TCLVP  B00004U9V2   \n",
       "\n",
       "                   style     reviewerName  \\\n",
       "0  {'Size:': ' 0.9 oz.'}               DB   \n",
       "1  {'Size:': ' 3.5 oz.'}            Ajaey   \n",
       "2    {'Size:': ' 250 g'}         D. Jones   \n",
       "3  {'Size:': ' 3.5 oz.'}  Amazon Customer   \n",
       "4  {'Size:': ' 0.9 oz.'}         D. Jones   \n",
       "\n",
       "                                          reviewText                 summary  \\\n",
       "0  This handcream has a beautiful fragrance. It d...     Beautiful Fragrance   \n",
       "1  wonderful hand lotion, for seriously dry skin,...   wonderful hand lotion   \n",
       "2  Best hand cream around.  Silky, thick, soaks i...  Best hand cream around   \n",
       "3                                           Thanks!!              Five Stars   \n",
       "4  Great hand lotion.  Soaks right in and leaves ...      Great hand lotion!   \n",
       "\n",
       "   unixReviewTime vote image  \n",
       "0      1515110400  NaN   NaN  \n",
       "1      1491350400  NaN   NaN  \n",
       "2      1490572800  NaN   NaN  \n",
       "3      1489968000  NaN   NaN  \n",
       "4      1488240000  NaN   NaN  "
      ]
     },
     "execution_count": 3,
     "metadata": {},
     "output_type": "execute_result"
    }
   ],
   "source": [
    "print(len(df))\n",
    "df.head()"
   ]
  },
  {
   "cell_type": "code",
   "execution_count": 4,
   "metadata": {},
   "outputs": [
    {
     "data": {
      "text/html": [
       "<div>\n",
       "<style scoped>\n",
       "    .dataframe tbody tr th:only-of-type {\n",
       "        vertical-align: middle;\n",
       "    }\n",
       "\n",
       "    .dataframe tbody tr th {\n",
       "        vertical-align: top;\n",
       "    }\n",
       "\n",
       "    .dataframe thead th {\n",
       "        text-align: right;\n",
       "    }\n",
       "</style>\n",
       "<table border=\"1\" class=\"dataframe\">\n",
       "  <thead>\n",
       "    <tr style=\"text-align: right;\">\n",
       "      <th></th>\n",
       "      <th>description</th>\n",
       "      <th>title</th>\n",
       "      <th>also_buy</th>\n",
       "      <th>image</th>\n",
       "      <th>rank</th>\n",
       "      <th>also_view</th>\n",
       "      <th>details</th>\n",
       "      <th>main_cat</th>\n",
       "      <th>price</th>\n",
       "      <th>asin</th>\n",
       "      <th>brand</th>\n",
       "      <th>feature</th>\n",
       "    </tr>\n",
       "  </thead>\n",
       "  <tbody>\n",
       "    <tr>\n",
       "      <th>0</th>\n",
       "      <td>[After a long day of handling thorny situation...</td>\n",
       "      <td>Crabtree &amp; Evelyn - Gardener's Ultra-Moisturis...</td>\n",
       "      <td>[B00GHX7H0A, B00FRERO7G, B00R68QXCS, B000Z65AZ...</td>\n",
       "      <td>[https://images-na.ssl-images-amazon.com/image...</td>\n",
       "      <td>4,324inBeautyPersonalCare(</td>\n",
       "      <td>[B00FRERO7G, B00GHX7H0A, B07GFHJRMX, B00TJ3NBN...</td>\n",
       "      <td>\\n  &lt;div class=\"content\"&gt;\\n\\n\\n\\n\\n\\n\\n\\n&lt;ul&gt;\\...</td>\n",
       "      <td>Luxury Beauty</td>\n",
       "      <td>$30.00</td>\n",
       "      <td>B00004U9V2</td>\n",
       "      <td>NaN</td>\n",
       "      <td>NaN</td>\n",
       "    </tr>\n",
       "    <tr>\n",
       "      <th>1</th>\n",
       "      <td>[If you haven't experienced the pleasures of b...</td>\n",
       "      <td>AHAVA Bath Salts</td>\n",
       "      <td>NaN</td>\n",
       "      <td>NaN</td>\n",
       "      <td>1,633,549inBeautyPersonalCare(</td>\n",
       "      <td>NaN</td>\n",
       "      <td>\\n  &lt;div class=\"content\"&gt;\\n\\n\\n\\n\\n\\n\\n\\n&lt;ul&gt;\\...</td>\n",
       "      <td>Luxury Beauty</td>\n",
       "      <td>NaN</td>\n",
       "      <td>B0000531EN</td>\n",
       "      <td>NaN</td>\n",
       "      <td>NaN</td>\n",
       "    </tr>\n",
       "    <tr>\n",
       "      <th>2</th>\n",
       "      <td>[Rich, black mineral mud, harvested from the b...</td>\n",
       "      <td>AHAVA Dead Sea Mineral Mud, 8.5 oz, Pack of 4</td>\n",
       "      <td>NaN</td>\n",
       "      <td>[https://images-na.ssl-images-amazon.com/image...</td>\n",
       "      <td>1,806,710inBeautyamp;PersonalCare(</td>\n",
       "      <td>NaN</td>\n",
       "      <td>\\n  &lt;div class=\"content\"&gt;\\n\\n\\n\\n\\n\\n\\n\\n&lt;ul&gt;\\...</td>\n",
       "      <td>Luxury Beauty</td>\n",
       "      <td>NaN</td>\n",
       "      <td>B0000532JH</td>\n",
       "      <td>NaN</td>\n",
       "      <td>NaN</td>\n",
       "    </tr>\n",
       "    <tr>\n",
       "      <th>3</th>\n",
       "      <td>[This liquid soap with convenient pump dispens...</td>\n",
       "      <td>Crabtree &amp; Evelyn Hand Soap, Gardeners, 10.1 f...</td>\n",
       "      <td>NaN</td>\n",
       "      <td>[https://images-na.ssl-images-amazon.com/image...</td>\n",
       "      <td>NaN</td>\n",
       "      <td>[B00004U9V2, B00GHX7H0A, B00FRERO7G, B00R68QXC...</td>\n",
       "      <td>\\n  &lt;div class=\"content\"&gt;\\n\\n\\n\\n\\n\\n\\n\\n&lt;ul&gt;\\...</td>\n",
       "      <td>Luxury Beauty</td>\n",
       "      <td>$15.99</td>\n",
       "      <td>B00005A77F</td>\n",
       "      <td>NaN</td>\n",
       "      <td>NaN</td>\n",
       "    </tr>\n",
       "    <tr>\n",
       "      <th>4</th>\n",
       "      <td>[Remember why you love your favorite blanket? ...</td>\n",
       "      <td>Soy Milk Hand Crme</td>\n",
       "      <td>[B000NZT6KM, B001BY229Q, B008J724QY, B0009YGKJ...</td>\n",
       "      <td>[https://images-na.ssl-images-amazon.com/image...</td>\n",
       "      <td>42,464inBeautyamp;PersonalCare(</td>\n",
       "      <td>NaN</td>\n",
       "      <td>\\n  &lt;div class=\"content\"&gt;\\n\\n\\n\\n\\n\\n\\n\\n&lt;ul&gt;\\...</td>\n",
       "      <td>Luxury Beauty</td>\n",
       "      <td>$18.00</td>\n",
       "      <td>B00005NDTD</td>\n",
       "      <td>NaN</td>\n",
       "      <td>NaN</td>\n",
       "    </tr>\n",
       "  </tbody>\n",
       "</table>\n",
       "</div>"
      ],
      "text/plain": [
       "                                         description  \\\n",
       "0  [After a long day of handling thorny situation...   \n",
       "1  [If you haven't experienced the pleasures of b...   \n",
       "2  [Rich, black mineral mud, harvested from the b...   \n",
       "3  [This liquid soap with convenient pump dispens...   \n",
       "4  [Remember why you love your favorite blanket? ...   \n",
       "\n",
       "                                               title  \\\n",
       "0  Crabtree & Evelyn - Gardener's Ultra-Moisturis...   \n",
       "1                                   AHAVA Bath Salts   \n",
       "2      AHAVA Dead Sea Mineral Mud, 8.5 oz, Pack of 4   \n",
       "3  Crabtree & Evelyn Hand Soap, Gardeners, 10.1 f...   \n",
       "4                                 Soy Milk Hand Crme   \n",
       "\n",
       "                                            also_buy  \\\n",
       "0  [B00GHX7H0A, B00FRERO7G, B00R68QXCS, B000Z65AZ...   \n",
       "1                                                NaN   \n",
       "2                                                NaN   \n",
       "3                                                NaN   \n",
       "4  [B000NZT6KM, B001BY229Q, B008J724QY, B0009YGKJ...   \n",
       "\n",
       "                                               image  \\\n",
       "0  [https://images-na.ssl-images-amazon.com/image...   \n",
       "1                                                NaN   \n",
       "2  [https://images-na.ssl-images-amazon.com/image...   \n",
       "3  [https://images-na.ssl-images-amazon.com/image...   \n",
       "4  [https://images-na.ssl-images-amazon.com/image...   \n",
       "\n",
       "                                 rank  \\\n",
       "0          4,324inBeautyPersonalCare(   \n",
       "1      1,633,549inBeautyPersonalCare(   \n",
       "2  1,806,710inBeautyamp;PersonalCare(   \n",
       "3                                 NaN   \n",
       "4     42,464inBeautyamp;PersonalCare(   \n",
       "\n",
       "                                           also_view  \\\n",
       "0  [B00FRERO7G, B00GHX7H0A, B07GFHJRMX, B00TJ3NBN...   \n",
       "1                                                NaN   \n",
       "2                                                NaN   \n",
       "3  [B00004U9V2, B00GHX7H0A, B00FRERO7G, B00R68QXC...   \n",
       "4                                                NaN   \n",
       "\n",
       "                                             details       main_cat   price  \\\n",
       "0  \\n  <div class=\"content\">\\n\\n\\n\\n\\n\\n\\n\\n<ul>\\...  Luxury Beauty  $30.00   \n",
       "1  \\n  <div class=\"content\">\\n\\n\\n\\n\\n\\n\\n\\n<ul>\\...  Luxury Beauty     NaN   \n",
       "2  \\n  <div class=\"content\">\\n\\n\\n\\n\\n\\n\\n\\n<ul>\\...  Luxury Beauty     NaN   \n",
       "3  \\n  <div class=\"content\">\\n\\n\\n\\n\\n\\n\\n\\n<ul>\\...  Luxury Beauty  $15.99   \n",
       "4  \\n  <div class=\"content\">\\n\\n\\n\\n\\n\\n\\n\\n<ul>\\...  Luxury Beauty  $18.00   \n",
       "\n",
       "         asin brand feature  \n",
       "0  B00004U9V2   NaN     NaN  \n",
       "1  B0000531EN   NaN     NaN  \n",
       "2  B0000532JH   NaN     NaN  \n",
       "3  B00005A77F   NaN     NaN  \n",
       "4  B00005NDTD   NaN     NaN  "
      ]
     },
     "execution_count": 4,
     "metadata": {},
     "output_type": "execute_result"
    }
   ],
   "source": [
    "meta_df.head()"
   ]
  },
  {
   "cell_type": "code",
   "execution_count": 5,
   "metadata": {},
   "outputs": [
    {
     "name": "stdout",
     "output_type": "stream",
     "text": [
      "1581\n"
     ]
    },
    {
     "data": {
      "text/plain": [
       "1581"
      ]
     },
     "execution_count": 5,
     "metadata": {},
     "output_type": "execute_result"
    }
   ],
   "source": [
    "print(len(set(df['asin'])))\n",
    "len(set(df['asin']) & set(meta_df['asin']))"
   ]
  },
  {
   "cell_type": "markdown",
   "metadata": {},
   "source": [
    "### 作るtriplet\n",
    "- user ->(buy) item\n",
    "- user ->(mention) feature\n",
    "- item ->(described_by) feature\n",
    "- item ->(belong to) brand\n",
    "- item ->(also_view) item\n",
    "- item ->(also_buy) item\n",
    "\n",
    "\n",
    "考えること\n",
    "- ratingの情報はどうするか。3以上にリンクを残すなど\n",
    "- priceの情報はどうするか。ある閾値以上にリンクを張るなど."
   ]
  },
  {
   "cell_type": "code",
   "execution_count": 17,
   "metadata": {},
   "outputs": [
    {
     "data": {
      "image/png": "[encoded data removed]",
      "text/plain": [
       "<Figure size 432x288 with 1 Axes>"
      ]
     },
     "metadata": {
      "needs_background": "light"
     },
     "output_type": "display_data"
    },
    {
     "data": {
      "text/html": [
       "<div>\n",
       "<style scoped>\n",
       "    .dataframe tbody tr th:only-of-type {\n",
       "        vertical-align: middle;\n",
       "    }\n",
       "\n",
       "    .dataframe tbody tr th {\n",
       "        vertical-align: top;\n",
       "    }\n",
       "\n",
       "    .dataframe thead th {\n",
       "        text-align: right;\n",
       "    }\n",
       "</style>\n",
       "<table border=\"1\" class=\"dataframe\">\n",
       "  <thead>\n",
       "    <tr style=\"text-align: right;\">\n",
       "      <th></th>\n",
       "      <th>count</th>\n",
       "      <th>mean</th>\n",
       "      <th>std</th>\n",
       "      <th>min</th>\n",
       "      <th>25%</th>\n",
       "      <th>50%</th>\n",
       "      <th>75%</th>\n",
       "      <th>max</th>\n",
       "    </tr>\n",
       "  </thead>\n",
       "  <tbody>\n",
       "    <tr>\n",
       "      <th>0</th>\n",
       "      <td>6958.0</td>\n",
       "      <td>46.10283</td>\n",
       "      <td>92.443779</td>\n",
       "      <td>1.0</td>\n",
       "      <td>19.5</td>\n",
       "      <td>29.99</td>\n",
       "      <td>52.9975</td>\n",
       "      <td>6500.0</td>\n",
       "    </tr>\n",
       "  </tbody>\n",
       "</table>\n",
       "</div>"
      ],
      "text/plain": [
       "    count      mean        std  min   25%    50%      75%     max\n",
       "0  6958.0  46.10283  92.443779  1.0  19.5  29.99  52.9975  6500.0"
      ]
     },
     "execution_count": 17,
     "metadata": {},
     "output_type": "execute_result"
    }
   ],
   "source": [
    "price = []\n",
    "for p in np.array(meta_df['price']):\n",
    "    if type(p) != str:\n",
    "        continue\n",
    "    try:\n",
    "        price.append(float(p[1:].replace(',', '')))\n",
    "    except:\n",
    "        print(p)\n",
    "plt.hist(price, bins=100)\n",
    "plt.show()\n",
    "pd.DataFrame(pd.Series(price).describe()).transpose()"
   ]
  },
  {
   "cell_type": "markdown",
   "metadata": {},
   "source": [
    "4分位数等をつかって、priceを四つにランク付けするか?\n",
    "- priceのノードに辺が集まりすぎる\n",
    "\n",
    "特別に高価なアイテムだけリンクをつけるなど。2\\sigma以上など\n"
   ]
  },
  {
   "cell_type": "code",
   "execution_count": 301,
   "metadata": {},
   "outputs": [
    {
     "data": {
      "image/png": "[encoded data removed]",
      "text/plain": [
       "<Figure size 432x288 with 1 Axes>"
      ]
     },
     "metadata": {
      "needs_background": "light"
     },
     "output_type": "display_data"
    }
   ],
   "source": [
    "plt.hist(df['overall'])\n",
    "plt.show()"
   ]
  },
  {
   "cell_type": "markdown",
   "metadata": {},
   "source": [
    "ratingが1, 2のリンクは消すなど"
   ]
  },
  {
   "cell_type": "markdown",
   "metadata": {},
   "source": [
    "## 辞書を作る"
   ]
  },
  {
   "cell_type": "code",
   "execution_count": null,
   "metadata": {},
   "outputs": [],
   "source": [
    "user2id = {}\n",
    "item2id = {}\n",
    "brand2id = {}\n",
    "for u in df['reviewerID']:\n",
    "    if u not in user2id:\n",
    "        user2id[u] = len(user2id)\n",
    "        \n",
    "for item in df['asin']:\n",
    "    if item not in item2id:\n",
    "        item2id[item] = len(item2id)\n",
    "        \n",
    "for b in meta_df['brand']:\n",
    "    if b not in brand2id:\n",
    "        brand2id[b] = len(brand2id)\n",
    "        \n",
    "print(user2id)\n",
    "print(item2id)\n",
    "print(brand2id)"
   ]
  },
  {
   "cell_type": "markdown",
   "metadata": {},
   "source": [
    "## reviewとdescriptionからfeatureを取り出す"
   ]
  },
  {
   "cell_type": "code",
   "execution_count": 14,
   "metadata": {},
   "outputs": [],
   "source": [
    "# 半角記号削除\n",
    "def del_kigou(text):\n",
    "    text = re.sub(r'[0-9!-/:-@¥[-`{-~]*', \"\", text)\n",
    "    return text"
   ]
  },
  {
   "cell_type": "code",
   "execution_count": 7,
   "metadata": {},
   "outputs": [],
   "source": [
    "stemmed = []\n",
    "\n",
    "lemmatizer = nltk.stem.WordNetLemmatizer()\n",
    "stemmer = nltk.stem.PorterStemmer()\n",
    "\n",
    "rev = []\n",
    "\n",
    "for r in list(df['reviewText']):\n",
    "    if type(r) != str:\n",
    "        continue\n",
    "    rev.append(r)\n",
    "    \n",
    "for r in list(meta_df['description']):\n",
    "    if type(r) != list:\n",
    "        continue\n",
    "    rev.append(r[0])\n"
   ]
  },
  {
   "cell_type": "code",
   "execution_count": 15,
   "metadata": {},
   "outputs": [],
   "source": [
    "# 名詞のみ\n",
    "corpus = []\n",
    "nouns_tag = ['NN', 'NNS', 'NNP', 'NNPS']\n",
    "\n",
    "for text in rev[0:1000]:\n",
    "    text = del_kigou(text)\n",
    "    tagged = nltk.pos_tag(text.lower().split())\n",
    "    \n",
    "    nouns = ''\n",
    "    for w, tag in tagged:\n",
    "        if w in stopset:\n",
    "            continue\n",
    "        if tag in nouns_tag:\n",
    "            # 語幹化\n",
    "            w = lemmatizer.lemmatize(w)\n",
    "            #w = stemmer.stem(w)\n",
    "            nouns += ' ' + w\n",
    "            \n",
    "    corpus.append(nouns)"
   ]
  },
  {
   "cell_type": "code",
   "execution_count": 10,
   "metadata": {},
   "outputs": [],
   "source": [
    "# 単語の頻度を返す\n",
    "def get_word_freq(corpus):\n",
    "    word_freq = {}\n",
    "    for text in corpus:\n",
    "        for w in text.split(' '):\n",
    "            if w not in word_freq:\n",
    "                word_freq[w] = 1\n",
    "            else:\n",
    "                word_freq[w] += 1\n",
    "    return word_freq"
   ]
  },
  {
   "cell_type": "code",
   "execution_count": 11,
   "metadata": {},
   "outputs": [],
   "source": [
    "word_freq = get_word_freq(corpus)\n",
    "tfidf_trans = TfidfVectorizer()\n",
    "tfidf = tfidf_trans.fit_transform(corpus)\n",
    "feat_words = tfidf_trans.get_feature_names()"
   ]
  },
  {
   "cell_type": "code",
   "execution_count": 13,
   "metadata": {},
   "outputs": [
    {
     "data": {
      "text/plain": [
       "2295"
      ]
     },
     "execution_count": 13,
     "metadata": {},
     "output_type": "execute_result"
    }
   ],
   "source": [
    "len(feat_words)"
   ]
  },
  {
   "cell_type": "markdown",
   "metadata": {
    "jupyter": {
     "outputs_hidden": true
    }
   },
   "source": [
    "あるrecordにおいて(dfの行)、tfidfがある閾値以上かつ単語の頻度がある閾値以下のときに、uesrがその単語にmentionしているとする"
   ]
  },
  {
   "cell_type": "markdown",
   "metadata": {},
   "source": [
    "## Tripletを作る"
   ]
  },
  {
   "cell_type": "code",
   "execution_count": 305,
   "metadata": {},
   "outputs": [],
   "source": [
    "# user ->(buy) item\n",
    "user_item_df = pd.concat([df['reviewerID'], df['asin']], axis=1)\n",
    "user_item_df.to_csv('user_item.csv', index=False)"
   ]
  },
  {
   "cell_type": "code",
   "execution_count": 306,
   "metadata": {},
   "outputs": [],
   "source": [
    "item_set = set(df['asin'])"
   ]
  },
  {
   "cell_type": "code",
   "execution_count": 307,
   "metadata": {},
   "outputs": [],
   "source": [
    "# item ->(belong_to) brand\n",
    "item_brand_df = pd.concat([meta_df['asin'], meta_df['brand']], axis=1)\n",
    "\n",
    "del_idx = []\n",
    "for i in range(len(meta_df)):\n",
    "    if meta_df['asin'][i] not in item_set:\n",
    "        del_idx.append(i)\n",
    "\n",
    "item_brand_df.drop(del_idx)\n",
    "\n",
    "item_brand_df.to_csv('item_brand.csv', index=False)\n"
   ]
  },
  {
   "cell_type": "code",
   "execution_count": 308,
   "metadata": {},
   "outputs": [],
   "source": [
    "# item ->(also_view) item\n",
    "item_view_item_df = pd.concat([meta_df['asin'], meta_df['also_view']], axis=1)\n",
    "\n",
    "del_idx = []\n",
    "for i in range(len(meta_df)):\n",
    "    if meta_df['asin'][i] not in item_set:\n",
    "        del_idx.append(i)\n",
    "\n",
    "item_view_item_df.drop(del_idx)\n",
    "\n",
    "item_view_item_df.to_csv('item_view_item.csv', index=False)"
   ]
  },
  {
   "cell_type": "code",
   "execution_count": 309,
   "metadata": {},
   "outputs": [],
   "source": [
    "# item ->(also_buy) item\n",
    "item_buy_item_df = pd.concat([meta_df['asin'], meta_df['also_buy']], axis=1)\n",
    "\n",
    "del_idx = []\n",
    "for i in range(len(meta_df)):\n",
    "    if meta_df['asin'][i] not in item_set:\n",
    "        del_idx.append(i)\n",
    "\n",
    "item_buy_item_df.drop(del_idx)\n",
    "\n",
    "item_buy_item_df.to_csv('item_buy_item.csv', index=False)"
   ]
  },
  {
   "cell_type": "code",
   "execution_count": 272,
   "metadata": {},
   "outputs": [],
   "source": [
    "# user ->(mention) item\n",
    "thre_thidf = 0.2\n",
    "thre_freq = 100"
   ]
  },
  {
   "cell_type": "code",
   "execution_count": 16,
   "metadata": {},
   "outputs": [
    {
     "name": "stdout",
     "output_type": "stream",
     "text": [
      "  (0, 1854)\t0.4880324802554905\n",
      "  (0, 951)\t0.3403177296309513\n",
      "  (0, 852)\t0.4057569517648583\n",
      "  (0, 952)\t0.6938079252999344\n",
      "  (1, 184)\t0.3118891696557429\n",
      "  (1, 1759)\t0.36712462784348177\n",
      "  (1, 2215)\t0.2921634918425743\n",
      "  (1, 2082)\t0.30234218626161524\n",
      "  (1, 1944)\t0.45331722877652486\n",
      "  (1, 1856)\t0.22138657314327106\n",
      "  (1, 1216)\t0.4707881075667177\n",
      "  (1, 951)\t0.3391524480571183\n",
      "  (2, 1884)\t0.6126503505988063\n",
      "  (2, 521)\t0.31712001102728626\n",
      "  (2, 2215)\t0.2863851208295534\n",
      "  (2, 951)\t0.6648894713293749\n",
      "  (3, 2057)\t1.0\n",
      "  (4, 1884)\t0.673151603612957\n",
      "  (4, 1759)\t0.39540141722074795\n",
      "  (4, 1216)\t0.5070492983159838\n",
      "  (4, 951)\t0.3652747553423271\n",
      "  (5, 1870)\t0.6661499467397057\n",
      "  (5, 930)\t0.5586866273467649\n",
      "  (5, 633)\t0.44766592214864476\n",
      "  (5, 1612)\t0.20906631251683702\n",
      "  :\t:\n",
      "  (997, 1856)\t0.10625794076311504\n",
      "  (998, 1930)\t0.28654888444704474\n",
      "  (998, 1298)\t0.3134416327400452\n",
      "  (998, 1326)\t0.2532391868676179\n",
      "  (998, 2260)\t0.3134416327400452\n",
      "  (998, 1327)\t0.3900787061429222\n",
      "  (998, 1236)\t0.13991631657681775\n",
      "  (998, 1927)\t0.23609891009817258\n",
      "  (998, 1291)\t0.29395670874571833\n",
      "  (998, 1315)\t0.23609891009817258\n",
      "  (998, 567)\t0.13616981735989211\n",
      "  (998, 1369)\t0.2385638470867665\n",
      "  (998, 2209)\t0.35179292845149046\n",
      "  (998, 1058)\t0.18411196695693877\n",
      "  (998, 1612)\t0.20542035953286605\n",
      "  (998, 1856)\t0.11102474295633806\n",
      "  (999, 1871)\t0.35417779876382205\n",
      "  (999, 1832)\t0.35417779876382205\n",
      "  (999, 1755)\t0.35417779876382205\n",
      "  (999, 177)\t0.35417779876382205\n",
      "  (999, 2181)\t0.35417779876382205\n",
      "  (999, 2104)\t0.4823110105565613\n",
      "  (999, 1549)\t0.23429529615189618\n",
      "  (999, 2209)\t0.17966368709361918\n",
      "  (999, 611)\t0.2302025133463964\n"
     ]
    }
   ],
   "source": [
    "print(tfidf)"
   ]
  },
  {
   "cell_type": "code",
   "execution_count": 282,
   "metadata": {},
   "outputs": [
    {
     "name": "stdout",
     "output_type": "stream",
     "text": [
      "\n",
      "  (0, 5327)\t0.49007565633075695\n",
      "  (0, 550)\t0.34269184164761174\n",
      "  (0, 2286)\t0.49007565633075695\n",
      "  (0, 1489)\t0.2595233622077852\n",
      "  (0, 47)\t0.29700178176009323\n",
      "  (0, 366)\t0.44289293609535224\n",
      "  (0, 2471)\t0.2247163035221493\n",
      "  (0, 2031)\t0.5387974197002788\n",
      "  (0, 260)\t0.6382670787324727\n",
      "  (0, 550)\t0.5498294978724196\n"
     ]
    }
   ],
   "source": [
    "i = 0\n",
    "for w in tfidf:\n",
    "    print(w)\n",
    "    if i > 1: break\n",
    "    i += 1"
   ]
  },
  {
   "cell_type": "code",
   "execution_count": 286,
   "metadata": {},
   "outputs": [
    {
     "name": "stdout",
     "output_type": "stream",
     "text": [
      "  (0, 5327)\t0.49007565633075695\n",
      "  (0, 550)\t0.34269184164761174\n",
      "  (0, 2286)\t0.49007565633075695\n",
      "  (0, 1489)\t0.2595233622077852\n",
      "  (0, 47)\t0.29700178176009323\n",
      "  (0, 366)\t0.44289293609535224\n",
      "  (0, 2471)\t0.2247163035221493\n"
     ]
    }
   ],
   "source": [
    "print(tfidf[1])"
   ]
  },
  {
   "cell_type": "code",
   "execution_count": null,
   "metadata": {},
   "outputs": [],
   "source": []
  }
 ],
 "metadata": {
  "kernelspec": {
   "display_name": "Python 3",
   "language": "python",
   "name": "python3"
  },
  "language_info": {
   "codemirror_mode": {
    "name": "ipython",
    "version": 3
   },
   "file_extension": ".py",
   "mimetype": "text/x-python",
   "name": "python",
   "nbconvert_exporter": "python",
   "pygments_lexer": "ipython3",
   "version": "3.6.7"
  }
 },
 "nbformat": 4,
 "nbformat_minor": 4
}
