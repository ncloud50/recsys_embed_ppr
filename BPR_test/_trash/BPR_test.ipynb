{
 "cells": [
  {
   "cell_type": "code",
   "execution_count": 77,
   "metadata": {},
   "outputs": [],
   "source": [
    "import pandas as pd\n",
    "import matplotlib.pyplot as plt\n",
    "import numpy as np\n",
    "import time\n",
    "from importlib import reload\n",
    "\n",
    "\n",
    "import numpy as np\n",
    "import torch\n",
    "import torch.nn as nn\n",
    "import torch.nn.functional as F\n",
    "import torch.optim as optim\n",
    "\n",
    "torch.manual_seed(1)\n",
    "#device = torch.device(\"cuda\" if torch.cuda.is_available() else \"cpu\")\n",
    "device = 'cpu'"
   ]
  },
  {
   "cell_type": "markdown",
   "metadata": {},
   "source": [
    "# Model"
   ]
  },
  {
   "cell_type": "code",
   "execution_count": 78,
   "metadata": {},
   "outputs": [],
   "source": [
    "from bpr_model import BPR"
   ]
  },
  {
   "cell_type": "markdown",
   "metadata": {},
   "source": [
    "# Preprocess"
   ]
  },
  {
   "cell_type": "code",
   "execution_count": 79,
   "metadata": {},
   "outputs": [
    {
     "data": {
      "text/html": [
       "<div>\n",
       "<style scoped>\n",
       "    .dataframe tbody tr th:only-of-type {\n",
       "        vertical-align: middle;\n",
       "    }\n",
       "\n",
       "    .dataframe tbody tr th {\n",
       "        vertical-align: top;\n",
       "    }\n",
       "\n",
       "    .dataframe thead th {\n",
       "        text-align: right;\n",
       "    }\n",
       "</style>\n",
       "<table border=\"1\" class=\"dataframe\">\n",
       "  <thead>\n",
       "    <tr style=\"text-align: right;\">\n",
       "      <th></th>\n",
       "      <th>reviewerID</th>\n",
       "      <th>asin</th>\n",
       "    </tr>\n",
       "  </thead>\n",
       "  <tbody>\n",
       "    <tr>\n",
       "      <th>0</th>\n",
       "      <td>A2HOI48JK8838M</td>\n",
       "      <td>B00004U9V2</td>\n",
       "    </tr>\n",
       "    <tr>\n",
       "      <th>1</th>\n",
       "      <td>A1YIPEY7HX73S7</td>\n",
       "      <td>B00004U9V2</td>\n",
       "    </tr>\n",
       "    <tr>\n",
       "      <th>2</th>\n",
       "      <td>A2QCGHIJ2TCLVP</td>\n",
       "      <td>B00004U9V2</td>\n",
       "    </tr>\n",
       "    <tr>\n",
       "      <th>3</th>\n",
       "      <td>A2R4UNHFJBA6PY</td>\n",
       "      <td>B00004U9V2</td>\n",
       "    </tr>\n",
       "    <tr>\n",
       "      <th>4</th>\n",
       "      <td>A2QCGHIJ2TCLVP</td>\n",
       "      <td>B00004U9V2</td>\n",
       "    </tr>\n",
       "  </tbody>\n",
       "</table>\n",
       "</div>"
      ],
      "text/plain": [
       "       reviewerID        asin\n",
       "0  A2HOI48JK8838M  B00004U9V2\n",
       "1  A1YIPEY7HX73S7  B00004U9V2\n",
       "2  A2QCGHIJ2TCLVP  B00004U9V2\n",
       "3  A2R4UNHFJBA6PY  B00004U9V2\n",
       "4  A2QCGHIJ2TCLVP  B00004U9V2"
      ]
     },
     "execution_count": 79,
     "metadata": {},
     "output_type": "execute_result"
    }
   ],
   "source": [
    "user_item_df = pd.read_csv('../user_item.csv')\n",
    "user_item_df.head()"
   ]
  },
  {
   "cell_type": "code",
   "execution_count": 80,
   "metadata": {},
   "outputs": [
    {
     "name": "stdout",
     "output_type": "stream",
     "text": [
      "1581\n",
      "3819\n"
     ]
    }
   ],
   "source": [
    "item_list = list(set(list(user_item_df['asin'])))\n",
    "user_list = list(set(list(user_item_df['reviewerID'])))\n",
    "user_num = len(user_list)\n",
    "item_num = len(item_list)\n",
    "print(len(item_list))\n",
    "print(len(user_list))"
   ]
  },
  {
   "cell_type": "code",
   "execution_count": 81,
   "metadata": {},
   "outputs": [],
   "source": [
    "# user, itemをID化する\n",
    "user_item_list = []\n",
    "for row in user_item_df.values:\n",
    "    user = user_list.index(row[0])\n",
    "    item = item_list.index(row[1])\n",
    "    user_item_list.append([user, item])\n",
    "\n",
    "user_item_df = pd.DataFrame(np.array(user_item_list), \n",
    "                            columns = ['reviewerID', 'asin'])"
   ]
  },
  {
   "cell_type": "code",
   "execution_count": 82,
   "metadata": {},
   "outputs": [
    {
     "data": {
      "text/html": [
       "<div>\n",
       "<style scoped>\n",
       "    .dataframe tbody tr th:only-of-type {\n",
       "        vertical-align: middle;\n",
       "    }\n",
       "\n",
       "    .dataframe tbody tr th {\n",
       "        vertical-align: top;\n",
       "    }\n",
       "\n",
       "    .dataframe thead th {\n",
       "        text-align: right;\n",
       "    }\n",
       "</style>\n",
       "<table border=\"1\" class=\"dataframe\">\n",
       "  <thead>\n",
       "    <tr style=\"text-align: right;\">\n",
       "      <th></th>\n",
       "      <th>reviewerID</th>\n",
       "      <th>asin</th>\n",
       "    </tr>\n",
       "  </thead>\n",
       "  <tbody>\n",
       "    <tr>\n",
       "      <th>0</th>\n",
       "      <td>1558</td>\n",
       "      <td>790</td>\n",
       "    </tr>\n",
       "    <tr>\n",
       "      <th>1</th>\n",
       "      <td>444</td>\n",
       "      <td>790</td>\n",
       "    </tr>\n",
       "    <tr>\n",
       "      <th>2</th>\n",
       "      <td>2359</td>\n",
       "      <td>790</td>\n",
       "    </tr>\n",
       "    <tr>\n",
       "      <th>3</th>\n",
       "      <td>3484</td>\n",
       "      <td>790</td>\n",
       "    </tr>\n",
       "    <tr>\n",
       "      <th>4</th>\n",
       "      <td>2359</td>\n",
       "      <td>790</td>\n",
       "    </tr>\n",
       "  </tbody>\n",
       "</table>\n",
       "</div>"
      ],
      "text/plain": [
       "   reviewerID  asin\n",
       "0        1558   790\n",
       "1         444   790\n",
       "2        2359   790\n",
       "3        3484   790\n",
       "4        2359   790"
      ]
     },
     "execution_count": 82,
     "metadata": {},
     "output_type": "execute_result"
    }
   ],
   "source": [
    "user_item_df.head()"
   ]
  },
  {
   "cell_type": "code",
   "execution_count": 83,
   "metadata": {},
   "outputs": [
    {
     "name": "stdout",
     "output_type": "stream",
     "text": [
      "train 17139\n",
      "test 17139\n"
     ]
    }
   ],
   "source": [
    "user_item_df = user_item_df.take(np.random.permutation(len(user_item_df)))\n",
    "train_num = int(0.5 * len(user_item_df))\n",
    "user_item_train_df = user_item_df[0:train_num]\n",
    "user_item_test_df = user_item_df[train_num:]\n",
    "\n",
    "print('train {}'.format(train_num))\n",
    "print('test {}'.format(len(user_item_test)))"
   ]
  },
  {
   "cell_type": "code",
   "execution_count": 84,
   "metadata": {},
   "outputs": [
    {
     "name": "stdout",
     "output_type": "stream",
     "text": [
      "CPU times: user 10.9 s, sys: 228 ms, total: 11.1 s\n",
      "Wall time: 11.4 s\n"
     ]
    }
   ],
   "source": [
    "%%time\n",
    "# negative sampling\n",
    "implicit_feed = [list(r) for r in user_item_df.values]\n",
    "user_item_train_nega = []\n",
    "\n",
    "\n",
    "count = 0\n",
    "while count < 1000:\n",
    "#while count < train_num:\n",
    "    #user = user_list[np.random.randint(user_num)]\n",
    "    #item = item_list[np.random.randint(item_num)]\n",
    "    user = np.random.randint(user_num)\n",
    "    item = np.random.randint(item_num)\n",
    "    if [user, item] in implicit_feed:\n",
    "        continue\n",
    "    if [user, item] in user_item_train_nega:\n",
    "        continue\n",
    "    \n",
    "    user_item_train_nega.append([user, item])\n",
    "    count += 1\n",
    "\n",
    "user_item_train_nega_df = pd.DataFrame(user_item_train_nega, columns=['reviewerID', 'asin'])\n",
    "user_item_train_nega_df.head()"
   ]
  },
  {
   "cell_type": "code",
   "execution_count": 86,
   "metadata": {},
   "outputs": [],
   "source": [
    "# データに含まれるuser-item1, item2, item3, ...を返す\n",
    "# 辞書\n",
    "def user_aggregate_item(df):\n",
    "    user_items_dict = {}\n",
    "    #for user in user_list:\n",
    "    for i in range(len(user_list)):\n",
    "        items_df = df[df['reviewerID'] == i]\n",
    "        user_items_dict[i] = list(items_df['asin'])\n",
    "    return user_items_dict\n",
    "\n",
    "user_items_nega_dict = user_aggregate_item(user_item_train_nega_df)\n",
    "user_items_test_dict = user_aggregate_item(user_item_test_df)"
   ]
  },
  {
   "cell_type": "code",
   "execution_count": null,
   "metadata": {},
   "outputs": [],
   "source": []
  },
  {
   "cell_type": "code",
   "execution_count": null,
   "metadata": {},
   "outputs": [],
   "source": []
  },
  {
   "cell_type": "markdown",
   "metadata": {},
   "source": [
    "# Evaluation"
   ]
  },
  {
   "cell_type": "code",
   "execution_count": 217,
   "metadata": {},
   "outputs": [],
   "source": [
    "def topn_precision(model, user_items_dict, n=10):\n",
    "    # user-itemの組に対して予測\n",
    "    #for user in user_list:\n",
    "    #    for item in item_list:\n",
    "    precision_sum = 0\n",
    "    not_count = 0\n",
    "    with torch.no_grad():\n",
    "        \n",
    "        batch_size = 512\n",
    "        \n",
    "        item_index = [i for i in range(len(item_list))]\n",
    "        for i in range(len(user_list)):\n",
    "            if len(user_items_dict[i]) == 0:\n",
    "                not_count += 1\n",
    "                continue\n",
    "                \n",
    "            pred = torch.tensor([])\n",
    "            \n",
    "            for j in range(int(len(item_list) / batch_size) + 1):\n",
    "                # modelにuser,itemを入力\n",
    "                # batchでやると速い\n",
    "                user_tensor = torch.tensor([i for k in range(batch_size)], dtype=torch.long, device=device)\n",
    "                item_tensor = torch.tensor(item_index[j*batch_size : (j+1)*batch_size], \n",
    "                                          dtype=torch.long, device=device)\n",
    "            \n",
    "                if len(user_tensor) > len(item_tensor):\n",
    "                    user_tensor = torch.tensor([i for k in range(len(item_tensor))], \n",
    "                                           dtype=torch.long, device=device)\n",
    "                \n",
    "                pred = torch.cat([pred, model.predict(user_tensor, item_tensor)])\n",
    "                \n",
    "            # 予測をソート\n",
    "            sorted_idx = np.argsort(np.array(pred))[::-1]\n",
    "            \n",
    "            # topnにtarget userの推薦アイテムがいくつ含まれているか\n",
    "            topn_idx = sorted_idx[:n]         \n",
    "            hit = len(set(topn_idx) & set(user_items_dict[i]))\n",
    "            precision = hit / len(user_items_dict[i])\n",
    "            precision_sum += precision\n",
    "                \n",
    "    return precision_sum / (len(user_list) - not_count)\n",
    "    \n",
    "    \n",
    "def topn_recall(n=10):\n",
    "    return 0"
   ]
  },
  {
   "cell_type": "code",
   "execution_count": 179,
   "metadata": {},
   "outputs": [],
   "source": [
    "bpr = BPR(2, len(user_list), len(item_list))"
   ]
  },
  {
   "cell_type": "code",
   "execution_count": 219,
   "metadata": {},
   "outputs": [
    {
     "name": "stdout",
     "output_type": "stream",
     "text": [
      "CPU times: user 3.2 s, sys: 14.5 ms, total: 3.21 s\n",
      "Wall time: 3.24 s\n"
     ]
    },
    {
     "data": {
      "text/plain": [
       "0.012993807854078127"
      ]
     },
     "execution_count": 219,
     "metadata": {},
     "output_type": "execute_result"
    }
   ],
   "source": [
    "%time topn_precision(bpr, user_items_test_dict)"
   ]
  },
  {
   "cell_type": "code",
   "execution_count": 220,
   "metadata": {},
   "outputs": [],
   "source": [
    "import evaluate"
   ]
  },
  {
   "cell_type": "code",
   "execution_count": 235,
   "metadata": {},
   "outputs": [],
   "source": [
    "reload(evaluate)\n",
    "eval_model = evaluate.Evaluater()"
   ]
  },
  {
   "cell_type": "code",
   "execution_count": 236,
   "metadata": {},
   "outputs": [
    {
     "name": "stdout",
     "output_type": "stream",
     "text": [
      "CPU times: user 3.29 s, sys: 31.9 ms, total: 3.32 s\n",
      "Wall time: 3.4 s\n"
     ]
    },
    {
     "data": {
      "text/plain": [
       "0.005343115124556097"
      ]
     },
     "execution_count": 236,
     "metadata": {},
     "output_type": "execute_result"
    }
   ],
   "source": [
    "%time eval_model.topn_precision(bpr)"
   ]
  },
  {
   "cell_type": "code",
   "execution_count": null,
   "metadata": {},
   "outputs": [],
   "source": []
  },
  {
   "cell_type": "markdown",
   "metadata": {},
   "source": [
    "# Training"
   ]
  },
  {
   "cell_type": "code",
   "execution_count": 249,
   "metadata": {},
   "outputs": [],
   "source": [
    "def train(batch, y_train, loss_func, optim, model):\n",
    "    optim.zero_grad()\n",
    "    \n",
    "    posi_batch, nega_batch = batch\n",
    "    user_tensor = torch.tensor(posi_batch[:, 0], dtype=torch.long, device=device)\n",
    "    item_tensor = torch.tensor(posi_batch[:, 1], dtype=torch.long, device=device)\n",
    "    nega_item_tensor = torch.tensor(nega_batch[:, 1], dtype=torch.long, device=device)\n",
    "    \n",
    "    pred = model(user_tensor, item_tensor, nega_item_tensor)\n",
    "    #print(pred)\n",
    "    loss = loss_func(pred, y_train)\n",
    "    loss.backward()\n",
    "    #print(loss)\n",
    "    optim.step()\n",
    "    \n",
    "    return loss"
   ]
  },
  {
   "cell_type": "code",
   "execution_count": 247,
   "metadata": {},
   "outputs": [],
   "source": [
    "def iterate_train(model, lr, batch_size=2, print_every=2000, plot_every=1000):\n",
    "    # define optim\n",
    "    optimizer = optim.Adam(model.parameters(), lr=lr)\n",
    "    \n",
    "    # define loss_func\n",
    "    # BPRの場合targetを全て1にする\n",
    "    loss_func = nn.BCELoss()\n",
    "    \n",
    "    print_loss_total = 0\n",
    "    plot_loss_list = []\n",
    "    plot_loss_total = 0\n",
    "    \n",
    "    start_time = time.time()\n",
    "    for i in range(int(train_num / batch_size) + 1):\n",
    "        batch = get_batch(batch_size=batch_size)\n",
    "        #batch = dataset.get_batch(batch_size=batch_size)\n",
    "        \n",
    "        # BPRなのでtargetは全部1\n",
    "        y_train = torch.ones(batch_size, dtype=torch.float, device=device)\n",
    "        \n",
    "        loss = train(batch, y_train, loss_func, optimizer, model)\n",
    "      \n",
    "        print_loss_total += loss\n",
    "        plot_loss_total += loss\n",
    "        \n",
    "\n",
    "        # print_everyごとに現在の平均のlossと、時間、dataset全体に対する進捗(%)を出力\n",
    "        if i % print_every == 0:\n",
    "            runtime = time.time() - start_time\n",
    "            mi, sec = time_since(runtime)\n",
    "            avg_loss = print_loss_total / print_every\n",
    "            data_percent = int(i * batch_size / train_num * 100)\n",
    "            print('train loss: {:e}    processed: {}({}%)    {}m{}sec'.format(\n",
    "                avg_loss, i*batch_size, data_percent, mi, sec))\n",
    "            print_loss_total = 0\n",
    "\n",
    "        # plot_everyごとplot用のlossをリストに記録しておく\n",
    "        if i % plot_every == 0:\n",
    "            avg_loss = plot_loss_total / plot_every\n",
    "            plot_loss_list.append(avg_loss)\n",
    "            plot_loss_total = 0\n",
    "            \n",
    "def time_since(runtime):\n",
    "    mi = int(runtime / 60)\n",
    "    sec = int(runtime - mi * 60)\n",
    "    return (mi, sec)"
   ]
  },
  {
   "cell_type": "code",
   "execution_count": 251,
   "metadata": {},
   "outputs": [
    {
     "name": "stdout",
     "output_type": "stream",
     "text": [
      "0.005295880003578183\n",
      "train loss: 1.126044e-03    processed: 0(0%)    0m0sec\n",
      "0.005138043455325295\n"
     ]
    }
   ],
   "source": [
    "bpr = BPR(16, len(user_list), len(item_list))\n",
    "score = topn_precision(bpr, user_items_test_dict)\n",
    "print(score)\n",
    "iterate_train(bpr, 0.001, batch_size=128)\n",
    "print(topn_precision(bpr, user_items_test_dict))"
   ]
  },
  {
   "cell_type": "code",
   "execution_count": 111,
   "metadata": {},
   "outputs": [],
   "source": [
    "import training"
   ]
  },
  {
   "cell_type": "code",
   "execution_count": 116,
   "metadata": {},
   "outputs": [],
   "source": [
    "reload(training)\n",
    "iterater = training.TrainIterater(batch_size=3)"
   ]
  },
  {
   "cell_type": "code",
   "execution_count": 118,
   "metadata": {},
   "outputs": [
    {
     "name": "stdout",
     "output_type": "stream",
     "text": [
      "train loss: 4.300424e-04    processed: 0(0%)    0m0sec\n",
      "train loss: 1.059903e+00    processed: 6000(35%)    0m2sec\n",
      "train loss: 1.026572e+00    processed: 12000(70%)    0m4sec\n"
     ]
    }
   ],
   "source": [
    "iterater.iterate_train(bpr, 0.001)"
   ]
  },
  {
   "cell_type": "code",
   "execution_count": null,
   "metadata": {},
   "outputs": [],
   "source": []
  },
  {
   "cell_type": "code",
   "execution_count": null,
   "metadata": {},
   "outputs": [],
   "source": []
  },
  {
   "cell_type": "code",
   "execution_count": null,
   "metadata": {},
   "outputs": [],
   "source": []
  },
  {
   "cell_type": "markdown",
   "metadata": {},
   "source": [
    "# Dataload"
   ]
  },
  {
   "cell_type": "code",
   "execution_count": 73,
   "metadata": {},
   "outputs": [],
   "source": [
    "#user_items_nega_dict = user_aggregate_item(user_item_train_nega)\n",
    "def get_batch(batch_size=2):\n",
    "    batch_idx = np.random.permutation(train_num)[:batch_size]\n",
    "    batch = user_item_train.values[batch_idx]\n",
    "    nega_batch = get_nega_batch(batch[:, 0])\n",
    "    \n",
    "    return batch, nega_batch"
   ]
  },
  {
   "cell_type": "code",
   "execution_count": 75,
   "metadata": {},
   "outputs": [],
   "source": [
    "def get_nega_batch(users):\n",
    "    nega_batch = []\n",
    "    for user in users:\n",
    "        nega_items = user_items_nega_dict[user]\n",
    "        #print(nega_items)\n",
    "        \n",
    "        # ここ直す\n",
    "        if len(nega_items) == 0:\n",
    "            #nega_batch.append([user, item_list[np.random.randint(item_num)]])\n",
    "            nega_batch.append([user, np.random.randint(item_num)])\n",
    "            continue\n",
    "        \n",
    "        nega_item = nega_items[np.random.randint(len(nega_items))]\n",
    "        nega_batch.append([user, nega_item])\n",
    "    \n",
    "    return np.array(nega_batch)"
   ]
  },
  {
   "cell_type": "code",
   "execution_count": 49,
   "metadata": {},
   "outputs": [],
   "source": [
    "import dataloader"
   ]
  },
  {
   "cell_type": "code",
   "execution_count": 62,
   "metadata": {},
   "outputs": [],
   "source": [
    "reload(dataloader)\n",
    "dataset = dataloader.AmazonDataset('./data')"
   ]
  },
  {
   "cell_type": "code",
   "execution_count": 69,
   "metadata": {},
   "outputs": [
    {
     "data": {
      "text/plain": [
       "(array([[2889,    6],\n",
       "        [3704,  425],\n",
       "        [ 724, 1532],\n",
       "        [3632, 1525],\n",
       "        [  49, 1256],\n",
       "        [ 774,  471],\n",
       "        [2932, 1083],\n",
       "        [ 590,  425],\n",
       "        [2867, 1409],\n",
       "        [2975,  678]]), array([[2889,  483],\n",
       "        [3704, 1026],\n",
       "        [ 724,  261],\n",
       "        [3632,  459],\n",
       "        [  49, 1394],\n",
       "        [ 774, 1458],\n",
       "        [2932, 1256],\n",
       "        [ 590, 1211],\n",
       "        [2867,  680],\n",
       "        [2975, 1206]]))"
      ]
     },
     "execution_count": 69,
     "metadata": {},
     "output_type": "execute_result"
    }
   ],
   "source": [
    "dataset.get_batch(batch_size=10)"
   ]
  },
  {
   "cell_type": "code",
   "execution_count": null,
   "metadata": {},
   "outputs": [],
   "source": []
  }
 ],
 "metadata": {
  "kernelspec": {
   "display_name": "Python 3",
   "language": "python",
   "name": "python3"
  },
  "language_info": {
   "codemirror_mode": {
    "name": "ipython",
    "version": 3
   },
   "file_extension": ".py",
   "mimetype": "text/x-python",
   "name": "python",
   "nbconvert_exporter": "python",
   "pygments_lexer": "ipython3",
   "version": "3.7.2"
  }
 },
 "nbformat": 4,
 "nbformat_minor": 4
}
