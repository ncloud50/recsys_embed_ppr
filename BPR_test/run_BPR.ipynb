{
 "cells": [
  {
   "cell_type": "code",
   "execution_count": 1,
   "metadata": {},
   "outputs": [],
   "source": [
    "from bpr_model import BPR\n",
    "from dataloader import AmazonDataset\n",
    "from training import TrainIterater\n",
    "from evaluate import Evaluater"
   ]
  },
  {
   "cell_type": "code",
   "execution_count": 4,
   "metadata": {},
   "outputs": [],
   "source": [
    "dataset = AmazonDataset('./data')\n",
    "embedding_dim = 32\n",
    "bpr = BPR(embedding_dim, len(dataset.user_list), len(dataset.item_list))\n",
    "iterater = TrainIterater(batch_size=256)\n",
    "eval_model = Evaluater()"
   ]
  },
  {
   "cell_type": "code",
   "execution_count": 5,
   "metadata": {},
   "outputs": [
    {
     "name": "stdout",
     "output_type": "stream",
     "text": [
      "epoch: 9  precision: 0.006164438103745469\n",
      "epoch: 19  precision: 0.009722765768796956\n",
      "epoch: 29  precision: 0.021900472536780083\n",
      "epoch: 39  precision: 0.059409513995345345\n",
      "epoch: 49  precision: 0.12715206077692756\n",
      "epoch: 59  precision: 0.2058142700795201\n",
      "epoch: 69  precision: 0.2287526734734176\n",
      "epoch: 79  precision: 0.2335990589173227\n",
      "epoch: 89  precision: 0.24049274683482094\n",
      "epoch: 99  precision: 0.24021203959155837\n"
     ]
    },
    {
     "data": {
      "image/png": "[encoded data removed]",
      "text/plain": [
       "<Figure size 432x288 with 1 Axes>"
      ]
     },
     "metadata": {
      "needs_background": "light"
     },
     "output_type": "display_data"
    },
    {
     "data": {
      "image/png": "[encoded data removed]",
      "text/plain": [
       "<Figure size 432x288 with 1 Axes>"
      ]
     },
     "metadata": {
      "needs_background": "light"
     },
     "output_type": "display_data"
    }
   ],
   "source": [
    "# ハイパラ\n",
    "# embed_dim\n",
    "# batch_size\n",
    "# weight_decay, lr, warmup, lr_decay_every, lr_decay_rate\n",
    "\n",
    "iterater.iterate_epoch(bpr, lr=0.001, epoch=100, weight_decay=0.0001, eval_every=10)"
   ]
  },
  {
   "cell_type": "code",
   "execution_count": 15,
   "metadata": {},
   "outputs": [],
   "source": [
    "import pandas as pd\n",
    "import numpy as np\n",
    "import pickle\n",
    "\n",
    "params = pd.read_csv('./result/hyparams_result.csv')"
   ]
  },
  {
   "cell_type": "code",
   "execution_count": 9,
   "metadata": {},
   "outputs": [
    {
     "output_type": "execute_result",
     "data": {
      "text/plain": "18"
     },
     "metadata": {},
     "execution_count": 9
    }
   ],
   "source": [
    "np.argmin(params['value'])"
   ]
  },
  {
   "cell_type": "code",
   "execution_count": 13,
   "metadata": {},
   "outputs": [
    {
     "output_type": "execute_result",
     "data": {
      "text/plain": "    Unnamed: 0  number     value              datetime_start  \\\n18          18      18 -0.325806  2020-07-12 12:27:43.894090   \n\n             datetime_complete                   duration  params_batch_size  \\\n18  2020-07-12 12:49:27.591464  0 days 00:21:43.697374000              192.0   \n\n    params_embedding_dim  params_lr  params_lr_decay_every  \\\n18                  48.0   0.002288                      1   \n\n    params_lr_decay_rate  params_warmup  params_weight_decay     state  \n18              0.858685            356             0.000001  COMPLETE  ",
      "text/html": "<div>\n<style scoped>\n    .dataframe tbody tr th:only-of-type {\n        vertical-align: middle;\n    }\n\n    .dataframe tbody tr th {\n        vertical-align: top;\n    }\n\n    .dataframe thead th {\n        text-align: right;\n    }\n</style>\n<table border=\"1\" class=\"dataframe\">\n  <thead>\n    <tr style=\"text-align: right;\">\n      <th></th>\n      <th>Unnamed: 0</th>\n      <th>number</th>\n      <th>value</th>\n      <th>datetime_start</th>\n      <th>datetime_complete</th>\n      <th>duration</th>\n      <th>params_batch_size</th>\n      <th>params_embedding_dim</th>\n      <th>params_lr</th>\n      <th>params_lr_decay_every</th>\n      <th>params_lr_decay_rate</th>\n      <th>params_warmup</th>\n      <th>params_weight_decay</th>\n      <th>state</th>\n    </tr>\n  </thead>\n  <tbody>\n    <tr>\n      <th>18</th>\n      <td>18</td>\n      <td>18</td>\n      <td>-0.325806</td>\n      <td>2020-07-12 12:27:43.894090</td>\n      <td>2020-07-12 12:49:27.591464</td>\n      <td>0 days 00:21:43.697374000</td>\n      <td>192.0</td>\n      <td>48.0</td>\n      <td>0.002288</td>\n      <td>1</td>\n      <td>0.858685</td>\n      <td>356</td>\n      <td>0.000001</td>\n      <td>COMPLETE</td>\n    </tr>\n  </tbody>\n</table>\n</div>"
     },
     "metadata": {},
     "execution_count": 13
    }
   ],
   "source": [
    "params[18:19]"
   ]
  },
  {
   "cell_type": "code",
   "execution_count": 16,
   "metadata": {},
   "outputs": [],
   "source": [
    "best_param = {'batch_size': 192,\n",
    "                'embedding_dim': 48,\n",
    "                'lr': 0.002288,\n",
    "                'lr_decay_every': 1,\n",
    "                'lr_decay_rate': 0.858685,\n",
    "                'warmup': 356,\n",
    "                'weight_decay': 0.000001}\n",
    "\n",
    "with open('./result/best_param.pickle', 'wb') as f:\n",
    "    pickle.dump(best_param, f)"
   ]
  },
  {
   "cell_type": "code",
   "execution_count": null,
   "metadata": {},
   "outputs": [],
   "source": []
  }
 ],
 "metadata": {
  "kernelspec": {
   "display_name": "Python 3",
   "language": "python",
   "name": "python3"
  },
  "language_info": {
   "codemirror_mode": {
    "name": "ipython",
    "version": 3
   },
   "file_extension": ".py",
   "mimetype": "text/x-python",
   "name": "python",
   "nbconvert_exporter": "python",
   "pygments_lexer": "ipython3",
   "version": "3.7.6-final"
  }
 },
 "nbformat": 4,
 "nbformat_minor": 4
}