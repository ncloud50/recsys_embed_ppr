{
 "cells": [
  {
   "cell_type": "code",
   "execution_count": 1,
   "metadata": {},
   "outputs": [],
   "source": [
    "from bpr_model import BPR\n",
    "from dataloader import AmazonDataset\n",
    "from training import TrainIterater\n",
    "from evaluate import Evaluater\n",
    "\n",
    "import time\n",
    "import optuna\n",
    "import torch\n",
    "device = torch.device(\"cuda\" if torch.cuda.is_available() else \"cpu\")"
   ]
  },
  {
   "cell_type": "code",
   "execution_count": 2,
   "metadata": {},
   "outputs": [],
   "source": [
    "dataset = AmazonDataset('./data')"
   ]
  },
  {
   "cell_type": "markdown",
   "metadata": {},
   "source": [
    "early stopping するか？"
   ]
  },
  {
   "cell_type": "code",
   "execution_count": 6,
   "metadata": {},
   "outputs": [],
   "source": [
    "# ハイパラ\n",
    "# embed_dim\n",
    "# batch_size\n",
    "# weight_decay, lr, warmup, lr_decay_every, lr_decay_rate\n",
    "# optimizer\n",
    "def time_since(runtime):\n",
    "    mi = int(runtime / 60)\n",
    "    sec = int(runtime - mi * 60)\n",
    "    return (mi, sec)\n",
    "\n",
    "def objective(trial):\n",
    "    start = time.time()\n",
    "    \n",
    "    embedding_dim = trial.suggest_discrete_uniform('embedding_dim', 16, 64, 16)\n",
    "    bpr = BPR(int(embedding_dim), len(dataset.user_list), len(dataset.item_list)).to(device)\n",
    "    \n",
    "    batch_size = trial.suggest_discrete_uniform('batch_size', 64, 256, 64)\n",
    "    iterater = TrainIterater(batch_size=int(batch_size))\n",
    "    \n",
    "    lr= trial.suggest_loguniform('lr', 1e-5, 1e-2)\n",
    "    weight_decay = trial.suggest_loguniform('weight_decay', 1e-6, 1e-2)\n",
    "    warmup = trial.suggest_int('warmup', 100, 500)\n",
    "    #warmup = trial.suggest_int('warmup', 1, 5)\n",
    "    lr_decay_every = trial.suggest_int('lr_decay_every', 1, 5)\n",
    "    lr_decay_rate = trial.suggest_uniform('lr_decay_rate', 0.5, 1)\n",
    "    \n",
    "    score =iterater.iterate_epoch(bpr, lr=lr, epoch=3000, weight_decay=weight_decay, warmup=warmup,\n",
    "                           lr_decay_rate=lr_decay_rate, lr_decay_every=lr_decay_every, eval_every=100)\n",
    "    \n",
    "    mi, sec = time_since(time.time() - start)\n",
    "    print('{}m{}sec'.format(mi, sec))\n",
    "    \n",
    "    return -1 * score"
   ]
  },
  {
   "cell_type": "code",
   "execution_count": null,
   "metadata": {},
   "outputs": [],
   "source": [
    "study = optuna.create_study()\n",
    "study.optimize(objective, n_trials=20)"
   ]
  },
  {
   "cell_type": "code",
   "execution_count": 5,
   "metadata": {},
   "outputs": [],
   "source": [
    "df = study.trials_dataframe() # pandasのDataFrame形式\n",
    "df.to_csv('hyparams_result.csv')"
   ]
  },
  {
   "cell_type": "code",
   "execution_count": null,
   "metadata": {},
   "outputs": [],
   "source": []
  }
 ],
 "metadata": {
  "kernelspec": {
   "display_name": "Python 3",
   "language": "python",
   "name": "python3"
  },
  "language_info": {
   "codemirror_mode": {
    "name": "ipython",
    "version": 3
   },
   "file_extension": ".py",
   "mimetype": "text/x-python",
   "name": "python",
   "nbconvert_exporter": "python",
   "pygments_lexer": "ipython3",
   "version": "3.7.6"
  }
 },
 "nbformat": 4,
 "nbformat_minor": 4
}
